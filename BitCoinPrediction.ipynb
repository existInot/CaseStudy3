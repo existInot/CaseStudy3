{
  "nbformat": 4,
  "nbformat_minor": 0,
  "metadata": {
    "colab": {
      "name": "BitCoinPrediction.ipynb",
      "provenance": [],
      "collapsed_sections": []
    },
    "kernelspec": {
      "name": "python3",
      "display_name": "Python 3"
    },
    "language_info": {
      "name": "python"
    }
  },
  "cells": [
    {
      "cell_type": "code",
      "source": [
        "import pandas as pd\n",
        "import numpy as np"
      ],
      "metadata": {
        "id": "7RRz5LR-I2VB"
      },
      "execution_count": 2,
      "outputs": []
    },
    {
      "cell_type": "code",
      "execution_count": 1,
      "metadata": {
        "colab": {
          "base_uri": "https://localhost:8080/"
        },
        "id": "q5OyqEN1H51s",
        "outputId": "e8ee9d6e-aa34-4e6e-a216-dbb581cf0596"
      },
      "outputs": [
        {
          "output_type": "stream",
          "name": "stdout",
          "text": [
            "--2022-07-08 04:48:23--  https://raw.githubusercontent.com/mrdbourke/tensorflow-deep-learning/main/extras/BTC_USD_2013-10-01_2021-05-18-CoinDesk.csv\n",
            "Resolving raw.githubusercontent.com (raw.githubusercontent.com)... 185.199.110.133, 185.199.109.133, 185.199.111.133, ...\n",
            "Connecting to raw.githubusercontent.com (raw.githubusercontent.com)|185.199.110.133|:443... connected.\n",
            "HTTP request sent, awaiting response... 200 OK\n",
            "Length: 178509 (174K) [text/plain]\n",
            "Saving to: ‘BTC_USD_2013-10-01_2021-05-18-CoinDesk.csv’\n",
            "\n",
            "BTC_USD_2013-10-01_ 100%[===================>] 174.33K  --.-KB/s    in 0.03s   \n",
            "\n",
            "2022-07-08 04:48:24 (6.00 MB/s) - ‘BTC_USD_2013-10-01_2021-05-18-CoinDesk.csv’ saved [178509/178509]\n",
            "\n"
          ]
        }
      ],
      "source": [
        "!wget https://raw.githubusercontent.com/mrdbourke/tensorflow-deep-learning/main/extras/BTC_USD_2013-10-01_2021-05-18-CoinDesk.csv "
      ]
    },
    {
      "cell_type": "code",
      "source": [
        "df = pd.read_csv(\"/content/BTC_USD_2013-10-01_2021-05-18-CoinDesk.csv\", \n",
        "                 parse_dates=[\"Date\"], \n",
        "                 index_col=[\"Date\"]) # parse the date column (tell pandas column 1 is a datetime)\n",
        "df.head()"
      ],
      "metadata": {
        "colab": {
          "base_uri": "https://localhost:8080/",
          "height": 238
        },
        "id": "ymQRsnSoIy7Z",
        "outputId": "3a58a486-c904-4224-9064-c86adf641f0c"
      },
      "execution_count": 3,
      "outputs": [
        {
          "output_type": "execute_result",
          "data": {
            "text/plain": [
              "           Currency  Closing Price (USD)  24h Open (USD)  24h High (USD)  \\\n",
              "Date                                                                       \n",
              "2013-10-01      BTC            123.65499       124.30466       124.75166   \n",
              "2013-10-02      BTC            125.45500       123.65499       125.75850   \n",
              "2013-10-03      BTC            108.58483       125.45500       125.66566   \n",
              "2013-10-04      BTC            118.67466       108.58483       118.67500   \n",
              "2013-10-05      BTC            121.33866       118.67466       121.93633   \n",
              "\n",
              "            24h Low (USD)  \n",
              "Date                       \n",
              "2013-10-01      122.56349  \n",
              "2013-10-02      123.63383  \n",
              "2013-10-03       83.32833  \n",
              "2013-10-04      107.05816  \n",
              "2013-10-05      118.00566  "
            ],
            "text/html": [
              "\n",
              "  <div id=\"df-72a6284b-3db2-48fd-9d8a-bd08f111ab79\">\n",
              "    <div class=\"colab-df-container\">\n",
              "      <div>\n",
              "<style scoped>\n",
              "    .dataframe tbody tr th:only-of-type {\n",
              "        vertical-align: middle;\n",
              "    }\n",
              "\n",
              "    .dataframe tbody tr th {\n",
              "        vertical-align: top;\n",
              "    }\n",
              "\n",
              "    .dataframe thead th {\n",
              "        text-align: right;\n",
              "    }\n",
              "</style>\n",
              "<table border=\"1\" class=\"dataframe\">\n",
              "  <thead>\n",
              "    <tr style=\"text-align: right;\">\n",
              "      <th></th>\n",
              "      <th>Currency</th>\n",
              "      <th>Closing Price (USD)</th>\n",
              "      <th>24h Open (USD)</th>\n",
              "      <th>24h High (USD)</th>\n",
              "      <th>24h Low (USD)</th>\n",
              "    </tr>\n",
              "    <tr>\n",
              "      <th>Date</th>\n",
              "      <th></th>\n",
              "      <th></th>\n",
              "      <th></th>\n",
              "      <th></th>\n",
              "      <th></th>\n",
              "    </tr>\n",
              "  </thead>\n",
              "  <tbody>\n",
              "    <tr>\n",
              "      <th>2013-10-01</th>\n",
              "      <td>BTC</td>\n",
              "      <td>123.65499</td>\n",
              "      <td>124.30466</td>\n",
              "      <td>124.75166</td>\n",
              "      <td>122.56349</td>\n",
              "    </tr>\n",
              "    <tr>\n",
              "      <th>2013-10-02</th>\n",
              "      <td>BTC</td>\n",
              "      <td>125.45500</td>\n",
              "      <td>123.65499</td>\n",
              "      <td>125.75850</td>\n",
              "      <td>123.63383</td>\n",
              "    </tr>\n",
              "    <tr>\n",
              "      <th>2013-10-03</th>\n",
              "      <td>BTC</td>\n",
              "      <td>108.58483</td>\n",
              "      <td>125.45500</td>\n",
              "      <td>125.66566</td>\n",
              "      <td>83.32833</td>\n",
              "    </tr>\n",
              "    <tr>\n",
              "      <th>2013-10-04</th>\n",
              "      <td>BTC</td>\n",
              "      <td>118.67466</td>\n",
              "      <td>108.58483</td>\n",
              "      <td>118.67500</td>\n",
              "      <td>107.05816</td>\n",
              "    </tr>\n",
              "    <tr>\n",
              "      <th>2013-10-05</th>\n",
              "      <td>BTC</td>\n",
              "      <td>121.33866</td>\n",
              "      <td>118.67466</td>\n",
              "      <td>121.93633</td>\n",
              "      <td>118.00566</td>\n",
              "    </tr>\n",
              "  </tbody>\n",
              "</table>\n",
              "</div>\n",
              "      <button class=\"colab-df-convert\" onclick=\"convertToInteractive('df-72a6284b-3db2-48fd-9d8a-bd08f111ab79')\"\n",
              "              title=\"Convert this dataframe to an interactive table.\"\n",
              "              style=\"display:none;\">\n",
              "        \n",
              "  <svg xmlns=\"http://www.w3.org/2000/svg\" height=\"24px\"viewBox=\"0 0 24 24\"\n",
              "       width=\"24px\">\n",
              "    <path d=\"M0 0h24v24H0V0z\" fill=\"none\"/>\n",
              "    <path d=\"M18.56 5.44l.94 2.06.94-2.06 2.06-.94-2.06-.94-.94-2.06-.94 2.06-2.06.94zm-11 1L8.5 8.5l.94-2.06 2.06-.94-2.06-.94L8.5 2.5l-.94 2.06-2.06.94zm10 10l.94 2.06.94-2.06 2.06-.94-2.06-.94-.94-2.06-.94 2.06-2.06.94z\"/><path d=\"M17.41 7.96l-1.37-1.37c-.4-.4-.92-.59-1.43-.59-.52 0-1.04.2-1.43.59L10.3 9.45l-7.72 7.72c-.78.78-.78 2.05 0 2.83L4 21.41c.39.39.9.59 1.41.59.51 0 1.02-.2 1.41-.59l7.78-7.78 2.81-2.81c.8-.78.8-2.07 0-2.86zM5.41 20L4 18.59l7.72-7.72 1.47 1.35L5.41 20z\"/>\n",
              "  </svg>\n",
              "      </button>\n",
              "      \n",
              "  <style>\n",
              "    .colab-df-container {\n",
              "      display:flex;\n",
              "      flex-wrap:wrap;\n",
              "      gap: 12px;\n",
              "    }\n",
              "\n",
              "    .colab-df-convert {\n",
              "      background-color: #E8F0FE;\n",
              "      border: none;\n",
              "      border-radius: 50%;\n",
              "      cursor: pointer;\n",
              "      display: none;\n",
              "      fill: #1967D2;\n",
              "      height: 32px;\n",
              "      padding: 0 0 0 0;\n",
              "      width: 32px;\n",
              "    }\n",
              "\n",
              "    .colab-df-convert:hover {\n",
              "      background-color: #E2EBFA;\n",
              "      box-shadow: 0px 1px 2px rgba(60, 64, 67, 0.3), 0px 1px 3px 1px rgba(60, 64, 67, 0.15);\n",
              "      fill: #174EA6;\n",
              "    }\n",
              "\n",
              "    [theme=dark] .colab-df-convert {\n",
              "      background-color: #3B4455;\n",
              "      fill: #D2E3FC;\n",
              "    }\n",
              "\n",
              "    [theme=dark] .colab-df-convert:hover {\n",
              "      background-color: #434B5C;\n",
              "      box-shadow: 0px 1px 3px 1px rgba(0, 0, 0, 0.15);\n",
              "      filter: drop-shadow(0px 1px 2px rgba(0, 0, 0, 0.3));\n",
              "      fill: #FFFFFF;\n",
              "    }\n",
              "  </style>\n",
              "\n",
              "      <script>\n",
              "        const buttonEl =\n",
              "          document.querySelector('#df-72a6284b-3db2-48fd-9d8a-bd08f111ab79 button.colab-df-convert');\n",
              "        buttonEl.style.display =\n",
              "          google.colab.kernel.accessAllowed ? 'block' : 'none';\n",
              "\n",
              "        async function convertToInteractive(key) {\n",
              "          const element = document.querySelector('#df-72a6284b-3db2-48fd-9d8a-bd08f111ab79');\n",
              "          const dataTable =\n",
              "            await google.colab.kernel.invokeFunction('convertToInteractive',\n",
              "                                                     [key], {});\n",
              "          if (!dataTable) return;\n",
              "\n",
              "          const docLinkHtml = 'Like what you see? Visit the ' +\n",
              "            '<a target=\"_blank\" href=https://colab.research.google.com/notebooks/data_table.ipynb>data table notebook</a>'\n",
              "            + ' to learn more about interactive tables.';\n",
              "          element.innerHTML = '';\n",
              "          dataTable['output_type'] = 'display_data';\n",
              "          await google.colab.output.renderOutput(dataTable, element);\n",
              "          const docLink = document.createElement('div');\n",
              "          docLink.innerHTML = docLinkHtml;\n",
              "          element.appendChild(docLink);\n",
              "        }\n",
              "      </script>\n",
              "    </div>\n",
              "  </div>\n",
              "  "
            ]
          },
          "metadata": {},
          "execution_count": 3
        }
      ]
    },
    {
      "cell_type": "code",
      "source": [
        "df.info()"
      ],
      "metadata": {
        "colab": {
          "base_uri": "https://localhost:8080/"
        },
        "id": "_fMMPU1aI_mT",
        "outputId": "452fbfc5-d3c4-487d-ce7c-086666dfcd06"
      },
      "execution_count": 4,
      "outputs": [
        {
          "output_type": "stream",
          "name": "stdout",
          "text": [
            "<class 'pandas.core.frame.DataFrame'>\n",
            "DatetimeIndex: 2787 entries, 2013-10-01 to 2021-05-18\n",
            "Data columns (total 5 columns):\n",
            " #   Column               Non-Null Count  Dtype  \n",
            "---  ------               --------------  -----  \n",
            " 0   Currency             2787 non-null   object \n",
            " 1   Closing Price (USD)  2787 non-null   float64\n",
            " 2   24h Open (USD)       2787 non-null   float64\n",
            " 3   24h High (USD)       2787 non-null   float64\n",
            " 4   24h Low (USD)        2787 non-null   float64\n",
            "dtypes: float64(4), object(1)\n",
            "memory usage: 130.6+ KB\n"
          ]
        }
      ]
    },
    {
      "cell_type": "code",
      "source": [
        "len(df)"
      ],
      "metadata": {
        "colab": {
          "base_uri": "https://localhost:8080/"
        },
        "id": "VOyTLYNSJDIY",
        "outputId": "b950b0b4-2041-4bb1-fc2d-42715a419550"
      },
      "execution_count": 5,
      "outputs": [
        {
          "output_type": "execute_result",
          "data": {
            "text/plain": [
              "2787"
            ]
          },
          "metadata": {},
          "execution_count": 5
        }
      ]
    },
    {
      "cell_type": "code",
      "source": [
        "#Important factors in the types of time series \n",
        "# - Trend\n",
        "# - Seasnal\n",
        "# - Cyclic"
      ],
      "metadata": {
        "id": "V6j7rYFhJEz3"
      },
      "execution_count": 6,
      "outputs": []
    },
    {
      "cell_type": "code",
      "source": [
        "bitcoin_prices = pd.DataFrame(df[\"Closing Price (USD)\"]).rename(columns={\"Closing Price (USD)\": \"Price\"})\n",
        "bitcoin_prices.head()"
      ],
      "metadata": {
        "colab": {
          "base_uri": "https://localhost:8080/",
          "height": 238
        },
        "id": "3I1YWXc8JQtv",
        "outputId": "df896d4b-60bd-4430-848d-047e7f27086f"
      },
      "execution_count": 7,
      "outputs": [
        {
          "output_type": "execute_result",
          "data": {
            "text/plain": [
              "                Price\n",
              "Date                 \n",
              "2013-10-01  123.65499\n",
              "2013-10-02  125.45500\n",
              "2013-10-03  108.58483\n",
              "2013-10-04  118.67466\n",
              "2013-10-05  121.33866"
            ],
            "text/html": [
              "\n",
              "  <div id=\"df-9bf23f55-a0fe-4999-9eda-7595d078545c\">\n",
              "    <div class=\"colab-df-container\">\n",
              "      <div>\n",
              "<style scoped>\n",
              "    .dataframe tbody tr th:only-of-type {\n",
              "        vertical-align: middle;\n",
              "    }\n",
              "\n",
              "    .dataframe tbody tr th {\n",
              "        vertical-align: top;\n",
              "    }\n",
              "\n",
              "    .dataframe thead th {\n",
              "        text-align: right;\n",
              "    }\n",
              "</style>\n",
              "<table border=\"1\" class=\"dataframe\">\n",
              "  <thead>\n",
              "    <tr style=\"text-align: right;\">\n",
              "      <th></th>\n",
              "      <th>Price</th>\n",
              "    </tr>\n",
              "    <tr>\n",
              "      <th>Date</th>\n",
              "      <th></th>\n",
              "    </tr>\n",
              "  </thead>\n",
              "  <tbody>\n",
              "    <tr>\n",
              "      <th>2013-10-01</th>\n",
              "      <td>123.65499</td>\n",
              "    </tr>\n",
              "    <tr>\n",
              "      <th>2013-10-02</th>\n",
              "      <td>125.45500</td>\n",
              "    </tr>\n",
              "    <tr>\n",
              "      <th>2013-10-03</th>\n",
              "      <td>108.58483</td>\n",
              "    </tr>\n",
              "    <tr>\n",
              "      <th>2013-10-04</th>\n",
              "      <td>118.67466</td>\n",
              "    </tr>\n",
              "    <tr>\n",
              "      <th>2013-10-05</th>\n",
              "      <td>121.33866</td>\n",
              "    </tr>\n",
              "  </tbody>\n",
              "</table>\n",
              "</div>\n",
              "      <button class=\"colab-df-convert\" onclick=\"convertToInteractive('df-9bf23f55-a0fe-4999-9eda-7595d078545c')\"\n",
              "              title=\"Convert this dataframe to an interactive table.\"\n",
              "              style=\"display:none;\">\n",
              "        \n",
              "  <svg xmlns=\"http://www.w3.org/2000/svg\" height=\"24px\"viewBox=\"0 0 24 24\"\n",
              "       width=\"24px\">\n",
              "    <path d=\"M0 0h24v24H0V0z\" fill=\"none\"/>\n",
              "    <path d=\"M18.56 5.44l.94 2.06.94-2.06 2.06-.94-2.06-.94-.94-2.06-.94 2.06-2.06.94zm-11 1L8.5 8.5l.94-2.06 2.06-.94-2.06-.94L8.5 2.5l-.94 2.06-2.06.94zm10 10l.94 2.06.94-2.06 2.06-.94-2.06-.94-.94-2.06-.94 2.06-2.06.94z\"/><path d=\"M17.41 7.96l-1.37-1.37c-.4-.4-.92-.59-1.43-.59-.52 0-1.04.2-1.43.59L10.3 9.45l-7.72 7.72c-.78.78-.78 2.05 0 2.83L4 21.41c.39.39.9.59 1.41.59.51 0 1.02-.2 1.41-.59l7.78-7.78 2.81-2.81c.8-.78.8-2.07 0-2.86zM5.41 20L4 18.59l7.72-7.72 1.47 1.35L5.41 20z\"/>\n",
              "  </svg>\n",
              "      </button>\n",
              "      \n",
              "  <style>\n",
              "    .colab-df-container {\n",
              "      display:flex;\n",
              "      flex-wrap:wrap;\n",
              "      gap: 12px;\n",
              "    }\n",
              "\n",
              "    .colab-df-convert {\n",
              "      background-color: #E8F0FE;\n",
              "      border: none;\n",
              "      border-radius: 50%;\n",
              "      cursor: pointer;\n",
              "      display: none;\n",
              "      fill: #1967D2;\n",
              "      height: 32px;\n",
              "      padding: 0 0 0 0;\n",
              "      width: 32px;\n",
              "    }\n",
              "\n",
              "    .colab-df-convert:hover {\n",
              "      background-color: #E2EBFA;\n",
              "      box-shadow: 0px 1px 2px rgba(60, 64, 67, 0.3), 0px 1px 3px 1px rgba(60, 64, 67, 0.15);\n",
              "      fill: #174EA6;\n",
              "    }\n",
              "\n",
              "    [theme=dark] .colab-df-convert {\n",
              "      background-color: #3B4455;\n",
              "      fill: #D2E3FC;\n",
              "    }\n",
              "\n",
              "    [theme=dark] .colab-df-convert:hover {\n",
              "      background-color: #434B5C;\n",
              "      box-shadow: 0px 1px 3px 1px rgba(0, 0, 0, 0.15);\n",
              "      filter: drop-shadow(0px 1px 2px rgba(0, 0, 0, 0.3));\n",
              "      fill: #FFFFFF;\n",
              "    }\n",
              "  </style>\n",
              "\n",
              "      <script>\n",
              "        const buttonEl =\n",
              "          document.querySelector('#df-9bf23f55-a0fe-4999-9eda-7595d078545c button.colab-df-convert');\n",
              "        buttonEl.style.display =\n",
              "          google.colab.kernel.accessAllowed ? 'block' : 'none';\n",
              "\n",
              "        async function convertToInteractive(key) {\n",
              "          const element = document.querySelector('#df-9bf23f55-a0fe-4999-9eda-7595d078545c');\n",
              "          const dataTable =\n",
              "            await google.colab.kernel.invokeFunction('convertToInteractive',\n",
              "                                                     [key], {});\n",
              "          if (!dataTable) return;\n",
              "\n",
              "          const docLinkHtml = 'Like what you see? Visit the ' +\n",
              "            '<a target=\"_blank\" href=https://colab.research.google.com/notebooks/data_table.ipynb>data table notebook</a>'\n",
              "            + ' to learn more about interactive tables.';\n",
              "          element.innerHTML = '';\n",
              "          dataTable['output_type'] = 'display_data';\n",
              "          await google.colab.output.renderOutput(dataTable, element);\n",
              "          const docLink = document.createElement('div');\n",
              "          docLink.innerHTML = docLinkHtml;\n",
              "          element.appendChild(docLink);\n",
              "        }\n",
              "      </script>\n",
              "    </div>\n",
              "  </div>\n",
              "  "
            ]
          },
          "metadata": {},
          "execution_count": 7
        }
      ]
    },
    {
      "cell_type": "code",
      "source": [
        "import matplotlib.pyplot as plt\n",
        "bitcoin_prices.plot(figsize=(10, 7))\n",
        "plt.ylabel(\"BTC Price\")\n",
        "plt.title(\"Price of Bitcoin from 1 Oct 2013 to 18 May 2021\", fontsize=16)\n",
        "plt.legend(fontsize=14);"
      ],
      "metadata": {
        "colab": {
          "base_uri": "https://localhost:8080/",
          "height": 460
        },
        "id": "wm9dg-dgJc04",
        "outputId": "b0f553a8-0a1a-4f93-99d2-f49be19c474e"
      },
      "execution_count": 8,
      "outputs": [
        {
          "output_type": "display_data",
          "data": {
            "text/plain": [
              "<Figure size 720x504 with 1 Axes>"
            ],
            "image/png": "[encoded data removed]"
          },
          "metadata": {
            "needs_background": "light"
          }
        }
      ]
    },
    {
      "cell_type": "code",
      "source": [
        "#Creating train and test sets for time series data\n",
        "# Get bitcoin date array\n",
        "timesteps = bitcoin_prices.index.to_numpy()\n",
        "prices = bitcoin_prices[\"Price\"].to_numpy()\n",
        "\n",
        "timesteps[:10], prices[:10]"
      ],
      "metadata": {
        "colab": {
          "base_uri": "https://localhost:8080/"
        },
        "id": "CODnckU1Jlj0",
        "outputId": "f34ec12e-3f65-4339-dbfb-2beefbdca562"
      },
      "execution_count": 11,
      "outputs": [
        {
          "output_type": "execute_result",
          "data": {
            "text/plain": [
              "(array(['2013-10-01T00:00:00.000000000', '2013-10-02T00:00:00.000000000',\n",
              "        '2013-10-03T00:00:00.000000000', '2013-10-04T00:00:00.000000000',\n",
              "        '2013-10-05T00:00:00.000000000', '2013-10-06T00:00:00.000000000',\n",
              "        '2013-10-07T00:00:00.000000000', '2013-10-08T00:00:00.000000000',\n",
              "        '2013-10-09T00:00:00.000000000', '2013-10-10T00:00:00.000000000'],\n",
              "       dtype='datetime64[ns]'),\n",
              " array([123.65499, 125.455  , 108.58483, 118.67466, 121.33866, 120.65533,\n",
              "        121.795  , 123.033  , 124.049  , 125.96116]))"
            ]
          },
          "metadata": {},
          "execution_count": 11
        }
      ]
    },
    {
      "cell_type": "markdown",
      "source": [
        "#seq based train test split "
      ],
      "metadata": {
        "id": "BBdnpQPxKiko"
      }
    },
    {
      "cell_type": "code",
      "source": [
        "# Create train and test splits the right way for time series data\n",
        "split_size = int(0.8 * len(prices)) # 80% train, 20% test\n",
        "\n",
        "# Create train data splits (everything before the split)\n",
        "X_train, y_train = timesteps[:split_size], prices[:split_size]\n",
        "\n",
        "# Create test data splits (everything after the split)\n",
        "X_test, y_test = timesteps[split_size:], prices[split_size:]\n",
        "\n",
        "len(X_train), len(X_test), len(y_train), len(y_test)"
      ],
      "metadata": {
        "colab": {
          "base_uri": "https://localhost:8080/"
        },
        "id": "78-_7wPJJ3_W",
        "outputId": "5139ffb5-9b14-4d6e-9a07-b4c139e05fa9"
      },
      "execution_count": 12,
      "outputs": [
        {
          "output_type": "execute_result",
          "data": {
            "text/plain": [
              "(2229, 558, 2229, 558)"
            ]
          },
          "metadata": {},
          "execution_count": 12
        }
      ]
    },
    {
      "cell_type": "code",
      "source": [
        "# Plot correctly made splits\n",
        "plt.figure(figsize=(10, 7))\n",
        "plt.scatter(X_train, y_train, s=5, label=\"Train data\")\n",
        "plt.scatter(X_test, y_test, s=5, label=\"Test data\")\n",
        "plt.xlabel(\"Date\")\n",
        "plt.ylabel(\"BTC Price\")\n",
        "plt.legend(fontsize=14)\n",
        "plt.show();"
      ],
      "metadata": {
        "colab": {
          "base_uri": "https://localhost:8080/",
          "height": 442
        },
        "id": "vATjGxuXKUUg",
        "outputId": "1e8641b3-dd86-467e-8815-e99645dfc3b6"
      },
      "execution_count": 13,
      "outputs": [
        {
          "output_type": "display_data",
          "data": {
            "text/plain": [
              "<Figure size 720x504 with 1 Axes>"
            ],
            "image/png": "[encoded data removed]"
          },
          "metadata": {
            "needs_background": "light"
          }
        }
      ]
    },
    {
      "cell_type": "code",
      "source": [
        "\"\"\"x = [1,2,3,4,5]\n",
        "print(x[1:None])\"\"\"\n",
        "#works"
      ],
      "metadata": {
        "colab": {
          "base_uri": "https://localhost:8080/",
          "height": 35
        },
        "id": "0VXLxG7rLaed",
        "outputId": "e31203a6-8410-4475-c932-3aa473a1e50c"
      },
      "execution_count": 21,
      "outputs": [
        {
          "output_type": "execute_result",
          "data": {
            "text/plain": [
              "'x = [1,2,3,4,5]\\nprint(x[1:None])'"
            ],
            "application/vnd.google.colaboratory.intrinsic+json": {
              "type": "string"
            }
          },
          "metadata": {},
          "execution_count": 21
        }
      ]
    },
    {
      "cell_type": "code",
      "source": [
        "# Create a function to plot time series data\n",
        "def plot_time_series(timesteps, values, format='.', start=0, end=None, label=None):\n",
        "\n",
        "  # Plot the series\n",
        "  plt.plot(timesteps[start:end], values[start:end], format, label=label)\n",
        "  plt.xlabel(\"Time\")\n",
        "  plt.ylabel(\"BTC Price\")\n",
        "  if label:\n",
        "    plt.legend(fontsize=14) # "
      ],
      "metadata": {
        "id": "2TpF09zdKgb0"
      },
      "execution_count": 15,
      "outputs": []
    },
    {
      "cell_type": "code",
      "source": [
        "# Try out our plotting function\n",
        "plt.figure(figsize=(10, 7))\n",
        "plot_time_series(timesteps=X_train, values=y_train, label=\"Train data\")\n",
        "plot_time_series(timesteps=X_test, values=y_test, label=\"Test data\")"
      ],
      "metadata": {
        "colab": {
          "base_uri": "https://localhost:8080/",
          "height": 442
        },
        "id": "S_VcDqo8Kslz",
        "outputId": "3ca8bb6b-cd65-4e46-a12d-02e2a296d65d"
      },
      "execution_count": 16,
      "outputs": [
        {
          "output_type": "display_data",
          "data": {
            "text/plain": [
              "<Figure size 720x504 with 1 Axes>"
            ],
            "image/png": "[encoded data removed]"
          },
          "metadata": {
            "needs_background": "light"
          }
        }
      ]
    },
    {
      "cell_type": "code",
      "source": [
        "#horizon is future\n",
        "#windows is the past"
      ],
      "metadata": {
        "id": "zThesNybKyiI"
      },
      "execution_count": 17,
      "outputs": []
    },
    {
      "cell_type": "code",
      "source": [
        "#Using Naive Forecast.\n",
        "#y_(t) = y_(t-1)"
      ],
      "metadata": {
        "id": "CbMGWM_ALN9d"
      },
      "execution_count": null,
      "outputs": []
    },
    {
      "cell_type": "code",
      "source": [
        "# Create a naïve forecast\n",
        "naive_forecast = y_test[:-1] # Naïve forecast equals every value excluding the last value\n",
        "naive_forecast[:10], naive_forecast[-10:] # View frist 10 and last 10 "
      ],
      "metadata": {
        "colab": {
          "base_uri": "https://localhost:8080/"
        },
        "id": "c1ks5R9WLt3W",
        "outputId": "5c970bcc-f404-4f1c-ec43-5bb631860d4c"
      },
      "execution_count": 22,
      "outputs": [
        {
          "output_type": "execute_result",
          "data": {
            "text/plain": [
              "(array([9226.48582088, 8794.35864452, 8798.04205463, 9081.18687849,\n",
              "        8711.53433917, 8760.89271814, 8749.52059102, 8656.97092235,\n",
              "        8500.64355816, 8469.2608989 ]),\n",
              " array([57107.12067189, 58788.20967893, 58102.19142623, 55715.54665129,\n",
              "        56573.5554719 , 52147.82118698, 49764.1320816 , 50032.69313676,\n",
              "        47885.62525472, 45604.61575361]))"
            ]
          },
          "metadata": {},
          "execution_count": 22
        }
      ]
    },
    {
      "cell_type": "code",
      "source": [
        "# Plot naive forecast\n",
        "plt.figure(figsize=(10, 7))\n",
        "plot_time_series(timesteps=X_train, values=y_train, label=\"Train data\")\n",
        "plot_time_series(timesteps=X_test, values=y_test, label=\"Test data\")\n",
        "plot_time_series(timesteps=X_test[1:], values=naive_forecast, format=\"-\", label=\"Naive forecast\");"
      ],
      "metadata": {
        "colab": {
          "base_uri": "https://localhost:8080/",
          "height": 442
        },
        "id": "zU44eaAFLwb9",
        "outputId": "cda168a0-776d-470e-b96e-f10742dc7aa7"
      },
      "execution_count": 23,
      "outputs": [
        {
          "output_type": "display_data",
          "data": {
            "text/plain": [
              "<Figure size 720x504 with 1 Axes>"
            ],
            "image/png": "[encoded data removed]"
          },
          "metadata": {
            "needs_background": "light"
          }
        }
      ]
    },
    {
      "cell_type": "code",
      "source": [
        "# Let's get TensorFlow! \n",
        "import tensorflow as tf"
      ],
      "metadata": {
        "id": "Wt31GDl1L0Im"
      },
      "execution_count": 24,
      "outputs": []
    },
    {
      "cell_type": "code",
      "source": [
        "# MASE implemented courtesy of sktime - https://github.com/alan-turing-institute/sktime/blob/ee7a06843a44f4aaec7582d847e36073a9ab0566/sktime/performance_metrics/forecasting/_functions.py#L16\n",
        "def mean_absolute_scaled_error(y_true, y_pred):\n",
        "  \"\"\"\n",
        "  Implement MASE (assuming no seasonality of data).\n",
        "  \"\"\"\n",
        "  mae = tf.reduce_mean(tf.abs(y_true - y_pred))\n",
        "\n",
        "  # Find MAE of naive forecast (no seasonality)\n",
        "  mae_naive_no_season = tf.reduce_mean(tf.abs(y_true[1:] - y_true[:-1])) # our seasonality is 1 day (hence the shifting of 1 day)\n",
        "\n",
        "  return mae / mae_naive_no_season"
      ],
      "metadata": {
        "id": "cfI3Dv58Nycl"
      },
      "execution_count": 25,
      "outputs": []
    },
    {
      "cell_type": "code",
      "source": [
        "#This is for metric calculation\n",
        "def evaluate_preds(y_true, y_pred):\n",
        "  # Make sure float32 (for metric calculations)\n",
        "  y_true = tf.cast(y_true, dtype=tf.float32)\n",
        "  y_pred = tf.cast(y_pred, dtype=tf.float32)\n",
        "\n",
        "  # Calculate various metrics\n",
        "  mae = tf.keras.metrics.mean_absolute_error(y_true, y_pred)\n",
        "  mse = tf.keras.metrics.mean_squared_error(y_true, y_pred) # puts and emphasis on outliers (all errors get squared)\n",
        "  rmse = tf.sqrt(mse)\n",
        "  mape = tf.keras.metrics.mean_absolute_percentage_error(y_true, y_pred)\n",
        "  mase = mean_absolute_scaled_error(y_true, y_pred)\n",
        "  \n",
        "  return {\"mae\": mae.numpy(),\n",
        "          \"mse\": mse.numpy(),\n",
        "          \"rmse\": rmse.numpy(),\n",
        "          \"mape\": mape.numpy(),\n",
        "          \"mase\": mase.numpy()}"
      ],
      "metadata": {
        "id": "0TQuua_8N243"
      },
      "execution_count": 28,
      "outputs": []
    },
    {
      "cell_type": "code",
      "source": [
        "naive_results = evaluate_preds(y_true=y_test[1:],\n",
        "                               y_pred=naive_forecast)\n",
        "naive_results"
      ],
      "metadata": {
        "colab": {
          "base_uri": "https://localhost:8080/"
        },
        "id": "fKuJUmVIN8ia",
        "outputId": "781350ae-c789-4fa2-d7a0-a84a1fac5bb5"
      },
      "execution_count": 29,
      "outputs": [
        {
          "output_type": "execute_result",
          "data": {
            "text/plain": [
              "{'mae': 567.9802,\n",
              " 'mape': 2.5165248,\n",
              " 'mase': 0.99957,\n",
              " 'mse': 1147547.0,\n",
              " 'rmse': 1071.2362}"
            ]
          },
          "metadata": {},
          "execution_count": 29
        }
      ]
    },
    {
      "cell_type": "code",
      "source": [
        "# Find average price of Bitcoin in test dataset\n",
        "tf.reduce_mean(y_test).numpy()"
      ],
      "metadata": {
        "colab": {
          "base_uri": "https://localhost:8080/"
        },
        "id": "txzz2T0-N_J9",
        "outputId": "4cd738bd-b965-427a-a738-c3054f73898d"
      },
      "execution_count": 30,
      "outputs": [
        {
          "output_type": "execute_result",
          "data": {
            "text/plain": [
              "20056.632963737226"
            ]
          },
          "metadata": {},
          "execution_count": 30
        }
      ]
    },
    {
      "cell_type": "code",
      "source": [
        "#Format Data Part 2\n",
        "HORIZON = 1 # predict 1 step at a time\n",
        "WINDOW_SIZE = 7 # use a week worth of timesteps to predict the horizon"
      ],
      "metadata": {
        "id": "SjX4PdgKOHRV"
      },
      "execution_count": 31,
      "outputs": []
    },
    {
      "cell_type": "code",
      "source": [
        "# Create function to label windowed data\n",
        "def get_labelled_windows(x, horizon=1):\n",
        "  \"\"\"\n",
        "  Creates labels for windowed dataset.\n",
        "\n",
        "  E.g. if horizon=1 (default)\n",
        "  Input: [1, 2, 3, 4, 5, 6] -> Output: ([1, 2, 3, 4, 5], [6])\n",
        "  \"\"\"\n",
        "  return x[:, :-horizon], x[:, -horizon:]"
      ],
      "metadata": {
        "id": "loc1B1CmPisB"
      },
      "execution_count": 32,
      "outputs": []
    },
    {
      "cell_type": "code",
      "source": [
        "# Test out the window labelling function\n",
        "test_window, test_label = get_labelled_windows(tf.expand_dims(tf.range(8)+1, axis=0), horizon=HORIZON)\n",
        "print(f\"Window: {tf.squeeze(test_window).numpy()} -> Label: {tf.squeeze(test_label).numpy()}\")"
      ],
      "metadata": {
        "colab": {
          "base_uri": "https://localhost:8080/"
        },
        "id": "XC4Md1-DPrgH",
        "outputId": "4c028b89-922d-4697-ea89-2bce0dbc5150"
      },
      "execution_count": 33,
      "outputs": [
        {
          "output_type": "stream",
          "name": "stdout",
          "text": [
            "Window: [1 2 3 4 5 6 7] -> Label: 8\n"
          ]
        }
      ]
    },
    {
      "cell_type": "code",
      "source": [
        "# Create function to view NumPy arrays as windows \n",
        "def make_windows(x, window_size=7, horizon=1):\n",
        "  \"\"\"\n",
        "  Turns a 1D array into a 2D array of sequential windows of window_size.\n",
        "  \"\"\"\n",
        "  # 1. Create a window of specific window_size (add the horizon on the end for later labelling)\n",
        "  window_step = np.expand_dims(np.arange(window_size+horizon), axis=0)\n",
        "  # print(f\"Window step:\\n {window_step}\")\n",
        "\n",
        "  # 2. Create a 2D array of multiple window steps (minus 1 to account for 0 indexing)\n",
        "  window_indexes = window_step + np.expand_dims(np.arange(len(x)-(window_size+horizon-1)), axis=0).T # create 2D array of windows of size window_size\n",
        "  # print(f\"Window indexes:\\n {window_indexes[:3], window_indexes[-3:], window_indexes.shape}\")\n",
        "\n",
        "  # 3. Index on the target array (time series) with 2D array of multiple window steps\n",
        "  windowed_array = x[window_indexes]\n",
        "\n",
        "  # 4. Get the labelled windows\n",
        "  windows, labels = get_labelled_windows(windowed_array, horizon=horizon)\n",
        "\n",
        "  return windows, labels"
      ],
      "metadata": {
        "id": "D9TFv0sxPrud"
      },
      "execution_count": 34,
      "outputs": []
    },
    {
      "cell_type": "code",
      "source": [
        "full_windows, full_labels = make_windows(prices, window_size=WINDOW_SIZE, horizon=HORIZON)\n",
        "len(full_windows), len(full_labels)"
      ],
      "metadata": {
        "colab": {
          "base_uri": "https://localhost:8080/"
        },
        "id": "n9Z3vawPPwxW",
        "outputId": "c2e565c8-3605-4358-9909-0032053e797b"
      },
      "execution_count": 35,
      "outputs": [
        {
          "output_type": "execute_result",
          "data": {
            "text/plain": [
              "(2780, 2780)"
            ]
          },
          "metadata": {},
          "execution_count": 35
        }
      ]
    },
    {
      "cell_type": "code",
      "source": [
        "# View the first 3 windows/labels\n",
        "for i in range(3):\n",
        "  print(f\"Window: {full_windows[i]} -> Label: {full_labels[i]}\")"
      ],
      "metadata": {
        "colab": {
          "base_uri": "https://localhost:8080/"
        },
        "id": "P2v4ylaDPzc2",
        "outputId": "36513c57-33f5-481a-e565-d60b53afcb5d"
      },
      "execution_count": 36,
      "outputs": [
        {
          "output_type": "stream",
          "name": "stdout",
          "text": [
            "Window: [123.65499 125.455   108.58483 118.67466 121.33866 120.65533 121.795  ] -> Label: [123.033]\n",
            "Window: [125.455   108.58483 118.67466 121.33866 120.65533 121.795   123.033  ] -> Label: [124.049]\n",
            "Window: [108.58483 118.67466 121.33866 120.65533 121.795   123.033   124.049  ] -> Label: [125.96116]\n"
          ]
        }
      ]
    },
    {
      "cell_type": "code",
      "source": [
        "# Make the train/test splits\n",
        "def make_train_test_splits(windows, labels, test_split=0.2):\n",
        "  \"\"\"\n",
        "  Splits matching pairs of windows and labels into train and test splits.\n",
        "  \"\"\"\n",
        "  split_size = int(len(windows) * (1-test_split)) # this will default to 80% train/20% test\n",
        "  train_windows = windows[:split_size]\n",
        "  train_labels = labels[:split_size]\n",
        "  test_windows = windows[split_size:]\n",
        "  test_labels = labels[split_size:]\n",
        "  return train_windows, test_windows, train_labels, test_labels"
      ],
      "metadata": {
        "id": "D7bmcAVGP1oe"
      },
      "execution_count": 37,
      "outputs": []
    },
    {
      "cell_type": "code",
      "source": [
        "train_windows, test_windows, train_labels, test_labels = make_train_test_splits(full_windows, full_labels)\n",
        "len(train_windows), len(test_windows), len(train_labels), len(test_labels)"
      ],
      "metadata": {
        "colab": {
          "base_uri": "https://localhost:8080/"
        },
        "id": "uhHKxcR7P_vl",
        "outputId": "2776509e-fb00-4ed8-d5ca-164f6b022e92"
      },
      "execution_count": 38,
      "outputs": [
        {
          "output_type": "execute_result",
          "data": {
            "text/plain": [
              "(2224, 556, 2224, 556)"
            ]
          },
          "metadata": {},
          "execution_count": 38
        }
      ]
    },
    {
      "cell_type": "code",
      "source": [
        "train_windows[:5], train_labels[:5]"
      ],
      "metadata": {
        "colab": {
          "base_uri": "https://localhost:8080/"
        },
        "id": "HhrkLqhUQIXf",
        "outputId": "6f43be52-4337-4cbc-daf4-8e99a79bddd3"
      },
      "execution_count": 39,
      "outputs": [
        {
          "output_type": "execute_result",
          "data": {
            "text/plain": [
              "(array([[123.65499, 125.455  , 108.58483, 118.67466, 121.33866, 120.65533,\n",
              "         121.795  ],\n",
              "        [125.455  , 108.58483, 118.67466, 121.33866, 120.65533, 121.795  ,\n",
              "         123.033  ],\n",
              "        [108.58483, 118.67466, 121.33866, 120.65533, 121.795  , 123.033  ,\n",
              "         124.049  ],\n",
              "        [118.67466, 121.33866, 120.65533, 121.795  , 123.033  , 124.049  ,\n",
              "         125.96116],\n",
              "        [121.33866, 120.65533, 121.795  , 123.033  , 124.049  , 125.96116,\n",
              "         125.27966]]), array([[123.033  ],\n",
              "        [124.049  ],\n",
              "        [125.96116],\n",
              "        [125.27966],\n",
              "        [125.9275 ]]))"
            ]
          },
          "metadata": {},
          "execution_count": 39
        }
      ]
    },
    {
      "cell_type": "code",
      "source": [
        "# Check to see if same (accounting for horizon and window size)\n",
        "np.array_equal(np.squeeze(train_labels[:-HORIZON-1]), y_train[WINDOW_SIZE:])"
      ],
      "metadata": {
        "colab": {
          "base_uri": "https://localhost:8080/"
        },
        "id": "cq3izFqhQIiT",
        "outputId": "deb60324-99ae-4642-e935-5faaccc8dd11"
      },
      "execution_count": 40,
      "outputs": [
        {
          "output_type": "execute_result",
          "data": {
            "text/plain": [
              "True"
            ]
          },
          "metadata": {},
          "execution_count": 40
        }
      ]
    },
    {
      "cell_type": "code",
      "source": [
        "import os\n",
        "# Create a function to implement a ModelCheckpoint callback with a specific filename \n",
        "def create_model_checkpoint(model_name, save_path=\"model_experiments\"):\n",
        "  return tf.keras.callbacks.ModelCheckpoint(filepath=os.path.join(save_path, model_name), # create filepath to save model\n",
        "                                            verbose=0, # only output a limited amount of text\n",
        "                                            save_best_only=True) # save only the best model to file"
      ],
      "metadata": {
        "id": "20RkJ-oHQJ0i"
      },
      "execution_count": 41,
      "outputs": []
    },
    {
      "cell_type": "markdown",
      "source": [
        "# Model 1: Dense Model(window = 7,horizon =1)"
      ],
      "metadata": {
        "id": "oh--Sr4IQfAr"
      }
    },
    {
      "cell_type": "code",
      "source": [
        "import tensorflow as tf\n",
        "from tensorflow.keras import layers\n",
        "tf.random.set_seed(42)\n",
        "model_1 = tf.keras.Sequential([\n",
        "  layers.Dense(128, activation=\"relu\"),\n",
        "  layers.Dense(HORIZON, activation=\"linear\") # linear activation is the same as having no activation                        \n",
        "], name=\"model_1_dense\") "
      ],
      "metadata": {
        "id": "vcYHAiWVQdYo"
      },
      "execution_count": 42,
      "outputs": []
    },
    {
      "cell_type": "code",
      "source": [
        "model_1.compile(loss=\"mae\",\n",
        "                optimizer=tf.keras.optimizers.Adam(),\n",
        "                metrics=[\"mae\"])"
      ],
      "metadata": {
        "id": "2JlRkfxLQ7AJ"
      },
      "execution_count": 43,
      "outputs": []
    },
    {
      "cell_type": "code",
      "source": [
        "# Fit model\n",
        "model_1.fit(x=train_windows, # train windows of 7 timesteps of Bitcoin prices\n",
        "            y=train_labels, # horizon value of 1 (using the previous 7 timesteps to predict next day)\n",
        "            epochs=100,\n",
        "            verbose=1,\n",
        "            batch_size=128,\n",
        "            validation_data=(test_windows, test_labels),\n",
        "            callbacks=[create_model_checkpoint(model_name=model_1.name)]) "
      ],
      "metadata": {
        "colab": {
          "base_uri": "https://localhost:8080/"
        },
        "id": "h6xbHlUfQ8rN",
        "outputId": "bded9acd-13f8-4ab8-dd6f-ff0b5d647dab"
      },
      "execution_count": 44,
      "outputs": [
        {
          "output_type": "stream",
          "name": "stdout",
          "text": [
            "Epoch 1/100\n",
            "15/18 [========================>.....] - ETA: 0s - loss: 835.4324 - mae: 835.4324   INFO:tensorflow:Assets written to: model_experiments/model_1_dense/assets\n",
            "18/18 [==============================] - 2s 81ms/step - loss: 780.3469 - mae: 780.3469 - val_loss: 2279.5828 - val_mae: 2279.5828\n",
            "Epoch 2/100\n",
            "18/18 [==============================] - ETA: 0s - loss: 247.6765 - mae: 247.6765INFO:tensorflow:Assets written to: model_experiments/model_1_dense/assets\n",
            "18/18 [==============================] - 1s 50ms/step - loss: 247.6765 - mae: 247.6765 - val_loss: 1005.9864 - val_mae: 1005.9864\n",
            "Epoch 3/100\n",
            " 1/18 [>.............................] - ETA: 0s - loss: 134.4844 - mae: 134.4844INFO:tensorflow:Assets written to: model_experiments/model_1_dense/assets\n",
            "18/18 [==============================] - 1s 52ms/step - loss: 188.4107 - mae: 188.4107 - val_loss: 923.2859 - val_mae: 923.2859\n",
            "Epoch 4/100\n",
            "17/18 [===========================>..] - ETA: 0s - loss: 170.9406 - mae: 170.9406INFO:tensorflow:Assets written to: model_experiments/model_1_dense/assets\n",
            "18/18 [==============================] - 1s 49ms/step - loss: 169.4334 - mae: 169.4334 - val_loss: 900.5932 - val_mae: 900.5932\n",
            "Epoch 5/100\n",
            "17/18 [===========================>..] - ETA: 0s - loss: 166.6898 - mae: 166.6898INFO:tensorflow:Assets written to: model_experiments/model_1_dense/assets\n",
            "18/18 [==============================] - 1s 68ms/step - loss: 165.0900 - mae: 165.0900 - val_loss: 895.2405 - val_mae: 895.2405\n",
            "Epoch 6/100\n",
            "17/18 [===========================>..] - ETA: 0s - loss: 156.6030 - mae: 156.6030INFO:tensorflow:Assets written to: model_experiments/model_1_dense/assets\n",
            "18/18 [==============================] - 1s 76ms/step - loss: 158.5206 - mae: 158.5206 - val_loss: 855.1868 - val_mae: 855.1868\n",
            "Epoch 7/100\n",
            "15/18 [========================>.....] - ETA: 0s - loss: 155.5178 - mae: 155.5178INFO:tensorflow:Assets written to: model_experiments/model_1_dense/assets\n",
            "18/18 [==============================] - 1s 81ms/step - loss: 151.3568 - mae: 151.3568 - val_loss: 840.9290 - val_mae: 840.9290\n",
            "Epoch 8/100\n",
            "13/18 [====================>.........] - ETA: 0s - loss: 146.8115 - mae: 146.8115INFO:tensorflow:Assets written to: model_experiments/model_1_dense/assets\n",
            "18/18 [==============================] - 1s 74ms/step - loss: 145.2560 - mae: 145.2560 - val_loss: 803.6005 - val_mae: 803.6005\n",
            "Epoch 9/100\n",
            " 1/18 [>.............................] - ETA: 0s - loss: 126.2221 - mae: 126.2221INFO:tensorflow:Assets written to: model_experiments/model_1_dense/assets\n",
            "18/18 [==============================] - 2s 106ms/step - loss: 144.3546 - mae: 144.3546 - val_loss: 799.5592 - val_mae: 799.5592\n",
            "Epoch 10/100\n",
            "17/18 [===========================>..] - ETA: 0s - loss: 140.3384 - mae: 140.3384INFO:tensorflow:Assets written to: model_experiments/model_1_dense/assets\n",
            "18/18 [==============================] - 3s 174ms/step - loss: 141.2944 - mae: 141.2944 - val_loss: 763.5060 - val_mae: 763.5060\n",
            "Epoch 11/100\n",
            "18/18 [==============================] - 0s 8ms/step - loss: 135.6591 - mae: 135.6591 - val_loss: 771.3525 - val_mae: 771.3525\n",
            "Epoch 12/100\n",
            "18/18 [==============================] - 0s 10ms/step - loss: 134.1702 - mae: 134.1702 - val_loss: 782.8326 - val_mae: 782.8325\n",
            "Epoch 13/100\n",
            "18/18 [==============================] - 0s 14ms/step - loss: 134.6014 - mae: 134.6014 - val_loss: 784.4728 - val_mae: 784.4728\n",
            "Epoch 14/100\n",
            "12/18 [===================>..........] - ETA: 0s - loss: 126.2415 - mae: 126.2415INFO:tensorflow:Assets written to: model_experiments/model_1_dense/assets\n",
            "18/18 [==============================] - 1s 36ms/step - loss: 130.6125 - mae: 130.6125 - val_loss: 751.3470 - val_mae: 751.3470\n",
            "Epoch 15/100\n",
            " 1/18 [>.............................] - ETA: 0s - loss: 131.5395 - mae: 131.5395INFO:tensorflow:Assets written to: model_experiments/model_1_dense/assets\n",
            "18/18 [==============================] - 1s 30ms/step - loss: 128.8352 - mae: 128.8352 - val_loss: 696.5837 - val_mae: 696.5837\n",
            "Epoch 16/100\n",
            "18/18 [==============================] - 0s 4ms/step - loss: 124.8667 - mae: 124.8667 - val_loss: 707.2988 - val_mae: 707.2988\n",
            "Epoch 17/100\n",
            "18/18 [==============================] - 0s 3ms/step - loss: 123.6096 - mae: 123.6096 - val_loss: 714.2291 - val_mae: 714.2291\n",
            "Epoch 18/100\n",
            " 1/18 [>.............................] - ETA: 0s - loss: 138.5527 - mae: 138.5527INFO:tensorflow:Assets written to: model_experiments/model_1_dense/assets\n",
            "18/18 [==============================] - 1s 30ms/step - loss: 122.3023 - mae: 122.3023 - val_loss: 669.1414 - val_mae: 669.1414\n",
            "Epoch 19/100\n",
            "18/18 [==============================] - 0s 4ms/step - loss: 121.4932 - mae: 121.4932 - val_loss: 721.5452 - val_mae: 721.5452\n",
            "Epoch 20/100\n",
            " 1/18 [>.............................] - ETA: 0s - loss: 135.4132 - mae: 135.4132INFO:tensorflow:Assets written to: model_experiments/model_1_dense/assets\n",
            "18/18 [==============================] - 1s 31ms/step - loss: 119.2384 - mae: 119.2384 - val_loss: 658.0786 - val_mae: 658.0786\n",
            "Epoch 21/100\n",
            " 1/18 [>.............................] - ETA: 0s - loss: 128.8736 - mae: 128.8736INFO:tensorflow:Assets written to: model_experiments/model_1_dense/assets\n",
            "18/18 [==============================] - 1s 31ms/step - loss: 121.5293 - mae: 121.5293 - val_loss: 638.3386 - val_mae: 638.3386\n",
            "Epoch 22/100\n",
            "18/18 [==============================] - 0s 4ms/step - loss: 119.3422 - mae: 119.3422 - val_loss: 678.8881 - val_mae: 678.8881\n",
            "Epoch 23/100\n",
            "18/18 [==============================] - 0s 3ms/step - loss: 122.8203 - mae: 122.8203 - val_loss: 651.8512 - val_mae: 651.8512\n",
            "Epoch 24/100\n",
            " 1/18 [>.............................] - ETA: 0s - loss: 125.6553 - mae: 125.6553INFO:tensorflow:Assets written to: model_experiments/model_1_dense/assets\n",
            "18/18 [==============================] - 1s 29ms/step - loss: 117.0774 - mae: 117.0774 - val_loss: 623.5611 - val_mae: 623.5611\n",
            "Epoch 25/100\n",
            " 1/18 [>.............................] - ETA: 0s - loss: 122.1502 - mae: 122.1502INFO:tensorflow:Assets written to: model_experiments/model_1_dense/assets\n",
            "18/18 [==============================] - 1s 31ms/step - loss: 115.1816 - mae: 115.1816 - val_loss: 618.5576 - val_mae: 618.5576\n",
            "Epoch 26/100\n",
            " 1/18 [>.............................] - ETA: 0s - loss: 109.7064 - mae: 109.7064INFO:tensorflow:Assets written to: model_experiments/model_1_dense/assets\n",
            "18/18 [==============================] - 1s 29ms/step - loss: 115.0673 - mae: 115.0673 - val_loss: 616.4918 - val_mae: 616.4918\n",
            "Epoch 27/100\n",
            "18/18 [==============================] - 0s 4ms/step - loss: 116.6431 - mae: 116.6431 - val_loss: 619.0472 - val_mae: 619.0472\n",
            "Epoch 28/100\n",
            " 1/18 [>.............................] - ETA: 0s - loss: 102.1523 - mae: 102.1523INFO:tensorflow:Assets written to: model_experiments/model_1_dense/assets\n",
            "18/18 [==============================] - 1s 31ms/step - loss: 114.0328 - mae: 114.0328 - val_loss: 610.3879 - val_mae: 610.3879\n",
            "Epoch 29/100\n",
            "18/18 [==============================] - 0s 5ms/step - loss: 113.4892 - mae: 113.4892 - val_loss: 617.2401 - val_mae: 617.2401\n",
            "Epoch 30/100\n",
            " 1/18 [>.............................] - ETA: 0s - loss: 124.6252 - mae: 124.6252INFO:tensorflow:Assets written to: model_experiments/model_1_dense/assets\n",
            "18/18 [==============================] - 1s 30ms/step - loss: 116.4094 - mae: 116.4094 - val_loss: 603.6490 - val_mae: 603.6490\n",
            "Epoch 31/100\n",
            "18/18 [==============================] - 0s 4ms/step - loss: 112.3454 - mae: 112.3454 - val_loss: 623.4434 - val_mae: 623.4434\n",
            "Epoch 32/100\n",
            " 1/18 [>.............................] - ETA: 0s - loss: 110.3431 - mae: 110.3431INFO:tensorflow:Assets written to: model_experiments/model_1_dense/assets\n",
            "18/18 [==============================] - 1s 31ms/step - loss: 113.2056 - mae: 113.2056 - val_loss: 600.0261 - val_mae: 600.0261\n",
            "Epoch 33/100\n",
            "18/18 [==============================] - 0s 3ms/step - loss: 112.9529 - mae: 112.9529 - val_loss: 653.0604 - val_mae: 653.0604\n",
            "Epoch 34/100\n",
            " 1/18 [>.............................] - ETA: 0s - loss: 140.4313 - mae: 140.4313INFO:tensorflow:Assets written to: model_experiments/model_1_dense/assets\n",
            "18/18 [==============================] - 1s 31ms/step - loss: 112.1157 - mae: 112.1157 - val_loss: 594.7913 - val_mae: 594.7913\n",
            "Epoch 35/100\n",
            " 1/18 [>.............................] - ETA: 0s - loss: 100.0623 - mae: 100.0623INFO:tensorflow:Assets written to: model_experiments/model_1_dense/assets\n",
            "18/18 [==============================] - 1s 46ms/step - loss: 110.7447 - mae: 110.7447 - val_loss: 592.7401 - val_mae: 592.7401\n",
            "Epoch 36/100\n",
            " 1/18 [>.............................] - ETA: 0s - loss: 149.3917 - mae: 149.3917INFO:tensorflow:Assets written to: model_experiments/model_1_dense/assets\n",
            "18/18 [==============================] - 1s 31ms/step - loss: 116.3301 - mae: 116.3301 - val_loss: 592.4697 - val_mae: 592.4697\n",
            "Epoch 37/100\n",
            "18/18 [==============================] - 0s 3ms/step - loss: 110.7676 - mae: 110.7676 - val_loss: 618.5350 - val_mae: 618.5350\n",
            "Epoch 38/100\n",
            "18/18 [==============================] - 0s 4ms/step - loss: 112.5935 - mae: 112.5935 - val_loss: 613.9557 - val_mae: 613.9557\n",
            "Epoch 39/100\n",
            " 1/18 [>.............................] - ETA: 0s - loss: 128.7077 - mae: 128.7077INFO:tensorflow:Assets written to: model_experiments/model_1_dense/assets\n",
            "18/18 [==============================] - 1s 30ms/step - loss: 110.1321 - mae: 110.1321 - val_loss: 586.6888 - val_mae: 586.6888\n",
            "Epoch 40/100\n",
            "18/18 [==============================] - 0s 4ms/step - loss: 109.4753 - mae: 109.4753 - val_loss: 593.9153 - val_mae: 593.9153\n",
            "Epoch 41/100\n",
            " 1/18 [>.............................] - ETA: 0s - loss: 105.0374 - mae: 105.0374INFO:tensorflow:Assets written to: model_experiments/model_1_dense/assets\n",
            "18/18 [==============================] - 1s 32ms/step - loss: 110.1777 - mae: 110.1777 - val_loss: 586.4465 - val_mae: 586.4465\n",
            "Epoch 42/100\n",
            "18/18 [==============================] - 0s 4ms/step - loss: 111.5192 - mae: 111.5192 - val_loss: 649.3650 - val_mae: 649.3650\n",
            "Epoch 43/100\n",
            "18/18 [==============================] - 0s 5ms/step - loss: 115.8939 - mae: 115.8939 - val_loss: 686.8293 - val_mae: 686.8293\n",
            "Epoch 44/100\n",
            "18/18 [==============================] - 0s 3ms/step - loss: 123.0945 - mae: 123.0945 - val_loss: 661.1304 - val_mae: 661.1304\n",
            "Epoch 45/100\n",
            "18/18 [==============================] - 0s 4ms/step - loss: 113.8169 - mae: 113.8169 - val_loss: 626.8177 - val_mae: 626.8177\n",
            "Epoch 46/100\n",
            "18/18 [==============================] - 0s 5ms/step - loss: 114.0971 - mae: 114.0971 - val_loss: 588.7769 - val_mae: 588.7769\n",
            "Epoch 47/100\n",
            "18/18 [==============================] - 0s 4ms/step - loss: 108.9936 - mae: 108.9936 - val_loss: 636.0583 - val_mae: 636.0583\n",
            "Epoch 48/100\n",
            "18/18 [==============================] - 0s 4ms/step - loss: 109.2967 - mae: 109.2967 - val_loss: 604.1586 - val_mae: 604.1586\n",
            "Epoch 49/100\n",
            "18/18 [==============================] - 0s 4ms/step - loss: 111.7787 - mae: 111.7787 - val_loss: 591.5096 - val_mae: 591.5096\n",
            "Epoch 50/100\n",
            "18/18 [==============================] - 0s 4ms/step - loss: 111.7319 - mae: 111.7319 - val_loss: 636.4677 - val_mae: 636.4677\n",
            "Epoch 51/100\n",
            "18/18 [==============================] - 0s 4ms/step - loss: 110.7498 - mae: 110.7498 - val_loss: 589.2878 - val_mae: 589.2878\n",
            "Epoch 52/100\n",
            "18/18 [==============================] - 0s 4ms/step - loss: 111.5193 - mae: 111.5193 - val_loss: 609.5289 - val_mae: 609.5289\n",
            "Epoch 53/100\n",
            " 1/18 [>.............................] - ETA: 0s - loss: 63.2880 - mae: 63.2880INFO:tensorflow:Assets written to: model_experiments/model_1_dense/assets\n",
            "18/18 [==============================] - 1s 30ms/step - loss: 113.9868 - mae: 113.9868 - val_loss: 584.7471 - val_mae: 584.7471\n",
            "Epoch 54/100\n",
            " 1/18 [>.............................] - ETA: 0s - loss: 98.4018 - mae: 98.4018INFO:tensorflow:Assets written to: model_experiments/model_1_dense/assets\n",
            "18/18 [==============================] - 1s 32ms/step - loss: 110.1075 - mae: 110.1075 - val_loss: 578.7416 - val_mae: 578.7416\n",
            "Epoch 55/100\n",
            "18/18 [==============================] - 0s 4ms/step - loss: 110.6423 - mae: 110.6423 - val_loss: 581.5333 - val_mae: 581.5333\n",
            "Epoch 56/100\n",
            "18/18 [==============================] - 0s 4ms/step - loss: 107.6537 - mae: 107.6537 - val_loss: 759.0189 - val_mae: 759.0189\n",
            "Epoch 57/100\n",
            "18/18 [==============================] - 0s 4ms/step - loss: 119.2012 - mae: 119.2012 - val_loss: 603.5953 - val_mae: 603.5953\n",
            "Epoch 58/100\n",
            "18/18 [==============================] - 0s 4ms/step - loss: 116.4417 - mae: 116.4417 - val_loss: 583.7296 - val_mae: 583.7296\n",
            "Epoch 59/100\n",
            "18/18 [==============================] - 0s 5ms/step - loss: 109.9014 - mae: 109.9014 - val_loss: 592.8416 - val_mae: 592.8416\n",
            "Epoch 60/100\n",
            "18/18 [==============================] - 0s 5ms/step - loss: 107.7859 - mae: 107.7859 - val_loss: 593.4969 - val_mae: 593.4969\n",
            "Epoch 61/100\n",
            " 1/18 [>.............................] - ETA: 0s - loss: 130.6454 - mae: 130.6454INFO:tensorflow:Assets written to: model_experiments/model_1_dense/assets\n",
            "18/18 [==============================] - 1s 31ms/step - loss: 107.6960 - mae: 107.6960 - val_loss: 575.5123 - val_mae: 575.5123\n",
            "Epoch 62/100\n",
            "18/18 [==============================] - 0s 3ms/step - loss: 107.1257 - mae: 107.1257 - val_loss: 580.2645 - val_mae: 580.2645\n",
            "Epoch 63/100\n",
            "18/18 [==============================] - 0s 5ms/step - loss: 111.8451 - mae: 111.8451 - val_loss: 654.6143 - val_mae: 654.6143\n",
            "Epoch 64/100\n",
            "18/18 [==============================] - 0s 3ms/step - loss: 110.3121 - mae: 110.3121 - val_loss: 610.7810 - val_mae: 610.7810\n",
            "Epoch 65/100\n",
            " 1/18 [>.............................] - ETA: 0s - loss: 131.5208 - mae: 131.5208INFO:tensorflow:Assets written to: model_experiments/model_1_dense/assets\n",
            "18/18 [==============================] - 1s 30ms/step - loss: 109.7098 - mae: 109.7098 - val_loss: 573.9960 - val_mae: 573.9960\n",
            "Epoch 66/100\n",
            " 1/18 [>.............................] - ETA: 0s - loss: 112.4866 - mae: 112.4866INFO:tensorflow:Assets written to: model_experiments/model_1_dense/assets\n",
            "18/18 [==============================] - 1s 31ms/step - loss: 106.8139 - mae: 106.8139 - val_loss: 572.9989 - val_mae: 572.9989\n",
            "Epoch 67/100\n",
            "18/18 [==============================] - 0s 3ms/step - loss: 106.1394 - mae: 106.1394 - val_loss: 602.1524 - val_mae: 602.1524\n",
            "Epoch 68/100\n",
            "18/18 [==============================] - 0s 4ms/step - loss: 112.9245 - mae: 112.9245 - val_loss: 687.6375 - val_mae: 687.6375\n",
            "Epoch 69/100\n",
            "18/18 [==============================] - 0s 4ms/step - loss: 126.9916 - mae: 126.9916 - val_loss: 664.9473 - val_mae: 664.9473\n",
            "Epoch 70/100\n",
            "18/18 [==============================] - 0s 4ms/step - loss: 124.8734 - mae: 124.8734 - val_loss: 619.6686 - val_mae: 619.6686\n",
            "Epoch 71/100\n",
            "18/18 [==============================] - 0s 4ms/step - loss: 109.8522 - mae: 109.8522 - val_loss: 582.3637 - val_mae: 582.3637\n",
            "Epoch 72/100\n",
            "18/18 [==============================] - 0s 4ms/step - loss: 107.6717 - mae: 107.6717 - val_loss: 573.4947 - val_mae: 573.4947\n",
            "Epoch 73/100\n",
            "18/18 [==============================] - 0s 3ms/step - loss: 109.6036 - mae: 109.6036 - val_loss: 583.9045 - val_mae: 583.9045\n",
            "Epoch 74/100\n",
            " 1/18 [>.............................] - ETA: 0s - loss: 165.4990 - mae: 165.4990INFO:tensorflow:Assets written to: model_experiments/model_1_dense/assets\n",
            "18/18 [==============================] - 1s 30ms/step - loss: 107.7049 - mae: 107.7049 - val_loss: 572.9933 - val_mae: 572.9933\n",
            "Epoch 75/100\n",
            "18/18 [==============================] - 0s 4ms/step - loss: 108.1179 - mae: 108.1179 - val_loss: 583.9372 - val_mae: 583.9372\n",
            "Epoch 76/100\n",
            "18/18 [==============================] - 0s 4ms/step - loss: 109.5447 - mae: 109.5447 - val_loss: 592.8235 - val_mae: 592.8235\n",
            "Epoch 77/100\n",
            "18/18 [==============================] - 0s 4ms/step - loss: 108.3639 - mae: 108.3639 - val_loss: 575.4260 - val_mae: 575.4260\n",
            "Epoch 78/100\n",
            "18/18 [==============================] - 0s 3ms/step - loss: 108.0055 - mae: 108.0055 - val_loss: 574.3941 - val_mae: 574.3941\n",
            "Epoch 79/100\n",
            "18/18 [==============================] - 0s 3ms/step - loss: 107.3223 - mae: 107.3223 - val_loss: 597.2478 - val_mae: 597.2478\n",
            "Epoch 80/100\n",
            "18/18 [==============================] - 0s 4ms/step - loss: 108.1452 - mae: 108.1452 - val_loss: 586.6866 - val_mae: 586.6866\n",
            "Epoch 81/100\n",
            "18/18 [==============================] - 0s 5ms/step - loss: 106.1153 - mae: 106.1153 - val_loss: 575.1765 - val_mae: 575.1765\n",
            "Epoch 82/100\n",
            "18/18 [==============================] - 0s 3ms/step - loss: 116.6344 - mae: 116.6344 - val_loss: 575.4340 - val_mae: 575.4340\n",
            "Epoch 83/100\n",
            "18/18 [==============================] - 0s 3ms/step - loss: 110.8731 - mae: 110.8731 - val_loss: 654.5366 - val_mae: 654.5366\n",
            "Epoch 84/100\n",
            " 1/18 [>.............................] - ETA: 0s - loss: 118.1785 - mae: 118.1785INFO:tensorflow:Assets written to: model_experiments/model_1_dense/assets\n",
            "18/18 [==============================] - 1s 30ms/step - loss: 111.9106 - mae: 111.9106 - val_loss: 572.3373 - val_mae: 572.3373\n",
            "Epoch 85/100\n",
            "18/18 [==============================] - 0s 5ms/step - loss: 106.6154 - mae: 106.6154 - val_loss: 574.2833 - val_mae: 574.2833\n",
            "Epoch 86/100\n",
            "18/18 [==============================] - 0s 3ms/step - loss: 108.4299 - mae: 108.4299 - val_loss: 583.3530 - val_mae: 583.3530\n",
            "Epoch 87/100\n",
            "18/18 [==============================] - 0s 3ms/step - loss: 105.7481 - mae: 105.7481 - val_loss: 593.0121 - val_mae: 593.0121\n",
            "Epoch 88/100\n",
            " 1/18 [>.............................] - ETA: 0s - loss: 133.8443 - mae: 133.8443INFO:tensorflow:Assets written to: model_experiments/model_1_dense/assets\n",
            "18/18 [==============================] - 1s 31ms/step - loss: 107.2604 - mae: 107.2604 - val_loss: 571.7658 - val_mae: 571.7658\n",
            "Epoch 89/100\n",
            " 1/18 [>.............................] - ETA: 0s - loss: 102.2973 - mae: 102.2973INFO:tensorflow:Assets written to: model_experiments/model_1_dense/assets\n",
            "18/18 [==============================] - 1s 31ms/step - loss: 106.7823 - mae: 106.7823 - val_loss: 568.6370 - val_mae: 568.6370\n",
            "Epoch 90/100\n",
            "18/18 [==============================] - 0s 4ms/step - loss: 105.8682 - mae: 105.8682 - val_loss: 602.9690 - val_mae: 602.9690\n",
            "Epoch 91/100\n",
            "18/18 [==============================] - 0s 5ms/step - loss: 110.6365 - mae: 110.6365 - val_loss: 605.6947 - val_mae: 605.6947\n",
            "Epoch 92/100\n",
            "18/18 [==============================] - 0s 4ms/step - loss: 109.4668 - mae: 109.4668 - val_loss: 572.4370 - val_mae: 572.4370\n",
            "Epoch 93/100\n",
            "18/18 [==============================] - 0s 4ms/step - loss: 113.0063 - mae: 113.0063 - val_loss: 617.3001 - val_mae: 617.3001\n",
            "Epoch 94/100\n",
            "18/18 [==============================] - 0s 4ms/step - loss: 112.4903 - mae: 112.4903 - val_loss: 599.9803 - val_mae: 599.9803\n",
            "Epoch 95/100\n",
            "18/18 [==============================] - 0s 4ms/step - loss: 106.0053 - mae: 106.0053 - val_loss: 570.6210 - val_mae: 570.6210\n",
            "Epoch 96/100\n",
            "18/18 [==============================] - 0s 5ms/step - loss: 109.5910 - mae: 109.5910 - val_loss: 676.3395 - val_mae: 676.3395\n",
            "Epoch 97/100\n",
            "18/18 [==============================] - 0s 4ms/step - loss: 110.2213 - mae: 110.2213 - val_loss: 574.2988 - val_mae: 574.2988\n",
            "Epoch 98/100\n",
            "18/18 [==============================] - 0s 3ms/step - loss: 106.7290 - mae: 106.7290 - val_loss: 576.7734 - val_mae: 576.7734\n",
            "Epoch 99/100\n",
            " 1/18 [>.............................] - ETA: 0s - loss: 151.1014 - mae: 151.1014INFO:tensorflow:Assets written to: model_experiments/model_1_dense/assets\n",
            "18/18 [==============================] - 1s 30ms/step - loss: 106.9889 - mae: 106.9889 - val_loss: 568.5499 - val_mae: 568.5499\n",
            "Epoch 100/100\n",
            "18/18 [==============================] - 0s 3ms/step - loss: 117.7622 - mae: 117.7622 - val_loss: 662.5322 - val_mae: 662.5322\n"
          ]
        },
        {
          "output_type": "execute_result",
          "data": {
            "text/plain": [
              "<keras.callbacks.History at 0x7fc6d7350c10>"
            ]
          },
          "metadata": {},
          "execution_count": 44
        }
      ]
    },
    {
      "cell_type": "code",
      "source": [
        "# Evaluate model on test data\n",
        "model_1.evaluate(test_windows, test_labels)"
      ],
      "metadata": {
        "colab": {
          "base_uri": "https://localhost:8080/"
        },
        "id": "Bc2FL0TyQ85k",
        "outputId": "f209c5f5-7551-4cb8-8b53-d6e5e6d9e742"
      },
      "execution_count": 45,
      "outputs": [
        {
          "output_type": "stream",
          "name": "stdout",
          "text": [
            "18/18 [==============================] - 0s 2ms/step - loss: 662.5322 - mae: 662.5322\n"
          ]
        },
        {
          "output_type": "execute_result",
          "data": {
            "text/plain": [
              "[662.5322265625, 662.5322265625]"
            ]
          },
          "metadata": {},
          "execution_count": 45
        }
      ]
    },
    {
      "cell_type": "code",
      "source": [
        "# Load in saved best performing model_1 and evaluate on test data\n",
        "model_1 = tf.keras.models.load_model(\"model_experiments/model_1_dense\")\n",
        "model_1.evaluate(test_windows, test_labels)"
      ],
      "metadata": {
        "colab": {
          "base_uri": "https://localhost:8080/"
        },
        "id": "ijzW2Tr-RNQz",
        "outputId": "0c26ce0a-8a57-41e9-c9f6-0dad9c595840"
      },
      "execution_count": 46,
      "outputs": [
        {
          "output_type": "stream",
          "name": "stdout",
          "text": [
            "18/18 [==============================] - 0s 2ms/step - loss: 568.5499 - mae: 568.5499\n"
          ]
        },
        {
          "output_type": "execute_result",
          "data": {
            "text/plain": [
              "[568.5498657226562, 568.5498657226562]"
            ]
          },
          "metadata": {},
          "execution_count": 46
        }
      ]
    },
    {
      "cell_type": "code",
      "source": [
        "def make_preds(model, input_data):\n",
        "  \"\"\"\n",
        "  Uses model to make predictions on input_data.\n",
        "\n",
        "  Parameters\n",
        "  ----------\n",
        "  model: trained model \n",
        "  input_data: windowed input data (same kind of data model was trained on)\n",
        "\n",
        "  Returns model predictions on input_data.\n",
        "  \"\"\"\n",
        "  forecast = model.predict(input_data)\n",
        "  return tf.squeeze(forecast) # return 1D array of predictions"
      ],
      "metadata": {
        "id": "9xgSxXelRNcl"
      },
      "execution_count": 47,
      "outputs": []
    },
    {
      "cell_type": "code",
      "source": [
        "# Make predictions using model_1 on the test dataset and view the results\n",
        "model_1_preds = make_preds(model_1, test_windows)\n",
        "len(model_1_preds), model_1_preds[:10]"
      ],
      "metadata": {
        "colab": {
          "base_uri": "https://localhost:8080/"
        },
        "id": "ga0sS0ZaRSYy",
        "outputId": "f992669d-69a3-4e3b-8bf6-147cc71a6754"
      },
      "execution_count": 48,
      "outputs": [
        {
          "output_type": "execute_result",
          "data": {
            "text/plain": [
              "(556, <tf.Tensor: shape=(10,), dtype=float32, numpy=\n",
              " array([8874.493, 8789.944, 9040.986, 8804.829, 8741.21 , 8749.835,\n",
              "        8705.865, 8513.171, 8478.415, 8536.302], dtype=float32)>)"
            ]
          },
          "metadata": {},
          "execution_count": 48
        }
      ]
    },
    {
      "cell_type": "code",
      "source": [
        "# Evaluate preds\n",
        "model_1_results = evaluate_preds(y_true=tf.squeeze(test_labels), # reduce to right shape\n",
        "                                 y_pred=model_1_preds)\n",
        "model_1_results"
      ],
      "metadata": {
        "colab": {
          "base_uri": "https://localhost:8080/"
        },
        "id": "79WfKESHRUxj",
        "outputId": "95d0f667-ce51-4d0c-b1bd-e7bfa9ff6a21"
      },
      "execution_count": 49,
      "outputs": [
        {
          "output_type": "execute_result",
          "data": {
            "text/plain": [
              "{'mae': 568.5498,\n",
              " 'mape': 2.549229,\n",
              " 'mase': 0.99878454,\n",
              " 'mse': 1172587.6,\n",
              " 'rmse': 1082.8608}"
            ]
          },
          "metadata": {},
          "execution_count": 49
        }
      ]
    },
    {
      "cell_type": "code",
      "source": [
        "naive_results"
      ],
      "metadata": {
        "colab": {
          "base_uri": "https://localhost:8080/"
        },
        "id": "lXJUbuWURVBS",
        "outputId": "76365abb-c604-4616-faf6-d6fba31de6d0"
      },
      "execution_count": 50,
      "outputs": [
        {
          "output_type": "execute_result",
          "data": {
            "text/plain": [
              "{'mae': 567.9802,\n",
              " 'mape': 2.5165248,\n",
              " 'mase': 0.99957,\n",
              " 'mse': 1147547.0,\n",
              " 'rmse': 1071.2362}"
            ]
          },
          "metadata": {},
          "execution_count": 50
        }
      ]
    },
    {
      "cell_type": "code",
      "source": [
        "#-----------------------------------------------------------------------------------"
      ],
      "metadata": {
        "id": "YsIHly5oRWXy"
      },
      "execution_count": null,
      "outputs": []
    },
    {
      "cell_type": "code",
      "source": [
        "model_2 = tf.keras.Sequential([\n",
        "  layers.Dense(128, activation=\"relu\"),\n",
        "  layers.Dense(256, activation=\"relu\"),\n",
        "  layers.Dense(512, activation=\"relu\"),\n",
        "  layers.Dense(HORIZON, activation=\"linear\") # linear activation is the same as having no activation                        \n",
        "], name=\"model_1_dense\") "
      ],
      "metadata": {
        "id": "5lGUmxbLRcyK"
      },
      "execution_count": 51,
      "outputs": []
    },
    {
      "cell_type": "code",
      "source": [
        "model_2.compile(loss=\"mae\",\n",
        "                optimizer=tf.keras.optimizers.Adam(),\n",
        "                metrics=[\"mae\"])"
      ],
      "metadata": {
        "id": "DZIDZNGSRj3N"
      },
      "execution_count": 53,
      "outputs": []
    },
    {
      "cell_type": "code",
      "source": [
        "# Fit model\n",
        "model_2.fit(x=train_windows, # train windows of 7 timesteps of Bitcoin prices\n",
        "            y=train_labels, # horizon value of 1 (using the previous 7 timesteps to predict next day)\n",
        "            epochs=100,\n",
        "            verbose=1,\n",
        "            batch_size=128,\n",
        "            validation_data=(test_windows, test_labels),\n",
        "            callbacks=[create_model_checkpoint(model_name=model_1.name)]) "
      ],
      "metadata": {
        "colab": {
          "base_uri": "https://localhost:8080/"
        },
        "id": "Z6CrcO3ARmW3",
        "outputId": "e684eaa0-a44c-4900-aaf6-3b59b195e2a0"
      },
      "execution_count": 54,
      "outputs": [
        {
          "output_type": "stream",
          "name": "stdout",
          "text": [
            "Epoch 1/100\n",
            "16/18 [=========================>....] - ETA: 0s - loss: 796.6417 - mae: 796.6417  INFO:tensorflow:Assets written to: model_experiments/model_1_dense/assets\n",
            "18/18 [==============================] - 3s 121ms/step - loss: 757.1804 - mae: 757.1804 - val_loss: 1014.0330 - val_mae: 1014.0330\n",
            "Epoch 2/100\n",
            "16/18 [=========================>....] - ETA: 0s - loss: 203.3156 - mae: 203.3156INFO:tensorflow:Assets written to: model_experiments/model_1_dense/assets\n",
            "18/18 [==============================] - 1s 86ms/step - loss: 196.0182 - mae: 196.0182 - val_loss: 905.7249 - val_mae: 905.7249\n",
            "Epoch 3/100\n",
            "18/18 [==============================] - 0s 13ms/step - loss: 140.8831 - mae: 140.8831 - val_loss: 1057.7394 - val_mae: 1057.7394\n",
            "Epoch 4/100\n",
            "18/18 [==============================] - ETA: 0s - loss: 136.3517 - mae: 136.3517INFO:tensorflow:Assets written to: model_experiments/model_1_dense/assets\n",
            "18/18 [==============================] - 1s 83ms/step - loss: 136.3517 - mae: 136.3517 - val_loss: 626.4918 - val_mae: 626.4918\n",
            "Epoch 5/100\n",
            "18/18 [==============================] - 0s 9ms/step - loss: 121.1806 - mae: 121.1806 - val_loss: 640.3235 - val_mae: 640.3235\n",
            "Epoch 6/100\n",
            "17/18 [===========================>..] - ETA: 0s - loss: 112.8926 - mae: 112.8926INFO:tensorflow:Assets written to: model_experiments/model_1_dense/assets\n",
            "18/18 [==============================] - 1s 51ms/step - loss: 114.6907 - mae: 114.6907 - val_loss: 623.6500 - val_mae: 623.6500\n",
            "Epoch 7/100\n",
            "18/18 [==============================] - 0s 9ms/step - loss: 127.3175 - mae: 127.3175 - val_loss: 626.5867 - val_mae: 626.5867\n",
            "Epoch 8/100\n",
            "18/18 [==============================] - 0s 10ms/step - loss: 126.7943 - mae: 126.7943 - val_loss: 803.5782 - val_mae: 803.5782\n",
            "Epoch 9/100\n",
            "18/18 [==============================] - 0s 9ms/step - loss: 120.5187 - mae: 120.5187 - val_loss: 1083.8324 - val_mae: 1083.8324\n",
            "Epoch 10/100\n",
            "18/18 [==============================] - 0s 9ms/step - loss: 157.4900 - mae: 157.4900 - val_loss: 801.6074 - val_mae: 801.6074\n",
            "Epoch 11/100\n",
            "18/18 [==============================] - 0s 9ms/step - loss: 154.5992 - mae: 154.5992 - val_loss: 851.3843 - val_mae: 851.3843\n",
            "Epoch 12/100\n",
            "18/18 [==============================] - 0s 9ms/step - loss: 142.2078 - mae: 142.2078 - val_loss: 700.7496 - val_mae: 700.7496\n",
            "Epoch 13/100\n",
            "18/18 [==============================] - 0s 9ms/step - loss: 125.6504 - mae: 125.6504 - val_loss: 655.1531 - val_mae: 655.1531\n",
            "Epoch 14/100\n",
            "18/18 [==============================] - 0s 9ms/step - loss: 113.3915 - mae: 113.3915 - val_loss: 686.5195 - val_mae: 686.5195\n",
            "Epoch 15/100\n",
            "18/18 [==============================] - 0s 9ms/step - loss: 140.2068 - mae: 140.2068 - val_loss: 1248.4723 - val_mae: 1248.4723\n",
            "Epoch 16/100\n",
            "18/18 [==============================] - 0s 9ms/step - loss: 150.9658 - mae: 150.9658 - val_loss: 746.4675 - val_mae: 746.4675\n",
            "Epoch 17/100\n",
            "18/18 [==============================] - 0s 9ms/step - loss: 117.0623 - mae: 117.0623 - val_loss: 655.9297 - val_mae: 655.9297\n",
            "Epoch 18/100\n",
            "17/18 [===========================>..] - ETA: 0s - loss: 118.2398 - mae: 118.2398INFO:tensorflow:Assets written to: model_experiments/model_1_dense/assets\n",
            "18/18 [==============================] - 1s 50ms/step - loss: 116.9588 - mae: 116.9588 - val_loss: 611.5159 - val_mae: 611.5159\n",
            "Epoch 19/100\n",
            "18/18 [==============================] - 0s 9ms/step - loss: 127.3826 - mae: 127.3826 - val_loss: 735.2817 - val_mae: 735.2817\n",
            "Epoch 20/100\n",
            "18/18 [==============================] - 0s 9ms/step - loss: 150.0490 - mae: 150.0490 - val_loss: 728.1208 - val_mae: 728.1208\n",
            "Epoch 21/100\n",
            "18/18 [==============================] - 0s 9ms/step - loss: 123.2958 - mae: 123.2958 - val_loss: 806.2219 - val_mae: 806.2219\n",
            "Epoch 22/100\n",
            "17/18 [===========================>..] - ETA: 0s - loss: 125.9161 - mae: 125.9161INFO:tensorflow:Assets written to: model_experiments/model_1_dense/assets\n",
            "18/18 [==============================] - 1s 50ms/step - loss: 126.4353 - mae: 126.4353 - val_loss: 580.2126 - val_mae: 580.2126\n",
            "Epoch 23/100\n",
            "18/18 [==============================] - 0s 9ms/step - loss: 120.5047 - mae: 120.5047 - val_loss: 684.0604 - val_mae: 684.0604\n",
            "Epoch 24/100\n",
            "18/18 [==============================] - 0s 9ms/step - loss: 127.5528 - mae: 127.5528 - val_loss: 707.7927 - val_mae: 707.7927\n",
            "Epoch 25/100\n",
            "18/18 [==============================] - 0s 10ms/step - loss: 121.0008 - mae: 121.0008 - val_loss: 686.4410 - val_mae: 686.4410\n",
            "Epoch 26/100\n",
            "18/18 [==============================] - 0s 9ms/step - loss: 114.2467 - mae: 114.2467 - val_loss: 643.3208 - val_mae: 643.3208\n",
            "Epoch 27/100\n",
            "17/18 [===========================>..] - ETA: 0s - loss: 111.5739 - mae: 111.5739INFO:tensorflow:Assets written to: model_experiments/model_1_dense/assets\n",
            "18/18 [==============================] - 1s 50ms/step - loss: 111.5522 - mae: 111.5522 - val_loss: 570.5318 - val_mae: 570.5318\n",
            "Epoch 28/100\n",
            "18/18 [==============================] - 0s 10ms/step - loss: 110.9021 - mae: 110.9021 - val_loss: 577.2389 - val_mae: 577.2389\n",
            "Epoch 29/100\n",
            "18/18 [==============================] - 0s 9ms/step - loss: 106.6024 - mae: 106.6024 - val_loss: 636.8545 - val_mae: 636.8545\n",
            "Epoch 30/100\n",
            "18/18 [==============================] - 0s 9ms/step - loss: 116.6907 - mae: 116.6907 - val_loss: 830.0686 - val_mae: 830.0686\n",
            "Epoch 31/100\n",
            "18/18 [==============================] - 0s 9ms/step - loss: 120.6309 - mae: 120.6309 - val_loss: 572.8965 - val_mae: 572.8965\n",
            "Epoch 32/100\n",
            "18/18 [==============================] - 0s 11ms/step - loss: 122.6249 - mae: 122.6249 - val_loss: 725.0660 - val_mae: 725.0660\n",
            "Epoch 33/100\n",
            "16/18 [=========================>....] - ETA: 0s - loss: 115.9502 - mae: 115.9502INFO:tensorflow:Assets written to: model_experiments/model_1_dense/assets\n",
            "18/18 [==============================] - 1s 66ms/step - loss: 113.3083 - mae: 113.3083 - val_loss: 569.3329 - val_mae: 569.3329\n",
            "Epoch 34/100\n",
            "18/18 [==============================] - 0s 9ms/step - loss: 107.4993 - mae: 107.4993 - val_loss: 674.6306 - val_mae: 674.6306\n",
            "Epoch 35/100\n",
            "18/18 [==============================] - 0s 9ms/step - loss: 109.4477 - mae: 109.4477 - val_loss: 670.4195 - val_mae: 670.4195\n",
            "Epoch 36/100\n",
            "18/18 [==============================] - 0s 10ms/step - loss: 109.3605 - mae: 109.3605 - val_loss: 889.5585 - val_mae: 889.5585\n",
            "Epoch 37/100\n",
            "18/18 [==============================] - 0s 9ms/step - loss: 123.9442 - mae: 123.9442 - val_loss: 756.8472 - val_mae: 756.8472\n",
            "Epoch 38/100\n",
            "18/18 [==============================] - 0s 10ms/step - loss: 114.0779 - mae: 114.0779 - val_loss: 590.2110 - val_mae: 590.2110\n",
            "Epoch 39/100\n",
            "18/18 [==============================] - 0s 9ms/step - loss: 109.0757 - mae: 109.0757 - val_loss: 759.1804 - val_mae: 759.1804\n",
            "Epoch 40/100\n",
            "18/18 [==============================] - 0s 9ms/step - loss: 109.0210 - mae: 109.0210 - val_loss: 616.0056 - val_mae: 616.0056\n",
            "Epoch 41/100\n",
            "18/18 [==============================] - 0s 9ms/step - loss: 109.5611 - mae: 109.5611 - val_loss: 581.4741 - val_mae: 581.4741\n",
            "Epoch 42/100\n",
            "18/18 [==============================] - 0s 9ms/step - loss: 113.4886 - mae: 113.4886 - val_loss: 612.0693 - val_mae: 612.0693\n",
            "Epoch 43/100\n",
            "18/18 [==============================] - 0s 9ms/step - loss: 106.8667 - mae: 106.8667 - val_loss: 612.4912 - val_mae: 612.4912\n",
            "Epoch 44/100\n",
            "18/18 [==============================] - 0s 10ms/step - loss: 109.2952 - mae: 109.2952 - val_loss: 659.0650 - val_mae: 659.0650\n",
            "Epoch 45/100\n",
            "18/18 [==============================] - 0s 9ms/step - loss: 116.5368 - mae: 116.5368 - val_loss: 655.4888 - val_mae: 655.4888\n",
            "Epoch 46/100\n",
            "18/18 [==============================] - 0s 10ms/step - loss: 122.6384 - mae: 122.6384 - val_loss: 783.9163 - val_mae: 783.9163\n",
            "Epoch 47/100\n",
            "18/18 [==============================] - 0s 9ms/step - loss: 124.2073 - mae: 124.2073 - val_loss: 676.3342 - val_mae: 676.3342\n",
            "Epoch 48/100\n",
            "18/18 [==============================] - 0s 9ms/step - loss: 127.8337 - mae: 127.8337 - val_loss: 666.1633 - val_mae: 666.1633\n",
            "Epoch 49/100\n",
            "18/18 [==============================] - 0s 9ms/step - loss: 106.6634 - mae: 106.6634 - val_loss: 609.7354 - val_mae: 609.7354\n",
            "Epoch 50/100\n",
            "18/18 [==============================] - 0s 10ms/step - loss: 110.7297 - mae: 110.7297 - val_loss: 732.6584 - val_mae: 732.6584\n",
            "Epoch 51/100\n",
            "18/18 [==============================] - 0s 9ms/step - loss: 120.6868 - mae: 120.6868 - val_loss: 594.7548 - val_mae: 594.7548\n",
            "Epoch 52/100\n",
            "18/18 [==============================] - 0s 9ms/step - loss: 131.6066 - mae: 131.6066 - val_loss: 770.2472 - val_mae: 770.2472\n",
            "Epoch 53/100\n",
            "18/18 [==============================] - 0s 10ms/step - loss: 128.0893 - mae: 128.0893 - val_loss: 679.1020 - val_mae: 679.1020\n",
            "Epoch 54/100\n",
            "18/18 [==============================] - 0s 9ms/step - loss: 115.4856 - mae: 115.4856 - val_loss: 656.4073 - val_mae: 656.4073\n",
            "Epoch 55/100\n",
            "18/18 [==============================] - 0s 9ms/step - loss: 110.1957 - mae: 110.1957 - val_loss: 704.2255 - val_mae: 704.2255\n",
            "Epoch 56/100\n",
            "18/18 [==============================] - 0s 9ms/step - loss: 108.8850 - mae: 108.8850 - val_loss: 573.9539 - val_mae: 573.9539\n",
            "Epoch 57/100\n",
            "18/18 [==============================] - 0s 9ms/step - loss: 111.8802 - mae: 111.8802 - val_loss: 621.0620 - val_mae: 621.0620\n",
            "Epoch 58/100\n",
            "18/18 [==============================] - 0s 9ms/step - loss: 116.9258 - mae: 116.9258 - val_loss: 634.8143 - val_mae: 634.8143\n",
            "Epoch 59/100\n",
            "18/18 [==============================] - 0s 9ms/step - loss: 107.7680 - mae: 107.7680 - val_loss: 570.5759 - val_mae: 570.5759\n",
            "Epoch 60/100\n",
            "18/18 [==============================] - 0s 9ms/step - loss: 106.6031 - mae: 106.6031 - val_loss: 609.1846 - val_mae: 609.1846\n",
            "Epoch 61/100\n",
            "18/18 [==============================] - 0s 9ms/step - loss: 119.4417 - mae: 119.4417 - val_loss: 594.9730 - val_mae: 594.9730\n",
            "Epoch 62/100\n",
            "18/18 [==============================] - 0s 9ms/step - loss: 107.8400 - mae: 107.8400 - val_loss: 663.8835 - val_mae: 663.8835\n",
            "Epoch 63/100\n",
            "18/18 [==============================] - 0s 9ms/step - loss: 107.0032 - mae: 107.0032 - val_loss: 604.4091 - val_mae: 604.4091\n",
            "Epoch 64/100\n",
            "18/18 [==============================] - 0s 10ms/step - loss: 109.6058 - mae: 109.6058 - val_loss: 579.4802 - val_mae: 579.4802\n",
            "Epoch 65/100\n",
            "16/18 [=========================>....] - ETA: 0s - loss: 109.4532 - mae: 109.4532INFO:tensorflow:Assets written to: model_experiments/model_1_dense/assets\n",
            "18/18 [==============================] - 2s 95ms/step - loss: 110.4383 - mae: 110.4383 - val_loss: 564.9647 - val_mae: 564.9647\n",
            "Epoch 66/100\n",
            "18/18 [==============================] - 0s 9ms/step - loss: 111.6272 - mae: 111.6272 - val_loss: 585.0979 - val_mae: 585.0979\n",
            "Epoch 67/100\n",
            "18/18 [==============================] - 0s 9ms/step - loss: 109.7381 - mae: 109.7381 - val_loss: 608.4290 - val_mae: 608.4290\n",
            "Epoch 68/100\n",
            "18/18 [==============================] - 0s 9ms/step - loss: 117.1368 - mae: 117.1368 - val_loss: 586.1693 - val_mae: 586.1693\n",
            "Epoch 69/100\n",
            "18/18 [==============================] - 0s 9ms/step - loss: 111.7155 - mae: 111.7155 - val_loss: 892.4251 - val_mae: 892.4251\n",
            "Epoch 70/100\n",
            "18/18 [==============================] - 0s 9ms/step - loss: 139.6902 - mae: 139.6902 - val_loss: 574.2766 - val_mae: 574.2766\n",
            "Epoch 71/100\n",
            "18/18 [==============================] - 0s 9ms/step - loss: 116.5806 - mae: 116.5806 - val_loss: 797.9325 - val_mae: 797.9325\n",
            "Epoch 72/100\n",
            "18/18 [==============================] - 0s 9ms/step - loss: 125.1774 - mae: 125.1774 - val_loss: 580.1000 - val_mae: 580.1000\n",
            "Epoch 73/100\n",
            "18/18 [==============================] - 0s 9ms/step - loss: 104.0578 - mae: 104.0578 - val_loss: 566.6548 - val_mae: 566.6548\n",
            "Epoch 74/100\n",
            "18/18 [==============================] - 0s 9ms/step - loss: 108.8704 - mae: 108.8704 - val_loss: 698.7133 - val_mae: 698.7133\n",
            "Epoch 75/100\n",
            "18/18 [==============================] - 0s 9ms/step - loss: 116.9667 - mae: 116.9667 - val_loss: 706.8707 - val_mae: 706.8707\n",
            "Epoch 76/100\n",
            "18/18 [==============================] - 0s 10ms/step - loss: 126.3036 - mae: 126.3036 - val_loss: 641.3548 - val_mae: 641.3548\n",
            "Epoch 77/100\n",
            "18/18 [==============================] - 0s 10ms/step - loss: 113.6586 - mae: 113.6586 - val_loss: 675.5031 - val_mae: 675.5031\n",
            "Epoch 78/100\n",
            "18/18 [==============================] - 0s 10ms/step - loss: 118.5878 - mae: 118.5878 - val_loss: 623.7818 - val_mae: 623.7818\n",
            "Epoch 79/100\n",
            "18/18 [==============================] - 0s 10ms/step - loss: 108.2811 - mae: 108.2811 - val_loss: 654.1893 - val_mae: 654.1893\n",
            "Epoch 80/100\n",
            "18/18 [==============================] - 0s 11ms/step - loss: 107.8202 - mae: 107.8202 - val_loss: 635.9711 - val_mae: 635.9711\n",
            "Epoch 81/100\n",
            "18/18 [==============================] - 0s 10ms/step - loss: 117.6557 - mae: 117.6557 - val_loss: 849.9584 - val_mae: 849.9584\n",
            "Epoch 82/100\n",
            "18/18 [==============================] - 0s 10ms/step - loss: 153.0299 - mae: 153.0299 - val_loss: 709.6595 - val_mae: 709.6595\n",
            "Epoch 83/100\n",
            "18/18 [==============================] - 0s 10ms/step - loss: 134.3103 - mae: 134.3103 - val_loss: 1030.1370 - val_mae: 1030.1370\n",
            "Epoch 84/100\n",
            "18/18 [==============================] - 0s 9ms/step - loss: 129.7506 - mae: 129.7506 - val_loss: 766.3336 - val_mae: 766.3336\n",
            "Epoch 85/100\n",
            "18/18 [==============================] - 0s 10ms/step - loss: 114.6425 - mae: 114.6425 - val_loss: 707.4051 - val_mae: 707.4051\n",
            "Epoch 86/100\n",
            "18/18 [==============================] - 0s 9ms/step - loss: 119.7847 - mae: 119.7847 - val_loss: 617.0898 - val_mae: 617.0898\n",
            "Epoch 87/100\n",
            "18/18 [==============================] - 0s 9ms/step - loss: 112.6549 - mae: 112.6549 - val_loss: 606.7859 - val_mae: 606.7859\n",
            "Epoch 88/100\n",
            "18/18 [==============================] - 0s 9ms/step - loss: 106.3284 - mae: 106.3284 - val_loss: 570.8200 - val_mae: 570.8200\n",
            "Epoch 89/100\n",
            "18/18 [==============================] - 0s 10ms/step - loss: 105.8221 - mae: 105.8221 - val_loss: 716.1012 - val_mae: 716.1012\n",
            "Epoch 90/100\n",
            "18/18 [==============================] - 0s 9ms/step - loss: 114.5268 - mae: 114.5268 - val_loss: 598.6438 - val_mae: 598.6438\n",
            "Epoch 91/100\n",
            "18/18 [==============================] - 0s 9ms/step - loss: 112.4463 - mae: 112.4463 - val_loss: 610.1542 - val_mae: 610.1542\n",
            "Epoch 92/100\n",
            "18/18 [==============================] - 0s 10ms/step - loss: 107.7585 - mae: 107.7585 - val_loss: 568.3251 - val_mae: 568.3251\n",
            "Epoch 93/100\n",
            "18/18 [==============================] - 0s 9ms/step - loss: 107.3841 - mae: 107.3841 - val_loss: 619.8607 - val_mae: 619.8607\n",
            "Epoch 94/100\n",
            "18/18 [==============================] - 0s 9ms/step - loss: 108.6051 - mae: 108.6051 - val_loss: 627.3851 - val_mae: 627.3851\n",
            "Epoch 95/100\n",
            "18/18 [==============================] - 0s 10ms/step - loss: 106.7708 - mae: 106.7708 - val_loss: 652.3289 - val_mae: 652.3289\n",
            "Epoch 96/100\n",
            "18/18 [==============================] - 0s 9ms/step - loss: 113.6200 - mae: 113.6200 - val_loss: 698.1175 - val_mae: 698.1175\n",
            "Epoch 97/100\n",
            "18/18 [==============================] - 0s 10ms/step - loss: 118.0084 - mae: 118.0084 - val_loss: 593.1813 - val_mae: 593.1813\n",
            "Epoch 98/100\n",
            "18/18 [==============================] - 0s 9ms/step - loss: 112.5902 - mae: 112.5902 - val_loss: 571.0105 - val_mae: 571.0105\n",
            "Epoch 99/100\n",
            "18/18 [==============================] - 0s 9ms/step - loss: 112.2413 - mae: 112.2413 - val_loss: 640.8794 - val_mae: 640.8794\n",
            "Epoch 100/100\n",
            "18/18 [==============================] - 0s 9ms/step - loss: 111.4006 - mae: 111.4006 - val_loss: 599.0102 - val_mae: 599.0102\n"
          ]
        },
        {
          "output_type": "execute_result",
          "data": {
            "text/plain": [
              "<keras.callbacks.History at 0x7fc6d72c8d10>"
            ]
          },
          "metadata": {},
          "execution_count": 54
        }
      ]
    },
    {
      "cell_type": "code",
      "source": [
        "# Make predictions using model_1 on the test dataset and view the results\n",
        "model_2_preds = make_preds(model_2, test_windows)\n",
        "len(model_2_preds), model_2_preds[:10]"
      ],
      "metadata": {
        "colab": {
          "base_uri": "https://localhost:8080/"
        },
        "id": "izefyltaRqyf",
        "outputId": "8f376016-7898-4f8d-f4d9-863ae7781472"
      },
      "execution_count": 56,
      "outputs": [
        {
          "output_type": "execute_result",
          "data": {
            "text/plain": [
              "(556, <tf.Tensor: shape=(10,), dtype=float32, numpy=\n",
              " array([8756.538, 8711.394, 8964.399, 8698.272, 8684.409, 8660.753,\n",
              "        8585.673, 8444.117, 8391.974, 8448.864], dtype=float32)>)"
            ]
          },
          "metadata": {},
          "execution_count": 56
        }
      ]
    },
    {
      "cell_type": "code",
      "source": [
        "# Evaluate preds\n",
        "model_2_results = evaluate_preds(y_true=tf.squeeze(test_labels), # reduce to right shape\n",
        "                                 y_pred=model_2_preds)\n",
        "model_2_results"
      ],
      "metadata": {
        "colab": {
          "base_uri": "https://localhost:8080/"
        },
        "id": "Hp4oeqbQR73k",
        "outputId": "e506c77e-fe53-4732-9bb1-ce12dd1fd4de"
      },
      "execution_count": 57,
      "outputs": [
        {
          "output_type": "execute_result",
          "data": {
            "text/plain": [
              "{'mae': 599.0102,\n",
              " 'mape': 2.7185428,\n",
              " 'mase': 1.052295,\n",
              " 'mse': 1213744.8,\n",
              " 'rmse': 1101.7008}"
            ]
          },
          "metadata": {},
          "execution_count": 57
        }
      ]
    },
    {
      "cell_type": "code",
      "source": [
        "naive_results"
      ],
      "metadata": {
        "colab": {
          "base_uri": "https://localhost:8080/"
        },
        "id": "_SwPoWKaSIZU",
        "outputId": "14850059-4de9-41dd-e9e8-af3d23898375"
      },
      "execution_count": 58,
      "outputs": [
        {
          "output_type": "execute_result",
          "data": {
            "text/plain": [
              "{'mae': 567.9802,\n",
              " 'mape': 2.5165248,\n",
              " 'mase': 0.99957,\n",
              " 'mse': 1147547.0,\n",
              " 'rmse': 1071.2362}"
            ]
          },
          "metadata": {},
          "execution_count": 58
        }
      ]
    },
    {
      "cell_type": "code",
      "source": [
        "offset = 300\n",
        "plt.figure(figsize=(10, 7))\n",
        "# Account for the test_window offset and index into test_labels to ensure correct plotting\n",
        "plot_time_series(timesteps=X_test[-len(test_windows):], values=test_labels[:, 0], start=offset, label=\"Test_data\")\n",
        "plot_time_series(timesteps=X_test[-len(test_windows):], values=model_1_preds, start=offset, format=\".\", label=\"model_1_preds\")"
      ],
      "metadata": {
        "colab": {
          "base_uri": "https://localhost:8080/",
          "height": 442
        },
        "id": "_KxsNsjPSJwL",
        "outputId": "db06f6dc-5e1d-44b6-ee89-af2702108dcb"
      },
      "execution_count": 60,
      "outputs": [
        {
          "output_type": "display_data",
          "data": {
            "text/plain": [
              "<Figure size 720x504 with 1 Axes>"
            ],
            "image/png": "[encoded data removed]"
          },
          "metadata": {
            "needs_background": "light"
          }
        }
      ]
    },
    {
      "cell_type": "code",
      "source": [
        "offset = 300\n",
        "plt.figure(figsize=(10, 7))\n",
        "# Account for the test_window offset and index into test_labels to ensure correct plotting\n",
        "plot_time_series(timesteps=X_test[-len(test_windows):], values=test_labels[:, 0], start=offset, label=\"Test_data\")\n",
        "plot_time_series(timesteps=X_test[-len(test_windows):], values=model_1_preds, start=offset, format=\"-\", label=\"model_1_preds\")"
      ],
      "metadata": {
        "colab": {
          "base_uri": "https://localhost:8080/",
          "height": 442
        },
        "id": "gBnGp6ZhSLqS",
        "outputId": "ed5d624a-9021-4ad4-ee30-7a7c0ae0b205"
      },
      "execution_count": 61,
      "outputs": [
        {
          "output_type": "display_data",
          "data": {
            "text/plain": [
              "<Figure size 720x504 with 1 Axes>"
            ],
            "image/png": "[encoded data removed]"
          },
          "metadata": {
            "needs_background": "light"
          }
        }
      ]
    },
    {
      "cell_type": "code",
      "source": [
        "HORIZON = 1 # predict one step at a time\n",
        "WINDOW_SIZE = 30 # use 30 timesteps in the past"
      ],
      "metadata": {
        "id": "2ZHItyPITIQH"
      },
      "execution_count": null,
      "outputs": []
    },
    {
      "cell_type": "code",
      "source": [
        "# Make windowed data with appropriate horizon and window sizes\n",
        "full_windows, full_labels = make_windows(prices, window_size=WINDOW_SIZE, horizon=HORIZON)\n",
        "len(full_windows), len(full_labels)"
      ],
      "metadata": {
        "colab": {
          "base_uri": "https://localhost:8080/"
        },
        "id": "LD3c2kkNTJvp",
        "outputId": "b715cfc9-d00e-4b67-cf31-d2e9518a6507"
      },
      "execution_count": 62,
      "outputs": [
        {
          "output_type": "execute_result",
          "data": {
            "text/plain": [
              "(2780, 2780)"
            ]
          },
          "metadata": {},
          "execution_count": 62
        }
      ]
    },
    {
      "cell_type": "code",
      "source": [
        "# Make train and testing windows\n",
        "train_windows, test_windows, train_labels, test_labels = make_train_test_splits(windows=full_windows, labels=full_labels)\n",
        "len(train_windows), len(test_windows), len(train_labels), len(test_labels)"
      ],
      "metadata": {
        "colab": {
          "base_uri": "https://localhost:8080/"
        },
        "id": "lQRTZ2wxTKha",
        "outputId": "3daf5495-7b2d-4228-a24a-ae71a0d8d77f"
      },
      "execution_count": 63,
      "outputs": [
        {
          "output_type": "execute_result",
          "data": {
            "text/plain": [
              "(2224, 556, 2224, 556)"
            ]
          },
          "metadata": {},
          "execution_count": 63
        }
      ]
    },
    {
      "cell_type": "code",
      "source": [
        "tf.random.set_seed(42)\n",
        "\n",
        "# Create model (same model as model 1 but data input will be different)\n",
        "model_3 = tf.keras.Sequential([\n",
        "  layers.Dense(128, activation=\"relu\"),\n",
        "  layers.Dense(HORIZON) # need to predict horizon number of steps into the future\n",
        "], name=\"model_3_dense\")\n",
        "\n",
        "model_3.compile(loss=\"mae\",\n",
        "                optimizer=tf.keras.optimizers.Adam())\n",
        "\n",
        "model_3.fit(train_windows,\n",
        "            train_labels,\n",
        "            epochs=100,\n",
        "            batch_size=128,\n",
        "            verbose=0,\n",
        "            validation_data=(test_windows, test_labels),\n",
        "            callbacks=[create_model_checkpoint(model_name=model_3.name)])"
      ],
      "metadata": {
        "colab": {
          "base_uri": "https://localhost:8080/"
        },
        "id": "iW_kxGi8TSrg",
        "outputId": "86ee019d-2809-410a-dd60-7dcc57ebb70e"
      },
      "execution_count": 69,
      "outputs": [
        {
          "output_type": "stream",
          "name": "stdout",
          "text": [
            "INFO:tensorflow:Assets written to: model_experiments/model_3_dense/assets\n",
            "INFO:tensorflow:Assets written to: model_experiments/model_3_dense/assets\n",
            "INFO:tensorflow:Assets written to: model_experiments/model_3_dense/assets\n",
            "INFO:tensorflow:Assets written to: model_experiments/model_3_dense/assets\n",
            "INFO:tensorflow:Assets written to: model_experiments/model_3_dense/assets\n",
            "INFO:tensorflow:Assets written to: model_experiments/model_3_dense/assets\n",
            "INFO:tensorflow:Assets written to: model_experiments/model_3_dense/assets\n",
            "INFO:tensorflow:Assets written to: model_experiments/model_3_dense/assets\n",
            "INFO:tensorflow:Assets written to: model_experiments/model_3_dense/assets\n",
            "INFO:tensorflow:Assets written to: model_experiments/model_3_dense/assets\n",
            "INFO:tensorflow:Assets written to: model_experiments/model_3_dense/assets\n",
            "INFO:tensorflow:Assets written to: model_experiments/model_3_dense/assets\n",
            "INFO:tensorflow:Assets written to: model_experiments/model_3_dense/assets\n",
            "INFO:tensorflow:Assets written to: model_experiments/model_3_dense/assets\n",
            "INFO:tensorflow:Assets written to: model_experiments/model_3_dense/assets\n",
            "INFO:tensorflow:Assets written to: model_experiments/model_3_dense/assets\n",
            "INFO:tensorflow:Assets written to: model_experiments/model_3_dense/assets\n",
            "INFO:tensorflow:Assets written to: model_experiments/model_3_dense/assets\n",
            "INFO:tensorflow:Assets written to: model_experiments/model_3_dense/assets\n",
            "INFO:tensorflow:Assets written to: model_experiments/model_3_dense/assets\n",
            "INFO:tensorflow:Assets written to: model_experiments/model_3_dense/assets\n",
            "INFO:tensorflow:Assets written to: model_experiments/model_3_dense/assets\n",
            "INFO:tensorflow:Assets written to: model_experiments/model_3_dense/assets\n",
            "INFO:tensorflow:Assets written to: model_experiments/model_3_dense/assets\n",
            "INFO:tensorflow:Assets written to: model_experiments/model_3_dense/assets\n",
            "INFO:tensorflow:Assets written to: model_experiments/model_3_dense/assets\n",
            "INFO:tensorflow:Assets written to: model_experiments/model_3_dense/assets\n",
            "INFO:tensorflow:Assets written to: model_experiments/model_3_dense/assets\n",
            "INFO:tensorflow:Assets written to: model_experiments/model_3_dense/assets\n",
            "INFO:tensorflow:Assets written to: model_experiments/model_3_dense/assets\n",
            "INFO:tensorflow:Assets written to: model_experiments/model_3_dense/assets\n",
            "INFO:tensorflow:Assets written to: model_experiments/model_3_dense/assets\n",
            "INFO:tensorflow:Assets written to: model_experiments/model_3_dense/assets\n",
            "INFO:tensorflow:Assets written to: model_experiments/model_3_dense/assets\n",
            "INFO:tensorflow:Assets written to: model_experiments/model_3_dense/assets\n",
            "INFO:tensorflow:Assets written to: model_experiments/model_3_dense/assets\n"
          ]
        },
        {
          "output_type": "execute_result",
          "data": {
            "text/plain": [
              "<keras.callbacks.History at 0x7fc6d6d9b710>"
            ]
          },
          "metadata": {},
          "execution_count": 69
        }
      ]
    },
    {
      "cell_type": "code",
      "source": [
        "# Evaluate model 2 preds\n",
        "model_3.evaluate(test_windows, test_labels)"
      ],
      "metadata": {
        "colab": {
          "base_uri": "https://localhost:8080/"
        },
        "id": "oCGcuInhTUSU",
        "outputId": "a73606ff-c790-4b0f-ad96-09c097830c57"
      },
      "execution_count": 74,
      "outputs": [
        {
          "output_type": "stream",
          "name": "stdout",
          "text": [
            "18/18 [==============================] - 0s 1ms/step - loss: 568.5499\n"
          ]
        },
        {
          "output_type": "execute_result",
          "data": {
            "text/plain": [
              "568.5498657226562"
            ]
          },
          "metadata": {},
          "execution_count": 74
        }
      ]
    },
    {
      "cell_type": "code",
      "source": [
        "# Load in best performing model\n",
        "model_3 = tf.keras.models.load_model(\"model_experiments/model_3_dense/\")\n",
        "model_3.evaluate(test_windows, test_labels)"
      ],
      "metadata": {
        "colab": {
          "base_uri": "https://localhost:8080/"
        },
        "id": "ZG7_2ziTTfOt",
        "outputId": "ad0778c5-ab53-4fb7-a1ab-dbb0d376847b"
      },
      "execution_count": 75,
      "outputs": [
        {
          "output_type": "stream",
          "name": "stdout",
          "text": [
            "18/18 [==============================] - 0s 2ms/step - loss: 568.5499\n"
          ]
        },
        {
          "output_type": "execute_result",
          "data": {
            "text/plain": [
              "568.5498657226562"
            ]
          },
          "metadata": {},
          "execution_count": 75
        }
      ]
    },
    {
      "cell_type": "code",
      "source": [
        "# Get forecast predictions\n",
        "model_3_preds = make_preds(model_3,\n",
        "                           input_data=test_windows)"
      ],
      "metadata": {
        "id": "UHRRQV_RT-Ms"
      },
      "execution_count": 78,
      "outputs": []
    },
    {
      "cell_type": "code",
      "source": [
        "# Evaluate results for model 2 predictions\n",
        "model_3_results = evaluate_preds(y_true=tf.squeeze(test_labels), # remove 1 dimension of test labels\n",
        "                                 y_pred=model_3_preds)\n",
        "model_3_results"
      ],
      "metadata": {
        "colab": {
          "base_uri": "https://localhost:8080/"
        },
        "id": "m0wv2yxQTiUg",
        "outputId": "831e9cfe-37b9-474a-c387-c7e188d094cb"
      },
      "execution_count": 79,
      "outputs": [
        {
          "output_type": "execute_result",
          "data": {
            "text/plain": [
              "{'mae': 568.5498,\n",
              " 'mape': 2.549229,\n",
              " 'mase': 0.99878454,\n",
              " 'mse': 1172587.6,\n",
              " 'rmse': 1082.8608}"
            ]
          },
          "metadata": {},
          "execution_count": 79
        }
      ]
    },
    {
      "cell_type": "code",
      "source": [
        "offset = 300\n",
        "plt.figure(figsize=(10, 7))\n",
        "# Account for the test_window offset\n",
        "plot_time_series(timesteps=X_test[-len(test_windows):], values=test_labels[:, 0], start=offset, label=\"test_data\")\n",
        "plot_time_series(timesteps=X_test[-len(test_windows):], values=model_2_preds, start=offset, format=\"-\", label=\"model_2_preds\") "
      ],
      "metadata": {
        "colab": {
          "base_uri": "https://localhost:8080/",
          "height": 442
        },
        "id": "9ywwVhj1UBMO",
        "outputId": "13fb54e7-ef7d-4e75-ee94-d45689d79334"
      },
      "execution_count": 80,
      "outputs": [
        {
          "output_type": "display_data",
          "data": {
            "text/plain": [
              "<Figure size 720x504 with 1 Axes>"
            ],
            "image/png": "[encoded data removed]"
          },
          "metadata": {
            "needs_background": "light"
          }
        }
      ]
    },
    {
      "cell_type": "code",
      "source": [
        "#model 4 : Dense(window:30 , horizon = 7)\n",
        "HORIZON = 7\n",
        "WINDOW_SIZE = 30\n",
        "\n",
        "full_windows, full_labels = make_windows(prices, window_size=WINDOW_SIZE, horizon=HORIZON)\n",
        "len(full_windows), len(full_labels)"
      ],
      "metadata": {
        "colab": {
          "base_uri": "https://localhost:8080/"
        },
        "id": "2yBXijiPUDw-",
        "outputId": "885c49d8-5dd9-4677-f235-912006b8bcae"
      },
      "execution_count": 81,
      "outputs": [
        {
          "output_type": "execute_result",
          "data": {
            "text/plain": [
              "(2751, 2751)"
            ]
          },
          "metadata": {},
          "execution_count": 81
        }
      ]
    },
    {
      "cell_type": "code",
      "source": [
        "train_windows, test_windows, train_labels, test_labels = make_train_test_splits(windows=full_windows, labels=full_labels, test_split=0.2)\n",
        "len(train_windows), len(test_windows), len(train_labels), len(test_labels)"
      ],
      "metadata": {
        "colab": {
          "base_uri": "https://localhost:8080/"
        },
        "id": "Eek5dL2FULN6",
        "outputId": "3bfdf7f5-5151-49cd-fdad-bbca79fea465"
      },
      "execution_count": 82,
      "outputs": [
        {
          "output_type": "execute_result",
          "data": {
            "text/plain": [
              "(2200, 551, 2200, 551)"
            ]
          },
          "metadata": {},
          "execution_count": 82
        }
      ]
    },
    {
      "cell_type": "code",
      "source": [
        "tf.random.set_seed(42)\n",
        "\n",
        "# Create model (same as model_1 except with different data input size)\n",
        "model_4 = tf.keras.Sequential([\n",
        "  layers.Dense(128, activation=\"relu\"),\n",
        "  layers.Dense(HORIZON)\n",
        "], name=\"model_4_dense\")\n",
        "\n",
        "model_4.compile(loss=\"mae\",\n",
        "                optimizer=tf.keras.optimizers.Adam())\n",
        "\n",
        "model_4.fit(train_windows,\n",
        "            train_labels,\n",
        "            batch_size=128,\n",
        "            epochs=100,\n",
        "            verbose=0,\n",
        "            validation_data=(test_windows, test_labels),\n",
        "            callbacks=[create_model_checkpoint(model_name=model_4.name)])"
      ],
      "metadata": {
        "colab": {
          "base_uri": "https://localhost:8080/"
        },
        "id": "7G7OPcnEUOS4",
        "outputId": "40e8ceac-70ed-4f31-93d2-eb6f31226e25"
      },
      "execution_count": 83,
      "outputs": [
        {
          "output_type": "stream",
          "name": "stdout",
          "text": [
            "INFO:tensorflow:Assets written to: model_experiments/model_4_dense/assets\n",
            "INFO:tensorflow:Assets written to: model_experiments/model_4_dense/assets\n",
            "INFO:tensorflow:Assets written to: model_experiments/model_4_dense/assets\n",
            "INFO:tensorflow:Assets written to: model_experiments/model_4_dense/assets\n",
            "INFO:tensorflow:Assets written to: model_experiments/model_4_dense/assets\n",
            "INFO:tensorflow:Assets written to: model_experiments/model_4_dense/assets\n",
            "INFO:tensorflow:Assets written to: model_experiments/model_4_dense/assets\n",
            "INFO:tensorflow:Assets written to: model_experiments/model_4_dense/assets\n",
            "INFO:tensorflow:Assets written to: model_experiments/model_4_dense/assets\n",
            "INFO:tensorflow:Assets written to: model_experiments/model_4_dense/assets\n",
            "INFO:tensorflow:Assets written to: model_experiments/model_4_dense/assets\n",
            "INFO:tensorflow:Assets written to: model_experiments/model_4_dense/assets\n",
            "INFO:tensorflow:Assets written to: model_experiments/model_4_dense/assets\n",
            "INFO:tensorflow:Assets written to: model_experiments/model_4_dense/assets\n",
            "INFO:tensorflow:Assets written to: model_experiments/model_4_dense/assets\n",
            "INFO:tensorflow:Assets written to: model_experiments/model_4_dense/assets\n",
            "INFO:tensorflow:Assets written to: model_experiments/model_4_dense/assets\n",
            "INFO:tensorflow:Assets written to: model_experiments/model_4_dense/assets\n",
            "INFO:tensorflow:Assets written to: model_experiments/model_4_dense/assets\n",
            "INFO:tensorflow:Assets written to: model_experiments/model_4_dense/assets\n",
            "INFO:tensorflow:Assets written to: model_experiments/model_4_dense/assets\n",
            "INFO:tensorflow:Assets written to: model_experiments/model_4_dense/assets\n",
            "INFO:tensorflow:Assets written to: model_experiments/model_4_dense/assets\n"
          ]
        },
        {
          "output_type": "execute_result",
          "data": {
            "text/plain": [
              "<keras.callbacks.History at 0x7fc6d6f42110>"
            ]
          },
          "metadata": {},
          "execution_count": 83
        }
      ]
    },
    {
      "cell_type": "code",
      "source": [
        "# How did our model with a larger window size and horizon go?\n",
        "model_4.evaluate(test_windows, test_labels)"
      ],
      "metadata": {
        "id": "ZNcDqTapUY5f"
      },
      "execution_count": null,
      "outputs": []
    },
    {
      "cell_type": "code",
      "source": [
        "# Load in best version of model_3 and evaluate\n",
        "model_4 = tf.keras.models.load_model(\"model_experiments/model_4_dense/\")\n",
        "model_4.evaluate(test_windows, test_labels)"
      ],
      "metadata": {
        "colab": {
          "base_uri": "https://localhost:8080/"
        },
        "id": "QfZWyAU1Ubr9",
        "outputId": "deb7122c-a4ff-4cfc-994d-bf8164c62ad1"
      },
      "execution_count": 84,
      "outputs": [
        {
          "output_type": "stream",
          "name": "stdout",
          "text": [
            "18/18 [==============================] - 0s 2ms/step - loss: 1228.1417\n"
          ]
        },
        {
          "output_type": "execute_result",
          "data": {
            "text/plain": [
              "1228.1417236328125"
            ]
          },
          "metadata": {},
          "execution_count": 84
        }
      ]
    },
    {
      "cell_type": "code",
      "source": [
        "# The predictions are going to be 7 steps at a time (this is the HORIZON size)\n",
        "model_4_preds = make_preds(model_4,\n",
        "                           input_data=test_windows)\n",
        "model_4_preds[:5]"
      ],
      "metadata": {
        "colab": {
          "base_uri": "https://localhost:8080/"
        },
        "id": "WdhNzzqhUglc",
        "outputId": "182ab96f-5ec6-4231-b2cc-066f38a4adb5"
      },
      "execution_count": 85,
      "outputs": [
        {
          "output_type": "execute_result",
          "data": {
            "text/plain": [
              "<tf.Tensor: shape=(5, 7), dtype=float32, numpy=\n",
              "array([[9233.328 , 9332.702 , 9363.651 , 9442.775 , 9401.978 , 9414.001 ,\n",
              "        9280.01  ],\n",
              "       [8911.084 , 9065.984 , 9113.08  , 9026.601 , 8990.093 , 9000.148 ,\n",
              "        9053.433 ],\n",
              "       [8848.506 , 9018.2295, 9006.146 , 8934.578 , 8929.888 , 8856.351 ,\n",
              "        8958.367 ],\n",
              "       [9048.449 , 9058.819 , 8966.749 , 9127.248 , 8982.123 , 9056.629 ,\n",
              "        9002.575 ],\n",
              "       [8958.309 , 9008.146 , 8827.891 , 8995.736 , 9129.433 , 9099.142 ,\n",
              "        8881.021 ]], dtype=float32)>"
            ]
          },
          "metadata": {},
          "execution_count": 85
        }
      ]
    },
    {
      "cell_type": "code",
      "source": [
        "# Calculate model_3 results - these are going to be multi-dimensional because\n",
        "# we're trying to predict more than one step at a time.\n",
        "model_4_results = evaluate_preds(y_true=tf.squeeze(test_labels),\n",
        "                                 y_pred=model_4_preds)\n",
        "model_4_results"
      ],
      "metadata": {
        "colab": {
          "base_uri": "https://localhost:8080/"
        },
        "id": "TorlP03YUjXs",
        "outputId": "ac701315-7b1a-4b80-d643-ab9958c88e90"
      },
      "execution_count": 86,
      "outputs": [
        {
          "output_type": "execute_result",
          "data": {
            "text/plain": [
              "{'mae': array([  559.42004 ,   276.0053  ,   298.20258 ,   408.06152 ,\n",
              "          431.32047 ,   526.28064 ,   542.41644 ,   459.79108 ,\n",
              "          490.63736 ,   631.6582  ,   802.51654 ,   731.79333 ,\n",
              "          684.06476 ,   789.71857 ,   563.4593  ,   271.9013  ,\n",
              "          231.86858 ,   258.64767 ,   277.65277 ,   291.5478  ,\n",
              "          105.425575,   132.63156 ,   205.97643 ,   262.20816 ,\n",
              "          169.8651  ,   165.05127 ,   110.21959 ,    83.64655 ,\n",
              "          115.86182 ,   152.87025 ,   279.98862 ,   380.96127 ,\n",
              "          280.21414 ,   271.9101  ,   264.43088 ,   261.91315 ,\n",
              "          330.29108 ,   242.21861 ,   253.72746 ,   245.38596 ,\n",
              "          412.562   ,   128.63539 ,    88.56452 ,    92.15639 ,\n",
              "          100.39704 ,   102.41455 ,    74.52804 ,    94.00349 ,\n",
              "           84.86837 ,    76.64781 ,   108.49679 ,   144.869   ,\n",
              "          187.69133 ,   162.5261  ,   265.83133 ,   391.21323 ,\n",
              "          552.2943  ,   541.77313 ,   522.20886 ,   523.98157 ,\n",
              "          430.13052 ,   276.80893 ,   263.94058 ,   346.60178 ,\n",
              "          449.3755  ,   494.68695 ,   524.3805  ,   532.446   ,\n",
              "          147.137   ,   232.74303 ,   213.22754 ,   407.64008 ,\n",
              "          528.1755  ,   381.76352 ,   288.17203 ,   365.8348  ,\n",
              "          332.32047 ,   393.45953 ,   525.2578  ,   656.50446 ,\n",
              "          811.64105 ,   640.2487  ,   293.96652 ,   163.34152 ,\n",
              "          214.56223 ,   211.33469 ,   237.02092 ,   322.86914 ,\n",
              "          365.69547 ,   561.3761  ,   439.0353  ,   436.3436  ,\n",
              "          359.31528 ,   248.87918 ,   167.8086  ,   263.49414 ,\n",
              "          310.0152  ,   507.3171  ,   621.88586 ,   777.44714 ,\n",
              "          512.9869  ,   292.40332 ,   202.28111 ,   327.75348 ,\n",
              "          356.55942 ,   364.2507  ,   453.20215 ,   574.33777 ,\n",
              "          966.9287  ,   940.8019  ,   871.2143  ,   374.3736  ,\n",
              "          174.17635 ,   241.6317  ,   192.01842 ,   354.8773  ,\n",
              "          305.95822 ,   407.91135 ,   562.78625 ,  1000.76465 ,\n",
              "         1604.6038  ,  2171.9666  ,  1956.6292  ,  2101.5525  ,\n",
              "         2263.4653  ,  2644.0884  ,  1284.6072  ,   680.17303 ,\n",
              "          450.15256 ,   391.20877 ,   514.96826 ,   414.87408 ,\n",
              "          485.30225 ,   301.8972  ,   314.97287 ,   298.2189  ,\n",
              "          351.74908 ,   286.78683 ,   316.8676  ,   322.0376  ,\n",
              "          342.37445 ,   373.64133 ,   283.48422 ,   587.4204  ,\n",
              "          666.5479  ,   415.29117 ,   351.52155 ,   228.57352 ,\n",
              "          281.31793 ,   207.98508 ,   233.22957 ,   522.5366  ,\n",
              "          344.37173 ,   535.6847  ,   403.58908 ,   351.62738 ,\n",
              "          196.2786  ,   204.0111  ,   210.801   ,   162.25252 ,\n",
              "          284.53592 ,   245.85555 ,   225.53348 ,   272.62347 ,\n",
              "          321.16434 ,   365.74408 ,   523.12604 ,   706.972   ,\n",
              "          516.4347  ,   604.03156 ,   827.5575  ,   887.2248  ,\n",
              "          991.22644 ,  1084.594   ,   499.86246 ,   265.87973 ,\n",
              "          353.98926 ,   401.75015 ,   416.3312  ,   392.2098  ,\n",
              "          466.42563 ,   458.61328 ,   622.09735 ,   973.6868  ,\n",
              "          865.1095  ,   278.56168 ,   516.1124  ,   737.87164 ,\n",
              "          363.9961  ,   231.46066 ,   265.72015 ,   234.37752 ,\n",
              "          366.99582 ,   436.41098 ,   645.9733  ,   610.24457 ,\n",
              "          342.28433 ,   262.02386 ,   323.00375 ,   306.09793 ,\n",
              "          523.2842  ,   736.6734  ,   707.1592  ,   451.09836 ,\n",
              "          301.78976 ,   144.70912 ,   199.37123 ,   336.74512 ,\n",
              "          146.3319  ,   138.04367 ,   307.15137 ,   179.54256 ,\n",
              "          165.28293 ,   204.35352 ,   271.4813  ,   372.5491  ,\n",
              "          525.0003  ,   147.24805 ,   107.68108 ,   150.50168 ,\n",
              "          137.84389 ,   209.29674 ,   181.5173  ,   185.5844  ,\n",
              "          145.70578 ,   140.22517 ,   158.3178  ,   177.3323  ,\n",
              "          274.27832 ,   572.3242  ,   270.27078 ,   279.54477 ,\n",
              "          133.47781 ,    55.439594,    81.092636,    68.80943 ,\n",
              "          103.634346,   153.1716  ,   149.0791  ,   168.81125 ,\n",
              "           74.92425 ,   162.96986 ,    56.424107,    93.80176 ,\n",
              "          210.05315 ,   146.7373  ,   143.01674 ,    74.46889 ,\n",
              "           83.6822  ,   123.72587 ,   171.18959 ,   152.87207 ,\n",
              "          176.66936 ,   192.75906 ,   269.69754 ,   310.21527 ,\n",
              "          603.6744  ,   699.2436  ,   812.1265  ,   911.0148  ,\n",
              "         1125.0621  ,  1342.5162  ,  1313.9249  ,   521.97644 ,\n",
              "          205.17201 ,   259.8019  ,   227.63268 ,   301.16617 ,\n",
              "          385.06558 ,   150.06682 ,   131.36873 ,   206.08928 ,\n",
              "          130.17215 ,   285.26996 ,   290.4891  ,   284.52246 ,\n",
              "          233.101   ,   336.17328 ,   216.41406 ,   185.488   ,\n",
              "          164.74861 ,   193.0219  ,   168.33244 ,   244.41086 ,\n",
              "          427.41226 ,   597.6722  ,   279.71664 ,   304.67145 ,\n",
              "          176.03697 ,   239.18875 ,   355.67758 ,   290.50726 ,\n",
              "          171.10756 ,   184.33385 ,   261.0728  ,   350.27106 ,\n",
              "          577.03156 ,   771.4784  ,  1050.9551  ,  1481.2781  ,\n",
              "         1378.0541  ,   883.13226 ,   572.96063 ,   130.63058 ,\n",
              "          206.059   ,   197.40959 ,   295.65317 ,   404.69308 ,\n",
              "          398.2896  ,   417.95145 ,   438.75586 ,   388.33496 ,\n",
              "          214.90555 ,   105.01005 ,   325.9368  ,   447.4184  ,\n",
              "          361.00977 ,   496.7426  ,   307.85727 ,   158.863   ,\n",
              "          169.79129 ,   313.21262 ,   134.87863 ,   118.55971 ,\n",
              "          148.13351 ,   215.45215 ,   311.0682  ,   274.3397  ,\n",
              "          205.59319 ,   154.73787 ,   170.1815  ,   233.73215 ,\n",
              "          328.0646  ,   456.9986  ,   544.226   ,   657.4069  ,\n",
              "          596.3923  ,   493.66547 ,   158.6808  ,    92.03822 ,\n",
              "          306.65457 ,   252.29018 ,   425.00195 ,   607.69196 ,\n",
              "          757.7344  ,  1028.1162  ,  1196.5586  ,  1187.6671  ,\n",
              "         1222.1669  ,   399.41867 ,   264.33035 ,   223.53445 ,\n",
              "          348.61246 ,   267.4036  ,   292.8566  ,   226.46219 ,\n",
              "          163.67912 ,   388.74594 ,   616.5091  ,   715.7144  ,\n",
              "          884.2673  ,  1118.2787  ,  1178.191   ,  1176.8744  ,\n",
              "          447.41656 ,   517.2567  ,   402.29672 ,   321.86285 ,\n",
              "          541.6454  ,   816.1635  ,   814.1642  ,   806.601   ,\n",
              "         1098.4758  ,  1303.5609  ,  1819.226   ,  1520.301   ,\n",
              "          975.065   ,   500.0745  ,   451.08258 ,   624.44836 ,\n",
              "          932.54913 ,  1119.5061  ,  1098.8876  ,  1111.4788  ,\n",
              "          981.3917  ,   774.1716  ,  1216.6174  ,  1347.8223  ,\n",
              "         1275.0948  ,   297.71875 ,   200.9509  ,   508.31027 ,\n",
              "          814.637   ,   605.5293  ,   654.36163 ,   563.6462  ,\n",
              "          596.4467  ,   581.3574  ,   830.5762  ,  1476.597   ,\n",
              "         2502.964   ,  2741.3472  ,  3085.4458  ,  3333.7878  ,\n",
              "         3539.5178  ,  2340.6372  ,   909.3376  ,   490.21567 ,\n",
              "          972.10657 ,  1305.3005  ,  1392.7361  ,  1755.094   ,\n",
              "         2546.695   ,  3059.948   ,  3003.2554  ,  2345.634   ,\n",
              "         2578.2778  ,  2814.2083  ,  3490.5386  ,  3260.6985  ,\n",
              "         4013.9187  ,  4978.504   ,  4385.956   ,  4103.263   ,\n",
              "         4391.792   ,  3081.4644  ,  2669.2148  ,  2414.4084  ,\n",
              "         4396.1475  ,  5788.4326  ,  5140.9053  ,  1273.4592  ,\n",
              "         1228.788   ,   701.4922  ,  2658.4453  ,  3027.572   ,\n",
              "         3027.8152  ,  3052.0781  ,  3045.396   ,  3537.386   ,\n",
              "         3745.5918  ,   900.0968  ,  1300.6917  ,  1302.6451  ,\n",
              "         1263.2556  ,  1302.2109  ,  2369.464   ,  3758.8523  ,\n",
              "         3492.7053  ,  2445.4978  ,  2877.3337  ,  3181.6016  ,\n",
              "         4807.9404  ,  5343.167   ,  4497.2007  ,  4869.027   ,\n",
              "         6087.3286  ,  6035.864   ,  8042.9697  ,  4592.853   ,\n",
              "         1518.462   ,  1500.4481  ,  1698.0397  ,  2548.5916  ,\n",
              "         2541.6692  ,  3393.869   ,  2871.6948  ,  3457.3716  ,\n",
              "         2717.7974  ,  3099.4827  ,  5651.3228  ,  6983.054   ,\n",
              "        10184.632   ,  8898.209   ,  4790.104   ,  2860.8967  ,\n",
              "         2013.5424  ,  1576.1022  ,  2593.8655  ,  3928.4883  ,\n",
              "         2703.8203  ,  2768.889   ,  3018.4146  ,  3906.845   ,\n",
              "         5233.6826  ,  6350.7373  ,  6068.0386  ,  5488.909   ,\n",
              "         4320.8374  ,  2024.2377  ,  1894.8945  ,  1482.7812  ,\n",
              "         1518.4553  ,  2880.513   ,  1606.4152  ,  1566.9939  ,\n",
              "         2957.5447  ,  4173.5615  ,  5676.796   ,  5417.197   ,\n",
              "         5249.5586  ,  1434.1613  ,  2133.1199  ,  2881.859   ,\n",
              "         3821.452   ,  4351.3306  ,  2311.1194  ,  2531.862   ,\n",
              "         1582.3064  ,   743.0675  ,   740.6685  ,   830.79297 ,\n",
              "          862.8683  ,   569.9665  ,  1134.5519  ,  1382.0139  ,\n",
              "         1559.6451  ,  2509.4558  ,  3264.3242  ,  3508.3386  ,\n",
              "         2416.577   ,  2335.6223  ,  2526.2778  ,  3310.1401  ,\n",
              "         5526.7583  ,  7300.811   ,  8667.999   ,  8214.251   ,\n",
              "         6219.2544  ,  4510.4214  ,  4505.271   ,  2656.5486  ,\n",
              "         1991.4564  ,  3071.716   ,  4366.595   ,  6207.0596  ,\n",
              "         3825.3962  ,  1774.5725  ,  2043.5586  ,  2223.3137  ,\n",
              "         1501.3549  ,  1830.9236  ,  1363.1423  ,  2061.2495  ,\n",
              "         2064.8828  ,  1645.9509  ,  2415.7795  ,  3431.0178  ,\n",
              "         5687.66    ,  7175.9517  ,  7918.8955  ], dtype=float32),\n",
              " 'mape': array([ 6.383133  ,  3.1873055 ,  3.4441986 ,  4.7474217 ,  5.087393  ,\n",
              "         6.2807307 ,  6.541848  ,  5.720405  ,  6.363076  ,  8.315235  ,\n",
              "        10.800634  , 10.020564  ,  9.454184  , 10.886435  ,  7.8023076 ,\n",
              "         3.7682526 ,  3.155776  ,  3.437866  ,  3.6989737 ,  3.8828704 ,\n",
              "         1.3986939 ,  1.7881403 ,  2.8099759 ,  3.586232  ,  2.3180187 ,\n",
              "         2.242667  ,  1.4899626 ,  1.1336712 ,  1.5688592 ,  2.1066084 ,\n",
              "         3.8841438 ,  5.2990785 ,  3.9507866 ,  3.9636142 ,  3.8526888 ,\n",
              "         3.8195531 ,  4.802899  ,  3.5313706 ,  3.6780703 ,  3.46592   ,\n",
              "         5.6844716 ,  1.781396  ,  1.2288109 ,  1.2746593 ,  1.3930616 ,\n",
              "         1.4077994 ,  1.0244621 ,  1.2907869 ,  1.1759014 ,  1.0764247 ,\n",
              "         1.5163736 ,  2.0254838 ,  2.6292856 ,  2.2210493 ,  3.4710693 ,\n",
              "         5.017667  ,  7.0700006 ,  6.8297133 ,  6.527853  ,  6.520673  ,\n",
              "         5.3245935 ,  3.3024843 ,  3.071215  ,  3.98927   ,  5.1149187 ,\n",
              "         5.61996   ,  5.953922  ,  6.0512958 ,  1.6630603 ,  2.6762862 ,\n",
              "         2.4792778 ,  4.7584987 ,  6.204536  ,  4.5032034 ,  3.402323  ,\n",
              "         4.296131  ,  3.8193192 ,  4.302126  ,  5.675283  ,  7.0431447 ,\n",
              "         8.695885  ,  6.8402886 ,  3.1351395 ,  1.7247756 ,  2.2906337 ,\n",
              "         2.239771  ,  2.4867249 ,  3.3104722 ,  3.7112315 ,  5.63722   ,\n",
              "         4.333159  ,  4.287891  ,  3.5142124 ,  2.4285538 ,  1.6611431 ,\n",
              "         2.6178567 ,  3.1315804 ,  5.1447906 ,  6.353043  ,  7.9626427 ,\n",
              "         5.287782  ,  3.019717  ,  2.0546832 ,  3.4092698 ,  3.8586323 ,\n",
              "         4.0400887 ,  5.076718  ,  6.4802604 , 11.007784  , 10.7414465 ,\n",
              "         9.975953  ,  4.3021564 ,  1.9976255 ,  2.7215734 ,  2.1505435 ,\n",
              "         4.012396  ,  3.618029  ,  4.9309316 ,  6.8522887 , 14.579784  ,\n",
              "        24.689518  , 35.3894    , 34.018784  , 38.566185  , 41.93856   ,\n",
              "        49.170227  , 23.934246  , 12.76731   ,  8.060933  ,  6.7705026 ,\n",
              "         8.406375  ,  6.574843  ,  7.4993    ,  4.5726724 ,  5.019635  ,\n",
              "         4.6231947 ,  5.3266654 ,  4.374331  ,  5.0321302 ,  5.182704  ,\n",
              "         5.5057526 ,  5.9565516 ,  4.374629  ,  8.735546  ,  9.690324  ,\n",
              "         5.9229927 ,  4.960857  ,  3.2358913 ,  3.916653  ,  2.960389  ,\n",
              "         3.2594497 ,  7.427887  ,  4.961269  ,  7.767851  ,  5.8759427 ,\n",
              "         5.0899153 ,  2.7828124 ,  2.8943253 ,  2.9632704 ,  2.2983522 ,\n",
              "         3.979706  ,  3.4080956 ,  3.0998034 ,  3.7605264 ,  4.432523  ,\n",
              "         4.82497   ,  6.85255   ,  8.808609  ,  6.1029444 ,  6.961776  ,\n",
              "         9.447651  , 10.045695  , 11.199372  , 12.213851  ,  5.522779  ,\n",
              "         2.7715328 ,  3.6357415 ,  4.1950994 ,  4.3852634 ,  4.1972456 ,\n",
              "         4.983673  ,  5.084654  ,  7.0168824 , 10.815913  ,  9.642549  ,\n",
              "         3.1320593 ,  5.3848643 ,  7.675372  ,  3.774346  ,  2.4561572 ,\n",
              "         2.8501215 ,  2.5092413 ,  3.9920144 ,  4.77418   ,  7.1354446 ,\n",
              "         6.7556424 ,  3.8018935 ,  2.8637733 ,  3.509565  ,  3.2845404 ,\n",
              "         5.372305  ,  7.5835423 ,  7.2673955 ,  4.5891204 ,  3.0293348 ,\n",
              "         1.4613218 ,  1.9975586 ,  3.4842055 ,  1.5093697 ,  1.4179296 ,\n",
              "         3.2048676 ,  1.8887612 ,  1.7362866 ,  2.1689427 ,  2.8873942 ,\n",
              "         3.9644148 ,  5.5802307 ,  1.5622852 ,  1.149674  ,  1.6047982 ,\n",
              "         1.4754645 ,  2.231686  ,  1.9317787 ,  1.9744525 ,  1.5439414 ,\n",
              "         1.4976854 ,  1.6820679 ,  1.897119  ,  2.9943423 ,  6.2459874 ,\n",
              "         2.953745  ,  3.064406  ,  1.4674717 ,  0.60568035,  0.8881008 ,\n",
              "         0.74896526,  1.1339073 ,  1.6680954 ,  1.608187  ,  1.8191533 ,\n",
              "         0.8100192 ,  1.7489618 ,  0.6075544 ,  1.0088054 ,  2.2717352 ,\n",
              "         1.5915908 ,  1.5513337 ,  0.80798715,  0.91097534,  1.3482684 ,\n",
              "         1.8638477 ,  1.6469681 ,  1.8685368 ,  2.02392   ,  2.8186364 ,\n",
              "         3.1947546 ,  5.8327208 ,  6.557446  ,  7.4054317 ,  8.245705  ,\n",
              "        10.09411   , 11.89811   , 11.6254015 ,  4.5898523 ,  1.7863373 ,\n",
              "         2.2723162 ,  1.9803488 ,  2.6221123 ,  3.3960602 ,  1.3109515 ,\n",
              "         1.1341455 ,  1.759563  ,  1.128492  ,  2.4649835 ,  2.5131893 ,\n",
              "         2.4598405 ,  2.0161705 ,  2.8633106 ,  1.7830117 ,  1.5193297 ,\n",
              "         1.3595337 ,  1.614378  ,  1.4105192 ,  2.059183  ,  3.6486063 ,\n",
              "         5.1331215 ,  2.424635  ,  2.6510155 ,  1.5341433 ,  2.09643   ,\n",
              "         3.1137257 ,  2.539438  ,  1.4683777 ,  1.568614  ,  2.2879937 ,\n",
              "         3.1728706 ,  5.3861685 ,  7.392792  , 10.086266  , 14.331542  ,\n",
              "        13.409384  ,  8.636568  ,  5.616763  ,  1.2732922 ,  1.9986842 ,\n",
              "         1.8976632 ,  2.7845583 ,  3.754111  ,  3.6711032 ,  3.8447108 ,\n",
              "         4.0184684 ,  3.5524209 ,  1.9625986 ,  0.98632026,  3.0846426 ,\n",
              "         4.236171  ,  3.4315605 ,  4.7224817 ,  2.9343495 ,  1.5163301 ,\n",
              "         1.5953581 ,  2.9111507 ,  1.2543285 ,  1.1071885 ,  1.3919702 ,\n",
              "         2.0292516 ,  2.9253087 ,  2.5853817 ,  1.9386241 ,  1.4526908 ,\n",
              "         1.5694046 ,  2.1026871 ,  2.9367437 ,  4.04099   ,  4.7796817 ,\n",
              "         5.770069  ,  5.2124357 ,  4.3052373 ,  1.3792781 ,  0.8005689 ,\n",
              "         2.684975  ,  2.188901  ,  3.448495  ,  4.792791  ,  5.909497  ,\n",
              "         7.955139  ,  9.233251  ,  9.119957  ,  9.261035  ,  2.9975643 ,\n",
              "         1.9903    ,  1.6718756 ,  2.58726   ,  1.9542675 ,  2.1405175 ,\n",
              "         1.6731445 ,  1.178066  ,  2.6046596 ,  4.0535207 ,  4.755552  ,\n",
              "         5.835533  ,  7.3285947 ,  7.6915874 ,  7.6137385 ,  2.8398395 ,\n",
              "         3.3314493 ,  2.5113592 ,  2.0298178 ,  3.3189912 ,  4.8585114 ,\n",
              "         4.7158113 ,  4.6272564 ,  6.2273393 ,  7.223699  ,  9.988826  ,\n",
              "         8.288783  ,  5.237044  ,  2.6687312 ,  2.4694824 ,  3.5809126 ,\n",
              "         5.3039985 ,  6.3736773 ,  6.23859   ,  6.344448  ,  5.5967784 ,\n",
              "         4.148265  ,  6.354063  ,  7.0523105 ,  6.644291  ,  1.5557402 ,\n",
              "         1.0602225 ,  2.6997712 ,  4.3472815 ,  3.2732253 ,  3.5330117 ,\n",
              "         3.0514553 ,  3.2215595 ,  3.1218312 ,  4.204726  ,  6.9420166 ,\n",
              "        11.60342   , 12.176869  , 13.453348  , 14.439218  , 15.278827  ,\n",
              "        10.020564  ,  3.8659077 ,  2.0333557 ,  3.9704196 ,  5.2561073 ,\n",
              "         5.4017196 ,  6.697758  ,  9.399555  , 11.09861   , 10.672504  ,\n",
              "         7.815193  ,  8.272939  ,  8.983307  , 10.819359  ,  9.587128  ,\n",
              "        11.14034   , 13.304127  , 11.300749  , 10.6548    , 11.274142  ,\n",
              "         7.8193297 ,  6.9860325 ,  6.769106  , 12.204499  , 16.113087  ,\n",
              "        14.353757  ,  3.5346606 ,  3.313356  ,  1.8951993 ,  7.7469826 ,\n",
              "         9.033199  ,  9.231903  ,  9.467803  ,  9.404374  , 11.023445  ,\n",
              "        11.800318  ,  2.8124304 ,  4.0199337 ,  3.950694  ,  3.7909858 ,\n",
              "         3.9367132 ,  6.9262767 , 10.6855    ,  9.707618  ,  6.670374  ,\n",
              "         7.674061  ,  8.309083  , 11.966503  , 12.519148  , 10.110762  ,\n",
              "        10.707312  , 13.19876   , 12.978641  , 17.091331  ,  9.630076  ,\n",
              "         3.1794276 ,  2.9887314 ,  3.3808594 ,  4.881789  ,  4.761776  ,\n",
              "         6.241043  ,  5.2421517 ,  6.347189  ,  5.175462  ,  6.029026  ,\n",
              "        11.695898  , 14.624441  , 21.540733  , 18.883375  , 10.238024  ,\n",
              "         6.1705375 ,  4.2898383 ,  3.2523804 ,  5.2908754 ,  7.9320273 ,\n",
              "         5.3697076 ,  5.336057  ,  5.5906935 ,  7.074054  ,  9.375492  ,\n",
              "        11.086345  , 10.371183  ,  9.408301  ,  7.407569  ,  3.3996441 ,\n",
              "         3.2378588 ,  2.5028694 ,  2.6447754 ,  5.0076265 ,  2.8739963 ,\n",
              "         2.8070548 ,  5.404184  ,  7.739886  , 10.505011  , 10.031975  ,\n",
              "         9.742052  ,  2.6674068 ,  3.8989453 ,  5.0200095 ,  6.615648  ,\n",
              "         7.476633  ,  3.9717202 ,  4.3323865 ,  2.6973286 ,  1.2728416 ,\n",
              "         1.2849373 ,  1.4467553 ,  1.4952526 ,  0.98913246,  1.9539042 ,\n",
              "         2.3853426 ,  2.5916712 ,  4.069341  ,  5.2415066 ,  5.630094  ,\n",
              "         3.8688655 ,  3.7874763 ,  4.2134275 ,  5.7756824 ,  9.770691  ,\n",
              "        13.159069  , 16.036814  , 15.505876  , 12.111253  ,  8.840368  ,\n",
              "         8.823597  ,  5.2454715 ,  3.878957  ,  5.697788  ,  7.8928275 ,\n",
              "        11.124117  ,  6.7739263 ,  3.14318   ,  3.6283498 ,  3.892282  ,\n",
              "         2.6967316 ,  3.2670074 ,  2.4376302 ,  3.6690652 ,  3.585248  ,\n",
              "         2.9584897 ,  4.53231   ,  6.682528  , 11.290611  , 14.65142   ,\n",
              "        16.85183   ], dtype=float32),\n",
              " 'mase': 2.1854093,\n",
              " 'mse': array([3.33394000e+05, 1.03724445e+05, 9.75477734e+04, 1.80555578e+05,\n",
              "        2.26793469e+05, 3.19683781e+05, 3.31785156e+05, 2.79899312e+05,\n",
              "        3.70252281e+05, 5.32036625e+05, 7.95682000e+05, 6.82951375e+05,\n",
              "        5.56032125e+05, 6.60285000e+05, 3.52380906e+05, 1.16671945e+05,\n",
              "        8.00336719e+04, 9.34664531e+04, 9.21393672e+04, 1.04041875e+05,\n",
              "        1.96615488e+04, 2.64791699e+04, 6.18707188e+04, 1.02955797e+05,\n",
              "        4.36306016e+04, 3.45583516e+04, 1.73448262e+04, 1.06492334e+04,\n",
              "        1.50544912e+04, 3.00173652e+04, 9.54852891e+04, 1.50687219e+05,\n",
              "        9.55566953e+04, 1.24640773e+05, 1.22260398e+05, 1.22192852e+05,\n",
              "        1.64926156e+05, 1.04291938e+05, 1.04716102e+05, 7.14317812e+04,\n",
              "        1.85622641e+05, 2.40555898e+04, 1.04443379e+04, 1.08766943e+04,\n",
              "        1.81710645e+04, 1.34194131e+04, 7.59755225e+03, 1.30255479e+04,\n",
              "        9.67257910e+03, 1.21373447e+04, 1.71709180e+04, 2.91904902e+04,\n",
              "        5.34009375e+04, 4.30802227e+04, 1.54338922e+05, 2.63090000e+05,\n",
              "        3.92752844e+05, 3.85401812e+05, 3.42097688e+05, 3.03134500e+05,\n",
              "        2.02138109e+05, 1.61282828e+05, 1.68757281e+05, 2.24789250e+05,\n",
              "        3.34351000e+05, 3.17256219e+05, 3.24330469e+05, 2.94770938e+05,\n",
              "        3.21403379e+04, 7.15406328e+04, 6.01047383e+04, 1.94125781e+05,\n",
              "        2.96338000e+05, 1.73771594e+05, 1.10524422e+05, 1.69625984e+05,\n",
              "        1.34109234e+05, 2.44139016e+05, 3.85172812e+05, 5.37043375e+05,\n",
              "        6.99801562e+05, 4.24303656e+05, 9.64800000e+04, 4.17386289e+04,\n",
              "        5.79252109e+04, 5.76000039e+04, 7.16003516e+04, 1.40586828e+05,\n",
              "        1.72043281e+05, 3.53915438e+05, 2.63749906e+05, 2.47050219e+05,\n",
              "        1.52179578e+05, 8.25143125e+04, 3.97282109e+04, 7.46978125e+04,\n",
              "        1.56581328e+05, 3.18724781e+05, 4.61892062e+05, 6.32013812e+05,\n",
              "        3.03695938e+05, 1.08098164e+05, 5.32101680e+04, 1.21410133e+05,\n",
              "        2.14644328e+05, 2.69117562e+05, 3.37814000e+05, 4.53375344e+05,\n",
              "        1.08349212e+06, 9.69460000e+05, 7.77834312e+05, 1.66238922e+05,\n",
              "        4.37044336e+04, 7.97520547e+04, 5.02197266e+04, 1.45318984e+05,\n",
              "        1.32896734e+05, 2.33199766e+05, 3.67667812e+05, 1.87499225e+06,\n",
              "        3.82544675e+06, 6.11114400e+06, 5.20348900e+06, 5.72459100e+06,\n",
              "        5.94761650e+06, 7.06636100e+06, 1.77607712e+06, 5.71786875e+05,\n",
              "        2.38541328e+05, 1.96971125e+05, 3.72253031e+05, 2.90039969e+05,\n",
              "        3.16406531e+05, 1.58819891e+05, 1.78927250e+05, 1.23254617e+05,\n",
              "        1.53376625e+05, 1.07515883e+05, 1.52277422e+05, 1.95200203e+05,\n",
              "        2.03025844e+05, 2.16209500e+05, 1.07583070e+05, 4.19026469e+05,\n",
              "        5.16380344e+05, 2.37964578e+05, 1.60922766e+05, 6.32510664e+04,\n",
              "        1.01699102e+05, 6.11560195e+04, 5.93905352e+04, 3.07242906e+05,\n",
              "        1.51582078e+05, 3.16971906e+05, 2.01775000e+05, 1.35609594e+05,\n",
              "        4.69756445e+04, 5.22583164e+04, 6.42655742e+04, 3.81848828e+04,\n",
              "        1.08177227e+05, 9.06808047e+04, 6.81520859e+04, 8.95860234e+04,\n",
              "        1.13006180e+05, 1.79956609e+05, 3.22909750e+05, 7.15943688e+05,\n",
              "        5.49820938e+05, 6.98467312e+05, 1.05350462e+06, 1.06671038e+06,\n",
              "        1.13801400e+06, 1.18490050e+06, 3.22156281e+05, 2.08278234e+05,\n",
              "        2.85719562e+05, 2.43085984e+05, 2.06137266e+05, 2.00610203e+05,\n",
              "        2.55878719e+05, 3.12861438e+05, 6.31455375e+05, 1.10615862e+06,\n",
              "        9.01712938e+05, 1.76444016e+05, 3.40770812e+05, 5.88025688e+05,\n",
              "        1.55192500e+05, 7.37252344e+04, 1.07882586e+05, 7.47378125e+04,\n",
              "        2.11414594e+05, 2.25098469e+05, 4.67451500e+05, 3.93355188e+05,\n",
              "        1.56228234e+05, 8.65428203e+04, 1.18756789e+05, 1.16208570e+05,\n",
              "        4.17561219e+05, 6.82756562e+05, 5.77383688e+05, 2.78386688e+05,\n",
              "        1.91040875e+05, 4.51314023e+04, 9.66046719e+04, 1.35987234e+05,\n",
              "        3.46512305e+04, 2.73080371e+04, 1.20861430e+05, 5.39484766e+04,\n",
              "        4.05714727e+04, 7.52649922e+04, 9.88261641e+04, 1.81728578e+05,\n",
              "        2.87719406e+05, 3.26745312e+04, 1.88171465e+04, 3.13027598e+04,\n",
              "        3.67352773e+04, 5.45493164e+04, 4.20905508e+04, 3.76223359e+04,\n",
              "        2.50840273e+04, 3.01902812e+04, 3.87692148e+04, 4.62195898e+04,\n",
              "        9.53595703e+04, 3.34977250e+05, 8.52137344e+04, 8.93841406e+04,\n",
              "        2.57094395e+04, 4.94461572e+03, 8.79626367e+03, 8.49029102e+03,\n",
              "        1.57091475e+04, 3.55610195e+04, 3.16384863e+04, 3.69771133e+04,\n",
              "        6.76249902e+03, 3.62076914e+04, 4.05944751e+03, 1.35008799e+04,\n",
              "        4.68076211e+04, 2.68615254e+04, 2.30234590e+04, 7.54533350e+03,\n",
              "        9.36424023e+03, 1.82010156e+04, 3.38128711e+04, 2.85906777e+04,\n",
              "        5.20125000e+04, 6.49524297e+04, 1.04471016e+05, 1.46007438e+05,\n",
              "        7.14144688e+05, 9.58125312e+05, 1.22509600e+06, 1.29478712e+06,\n",
              "        1.68467775e+06, 2.08443112e+06, 1.80137138e+06, 3.43922781e+05,\n",
              "        8.38062969e+04, 8.79114766e+04, 6.41988086e+04, 1.04314453e+05,\n",
              "        2.05045047e+05, 3.14043750e+04, 2.54131523e+04, 4.96176289e+04,\n",
              "        3.26739727e+04, 1.10487914e+05, 1.30131867e+05, 1.24735758e+05,\n",
              "        9.50999453e+04, 1.58834859e+05, 9.33186641e+04, 9.37423594e+04,\n",
              "        5.72294297e+04, 5.36821914e+04, 4.13911602e+04, 7.44215391e+04,\n",
              "        2.05739219e+05, 3.66187438e+05, 1.16855016e+05, 1.17204914e+05,\n",
              "        4.12653633e+04, 9.10168750e+04, 1.75218281e+05, 1.09306273e+05,\n",
              "        5.18959297e+04, 9.13076484e+04, 1.20695414e+05, 2.13619031e+05,\n",
              "        4.99358281e+05, 9.10010562e+05, 1.38975025e+06, 2.40428150e+06,\n",
              "        1.95363112e+06, 8.23527188e+05, 3.59575312e+05, 2.67775332e+04,\n",
              "        4.69525234e+04, 7.13935547e+04, 1.49703359e+05, 2.84783344e+05,\n",
              "        2.56093453e+05, 2.42521719e+05, 2.33469703e+05, 1.67033984e+05,\n",
              "        5.82417461e+04, 2.51238906e+04, 1.46595703e+05, 2.57371109e+05,\n",
              "        1.79850125e+05, 3.15337250e+05, 1.43075406e+05, 5.45757695e+04,\n",
              "        4.02590859e+04, 1.04498383e+05, 2.46403535e+04, 1.82447305e+04,\n",
              "        3.22257832e+04, 7.33687812e+04, 1.17344664e+05, 9.29680547e+04,\n",
              "        5.05981641e+04, 3.16992832e+04, 4.74245938e+04, 1.20601891e+05,\n",
              "        1.93126094e+05, 3.08337844e+05, 4.02318344e+05, 4.99645938e+05,\n",
              "        3.91438750e+05, 2.66566938e+05, 3.88146797e+04, 1.24275049e+04,\n",
              "        1.16664797e+05, 7.14946953e+04, 3.96406812e+05, 7.48489312e+05,\n",
              "        9.75264562e+05, 1.51613375e+06, 1.74917412e+06, 1.57698800e+06,\n",
              "        1.58133600e+06, 2.45576719e+05, 9.23140078e+04, 6.55380859e+04,\n",
              "        1.31787750e+05, 1.15113414e+05, 1.02307930e+05, 7.25379219e+04,\n",
              "        5.40419141e+04, 5.24896812e+05, 9.50770125e+05, 9.26232125e+05,\n",
              "        1.11365888e+06, 1.60103862e+06, 1.57692200e+06, 1.47775112e+06,\n",
              "        3.83324469e+05, 3.69744031e+05, 2.38819047e+05, 1.43169625e+05,\n",
              "        4.32763156e+05, 1.06803788e+06, 1.17400338e+06, 1.00694612e+06,\n",
              "        1.58363538e+06, 2.21012875e+06, 3.77491825e+06, 2.50035525e+06,\n",
              "        1.18956588e+06, 3.58880188e+05, 3.03592812e+05, 8.44406500e+05,\n",
              "        1.34112062e+06, 1.83813462e+06, 1.75363200e+06, 1.99065762e+06,\n",
              "        1.55192062e+06, 7.54376062e+05, 1.98689962e+06, 1.98100862e+06,\n",
              "        1.75947562e+06, 1.28232172e+05, 5.40807266e+04, 3.39730281e+05,\n",
              "        7.68867188e+05, 5.17358750e+05, 5.58042312e+05, 4.50932219e+05,\n",
              "        4.61642469e+05, 4.06037281e+05, 1.20640425e+06, 4.41879750e+06,\n",
              "        9.13147900e+06, 1.13353390e+07, 1.30212570e+07, 1.33741100e+07,\n",
              "        1.30366630e+07, 5.69693500e+06, 1.04668162e+06, 5.55939375e+05,\n",
              "        1.45060125e+06, 2.21110100e+06, 2.93645750e+06, 4.17465325e+06,\n",
              "        8.86809600e+06, 1.12878900e+07, 1.06687820e+07, 9.75505400e+06,\n",
              "        1.13975120e+07, 1.14823420e+07, 1.65296480e+07, 1.71318060e+07,\n",
              "        2.64630180e+07, 3.67715960e+07, 2.96931160e+07, 2.13515460e+07,\n",
              "        2.45664100e+07, 1.40850790e+07, 7.98280700e+06, 1.00049820e+07,\n",
              "        2.39863500e+07, 3.69922320e+07, 2.79343300e+07, 2.16239375e+06,\n",
              "        1.95902162e+06, 9.66099125e+05, 8.49763400e+06, 1.26890310e+07,\n",
              "        1.31594640e+07, 1.40178720e+07, 1.10246220e+07, 1.47196250e+07,\n",
              "        1.47363250e+07, 1.04302138e+06, 2.51192675e+06, 2.82747050e+06,\n",
              "        2.01651562e+06, 2.33862700e+06, 6.62512800e+06, 1.67676470e+07,\n",
              "        1.61179680e+07, 8.83295300e+06, 1.08211450e+07, 1.35291040e+07,\n",
              "        3.16443400e+07, 4.43336120e+07, 3.55703480e+07, 3.59946480e+07,\n",
              "        4.78694120e+07, 4.24167600e+07, 6.63626600e+07, 2.33264860e+07,\n",
              "        3.14468200e+06, 4.87435350e+06, 4.78159750e+06, 1.07451600e+07,\n",
              "        1.08128370e+07, 1.72822160e+07, 1.14444390e+07, 1.49543870e+07,\n",
              "        8.87318500e+06, 1.16514550e+07, 4.61954440e+07, 6.23508280e+07,\n",
              "        1.12169384e+08, 8.19101200e+07, 2.64749020e+07, 1.25423810e+07,\n",
              "        5.62378700e+06, 3.60028975e+06, 7.83456250e+06, 1.69358820e+07,\n",
              "        1.06481170e+07, 1.23299020e+07, 1.75144200e+07, 2.47907220e+07,\n",
              "        3.78497200e+07, 5.26399120e+07, 4.78895560e+07, 3.45402760e+07,\n",
              "        2.01211540e+07, 7.52182800e+06, 4.23857350e+06, 3.06185050e+06,\n",
              "        3.44073350e+06, 9.38222300e+06, 5.84576100e+06, 4.33842200e+06,\n",
              "        1.37386530e+07, 2.51135820e+07, 3.83723960e+07, 3.33786180e+07,\n",
              "        3.01767680e+07, 3.73629075e+06, 6.47484450e+06, 1.15425380e+07,\n",
              "        1.68360760e+07, 2.10577000e+07, 5.81830550e+06, 6.72836650e+06,\n",
              "        3.22983575e+06, 6.79807688e+05, 7.93674000e+05, 1.18572462e+06,\n",
              "        9.69263312e+05, 6.35788812e+05, 1.58890925e+06, 2.93819975e+06,\n",
              "        4.41733200e+06, 1.04396230e+07, 1.59341440e+07, 1.58365250e+07,\n",
              "        8.02327050e+06, 6.90858150e+06, 7.81497500e+06, 1.88693180e+07,\n",
              "        4.18421640e+07, 6.20995120e+07, 8.48631200e+07, 7.41613920e+07,\n",
              "        4.62633920e+07, 2.55688940e+07, 2.45755620e+07, 1.02823180e+07,\n",
              "        5.33402050e+06, 1.16097650e+07, 2.34686680e+07, 4.12730560e+07,\n",
              "        1.70490560e+07, 3.89742050e+06, 4.65160700e+06, 6.30977050e+06,\n",
              "        3.60876825e+06, 4.55321650e+06, 3.40397625e+06, 5.22099650e+06,\n",
              "        5.63631050e+06, 4.36895950e+06, 9.38240800e+06, 2.11363800e+07,\n",
              "        4.66035280e+07, 6.60825960e+07, 8.01464320e+07], dtype=float32),\n",
              " 'rmse': array([  577.4028  ,   322.0628  ,   312.32635 ,   424.9183  ,\n",
              "          476.2284  ,   565.4059  ,   576.00793 ,   529.05505 ,\n",
              "          608.4836  ,   729.4084  ,   892.01    ,   826.4087  ,\n",
              "          745.67566 ,   812.5792  ,   593.6168  ,   341.57275 ,\n",
              "          282.90222 ,   305.72284 ,   303.54468 ,   322.55524 ,\n",
              "          140.21965 ,   162.72421 ,   248.73827 ,   320.86728 ,\n",
              "          208.87941 ,   185.89874 ,   131.69975 ,   103.195114,\n",
              "          122.69674 ,   173.2552  ,   309.00693 ,   388.18454 ,\n",
              "          309.12244 ,   353.045   ,   349.65756 ,   349.56097 ,\n",
              "          406.11105 ,   322.94263 ,   323.59863 ,   267.26724 ,\n",
              "          430.83945 ,   155.09865 ,   102.19755 ,   104.29139 ,\n",
              "          134.8001  ,   115.84219 ,    87.16393 ,   114.129524,\n",
              "           98.349266,   110.16961 ,   131.03784 ,   170.85223 ,\n",
              "          231.08643 ,   207.55775 ,   392.8599  ,   512.92303 ,\n",
              "          626.7     ,   620.80743 ,   584.8912  ,   550.5765  ,\n",
              "          449.59775 ,   401.60034 ,   410.80078 ,   474.11948 ,\n",
              "          578.23083 ,   563.255   ,   569.5002  ,   542.92816 ,\n",
              "          179.27727 ,   267.4708  ,   245.16267 ,   440.59705 ,\n",
              "          544.3694  ,   416.85922 ,   332.45215 ,   411.85672 ,\n",
              "          366.20926 ,   494.10425 ,   620.623   ,   732.83234 ,\n",
              "          836.54144 ,   651.3859  ,   310.6123  ,   204.30034 ,\n",
              "          240.67656 ,   239.99997 ,   267.58243 ,   374.9491  ,\n",
              "          414.78098 ,   594.9079  ,   513.56586 ,   497.04144 ,\n",
              "          390.102   ,   287.25305 ,   199.31937 ,   273.309   ,\n",
              "          395.70358 ,   564.5571  ,   679.62646 ,   794.9929  ,\n",
              "          551.0861  ,   328.78287 ,   230.6733  ,   348.43958 ,\n",
              "          463.29724 ,   518.76544 ,   581.2177  ,   673.3315  ,\n",
              "         1040.9092  ,   984.61163 ,   881.9492  ,   407.7241  ,\n",
              "          209.05605 ,   282.40405 ,   224.09758 ,   381.20724 ,\n",
              "          364.55005 ,   482.90762 ,   606.3562  ,  1369.3035  ,\n",
              "         1955.875   ,  2472.0725  ,  2281.1157  ,  2392.6116  ,\n",
              "         2438.7737  ,  2658.263   ,  1332.6954  ,   756.1659  ,\n",
              "          488.4069  ,   443.81427 ,   610.1254  ,   538.5535  ,\n",
              "          562.5002  ,   398.52213 ,   422.99796 ,   351.07635 ,\n",
              "          391.63327 ,   327.89615 ,   390.2274  ,   441.81464 ,\n",
              "          450.58386 ,   464.98334 ,   327.99857 ,   647.3225  ,\n",
              "          718.596   ,   487.81613 ,   401.15176 ,   251.49767 ,\n",
              "          318.90295 ,   247.29744 ,   243.70172 ,   554.295   ,\n",
              "          389.33542 ,   563.00256 ,   449.1937  ,   368.2521  ,\n",
              "          216.73863 ,   228.60077 ,   253.50656 ,   195.40953 ,\n",
              "          328.90305 ,   301.13254 ,   261.05954 ,   299.30923 ,\n",
              "          336.1639  ,   424.21292 ,   568.2515  ,   846.1345  ,\n",
              "          741.4991  ,   835.74347 ,  1026.4037  ,  1032.8168  ,\n",
              "         1066.7773  ,  1088.5314  ,   567.58813 ,   456.37512 ,\n",
              "          534.5274  ,   493.03748 ,   454.0234  ,   447.89532 ,\n",
              "          505.8445  ,   559.34015 ,   794.6417  ,  1051.7407  ,\n",
              "          949.5857  ,   420.0524  ,   583.75574 ,   766.8283  ,\n",
              "          393.9448  ,   271.5239  ,   328.45486 ,   273.38217 ,\n",
              "          459.79843 ,   474.44547 ,   683.7042  ,   627.1803  ,\n",
              "          395.25717 ,   294.1816  ,   344.61108 ,   340.8938  ,\n",
              "          646.18976 ,   826.29083 ,   759.8577  ,   527.62366 ,\n",
              "          437.08224 ,   212.44153 ,   310.81293 ,   368.76447 ,\n",
              "          186.14839 ,   165.25143 ,   347.65128 ,   232.26811 ,\n",
              "          201.4236  ,   274.34467 ,   314.36627 ,   426.29636 ,\n",
              "          536.3948  ,   180.76097 ,   137.17561 ,   176.92586 ,\n",
              "          191.66447 ,   233.55795 ,   205.15982 ,   193.96477 ,\n",
              "          158.37938 ,   173.75351 ,   196.899   ,   214.98743 ,\n",
              "          308.80344 ,   578.7722  ,   291.9139  ,   298.9718  ,\n",
              "          160.34163 ,    70.31796 ,    93.7884  ,    92.14277 ,\n",
              "          125.336136,   188.57628 ,   177.87212 ,   192.29436 ,\n",
              "           82.23441 ,   190.28319 ,    63.71379 ,   116.19328 ,\n",
              "          216.35071 ,   163.89487 ,   151.73482 ,    86.863884,\n",
              "           96.769005,   134.91113 ,   183.88277 ,   169.08778 ,\n",
              "          228.06248 ,   254.85767 ,   323.2198  ,   382.1092  ,\n",
              "          845.0708  ,   978.83875 ,  1106.8406  ,  1137.8871  ,\n",
              "         1297.9513  ,  1443.756   ,  1342.1517  ,   586.4493  ,\n",
              "          289.49316 ,   296.49872 ,   253.37482 ,   322.97748 ,\n",
              "          452.819   ,   177.2128  ,   159.41504 ,   222.75017 ,\n",
              "          180.75943 ,   332.39722 ,   360.73795 ,   353.17947 ,\n",
              "          308.38278 ,   398.5409  ,   305.48105 ,   306.17374 ,\n",
              "          239.22673 ,   231.69418 ,   203.4482  ,   272.8031  ,\n",
              "          453.58484 ,   605.1342  ,   341.84064 ,   342.35202 ,\n",
              "          203.13878 ,   301.69    ,   418.59082 ,   330.615   ,\n",
              "          227.8068  ,   302.17157 ,   347.41245 ,   462.18936 ,\n",
              "          706.6529  ,   953.94476 ,  1178.8766  ,  1550.5745  ,\n",
              "         1397.7235  ,   907.484   ,   599.64594 ,   163.63843 ,\n",
              "          216.6853  ,   267.19574 ,   386.9152  ,   533.65094 ,\n",
              "          506.05673 ,   492.46497 ,   483.18704 ,   408.6979  ,\n",
              "          241.33325 ,   158.50517 ,   382.8782  ,   507.31757 ,\n",
              "          424.08734 ,   561.549   ,   378.2531  ,   233.61456 ,\n",
              "          200.64667 ,   323.2621  ,   156.97244 ,   135.07304 ,\n",
              "          179.51541 ,   270.8667  ,   342.5561  ,   304.90665 ,\n",
              "          224.94034 ,   178.04294 ,   217.77187 ,   347.27786 ,\n",
              "          439.46112 ,   555.2818  ,   634.2857  ,   706.8563  ,\n",
              "          625.65063 ,   516.3012  ,   197.0144  ,   111.47874 ,\n",
              "          341.5623  ,   267.38492 ,   629.60846 ,   865.1527  ,\n",
              "          987.55475 ,  1231.3138  ,  1322.5634  ,  1255.7819  ,\n",
              "         1257.5118  ,   495.557   ,   303.8322  ,   256.00403 ,\n",
              "          363.02582 ,   339.28366 ,   319.8561  ,   269.32864 ,\n",
              "          232.46918 ,   724.49756 ,   975.0744  ,   962.40955 ,\n",
              "         1055.3004  ,  1265.3215  ,  1255.7555  ,  1215.6279  ,\n",
              "          619.132   ,   608.0658  ,   488.69116 ,   378.37762 ,\n",
              "          657.84735 ,  1033.4591  ,  1083.5144  ,  1003.4671  ,\n",
              "         1258.4258  ,  1486.6501  ,  1942.9149  ,  1581.2511  ,\n",
              "         1090.6722  ,   599.0661  ,   550.99255 ,   918.9159  ,\n",
              "         1158.0676  ,  1355.7782  ,  1324.2477  ,  1410.9067  ,\n",
              "         1245.7611  ,   868.5482  ,  1409.5743  ,  1407.4832  ,\n",
              "         1326.4523  ,   358.0952  ,   232.55263 ,   582.8639  ,\n",
              "          876.85065 ,   719.2765  ,   747.0222  ,   671.51483 ,\n",
              "          679.44275 ,   637.2106  ,  1098.3644  ,  2102.0935  ,\n",
              "         3021.8337  ,  3366.7996  ,  3608.4978  ,  3657.063   ,\n",
              "         3610.6318  ,  2386.8252  ,  1023.07465 ,   745.6134  ,\n",
              "         1204.409   ,  1486.9772  ,  1713.6095  ,  2043.1968  ,\n",
              "         2977.9348  ,  3359.7454  ,  3266.3103  ,  3123.308   ,\n",
              "         3376.0203  ,  3388.5605  ,  4065.6672  ,  4139.0586  ,\n",
              "         5144.2217  ,  6063.9585  ,  5449.139   ,  4620.7734  ,\n",
              "         4956.4517  ,  3753.0093  ,  2825.3862  ,  3163.0654  ,\n",
              "         4897.586   ,  6082.1235  ,  5285.2935  ,  1470.5078  ,\n",
              "         1399.6504  ,   982.9033  ,  2915.0703  ,  3562.1665  ,\n",
              "         3627.598   ,  3744.0452  ,  3320.3347  ,  3836.6165  ,\n",
              "         3838.7922  ,  1021.2842  ,  1584.906   ,  1681.5083  ,\n",
              "         1420.0408  ,  1529.257   ,  2573.9324  ,  4094.8315  ,\n",
              "         4014.719   ,  2972.0286  ,  3289.5508  ,  3678.1934  ,\n",
              "         5625.3306  ,  6658.349   ,  5964.0884  ,  5999.554   ,\n",
              "         6918.7725  ,  6512.815   ,  8146.3286  ,  4829.75    ,\n",
              "         1773.3251  ,  2207.7937  ,  2186.6865  ,  3277.9807  ,\n",
              "         3288.2878  ,  4157.1885  ,  3382.9626  ,  3867.0903  ,\n",
              "         2978.789   ,  3413.4229  ,  6796.723   ,  7896.2534  ,\n",
              "        10591.005   ,  9050.421   ,  5145.3765  ,  3541.5222  ,\n",
              "         2371.4524  ,  1897.4427  ,  2799.0288  ,  4115.3228  ,\n",
              "         3263.1453  ,  3511.3958  ,  4185.023   ,  4979.0283  ,\n",
              "         6152.212   ,  7255.3374  ,  6920.228   ,  5877.097   ,\n",
              "         4485.6606  ,  2742.5952  ,  2058.7795  ,  1749.8142  ,\n",
              "         1854.9214  ,  3063.0415  ,  2417.8008  ,  2082.8877  ,\n",
              "         3706.5693  ,  5011.345   ,  6194.545   ,  5777.4233  ,\n",
              "         5493.339   ,  1932.9486  ,  2544.5715  ,  3397.431   ,\n",
              "         4103.1787  ,  4588.8667  ,  2412.1162  ,  2593.9094  ,\n",
              "         1797.1744  ,   824.5045  ,   890.88385 ,  1088.9098  ,\n",
              "          984.5117  ,   797.36365 ,  1260.5194  ,  1714.1178  ,\n",
              "         2101.745   ,  3231.0405  ,  3991.7598  ,  3979.513   ,\n",
              "         2832.5378  ,  2628.4182  ,  2795.5276  ,  4343.883   ,\n",
              "         6468.552   ,  7880.3247  ,  9212.118   ,  8611.701   ,\n",
              "         6801.7197  ,  5056.5693  ,  4957.374   ,  3206.6055  ,\n",
              "         2309.5498  ,  3407.3103  ,  4844.4473  ,  6424.411   ,\n",
              "         4129.0503  ,  1974.1885  ,  2156.7583  ,  2511.9255  ,\n",
              "         1899.6758  ,  2133.827   ,  1844.9868  ,  2284.95    ,\n",
              "         2374.0916  ,  2090.2056  ,  3063.0718  ,  4597.432   ,\n",
              "         6826.6777  ,  8129.12    ,  8952.454   ], dtype=float32)}"
            ]
          },
          "metadata": {},
          "execution_count": 86
        }
      ]
    },
    {
      "cell_type": "code",
      "source": [
        "#this is for horizon and windows seprated.\n",
        "def evaluate_preds(y_true, y_pred):\n",
        "  # Make sure float32 (for metric calculations)\n",
        "  y_true = tf.cast(y_true, dtype=tf.float32)\n",
        "  y_pred = tf.cast(y_pred, dtype=tf.float32)\n",
        "\n",
        "  # Calculate various metrics\n",
        "  mae = tf.keras.metrics.mean_absolute_error(y_true, y_pred)\n",
        "  mse = tf.keras.metrics.mean_squared_error(y_true, y_pred)\n",
        "  rmse = tf.sqrt(mse)\n",
        "  mape = tf.keras.metrics.mean_absolute_percentage_error(y_true, y_pred)\n",
        "  mase = mean_absolute_scaled_error(y_true, y_pred)\n",
        "\n",
        "  # Account for different sized metrics (for longer horizons, reduce to single number)\n",
        "  if mae.ndim > 0: # if mae isn't already a scalar, reduce it to one by aggregating tensors to mean\n",
        "    mae = tf.reduce_mean(mae)\n",
        "    mse = tf.reduce_mean(mse)\n",
        "    rmse = tf.reduce_mean(rmse)\n",
        "    mape = tf.reduce_mean(mape)\n",
        "    mase = tf.reduce_mean(mase)\n",
        "\n",
        "  return {\"mae\": mae.numpy(),\n",
        "          \"mse\": mse.numpy(),\n",
        "          \"rmse\": rmse.numpy(),\n",
        "          \"mape\": mape.numpy(),\n",
        "          \"mase\": mase.numpy()}"
      ],
      "metadata": {
        "id": "9tSFjKSTVE_i"
      },
      "execution_count": 88,
      "outputs": []
    },
    {
      "cell_type": "code",
      "source": [
        "# Get model_3 results aggregated to single values\n",
        "model_4_results = evaluate_preds(y_true=tf.squeeze(test_labels),\n",
        "                                 y_pred=model_4_preds)\n",
        "model_4_results"
      ],
      "metadata": {
        "colab": {
          "base_uri": "https://localhost:8080/"
        },
        "id": "NeYOziH9VGof",
        "outputId": "fb4c7937-e6d3-4a07-eb16-5b91f5ad1a83"
      },
      "execution_count": 90,
      "outputs": [
        {
          "output_type": "execute_result",
          "data": {
            "text/plain": [
              "{'mae': 1228.1416,\n",
              " 'mape': 5.4698334,\n",
              " 'mase': 2.1854093,\n",
              " 'mse': 5323686.5,\n",
              " 'rmse': 1412.9114}"
            ]
          },
          "metadata": {},
          "execution_count": 90
        }
      ]
    },
    {
      "cell_type": "code",
      "source": [
        "offset = 300\n",
        "plt.figure(figsize=(10, 7))\n",
        "plot_time_series(timesteps=X_test[-len(test_windows):], values=test_labels[:, 0], start=offset, label=\"Test_data\")\n",
        "# Checking the shape of model_4_preds results in [n_test_samples, HORIZON] (this will screw up the plot)\n",
        "plot_time_series(timesteps=X_test[-len(test_windows):], values=model_4_preds, start=offset, label=\"model_4_preds\")"
      ],
      "metadata": {
        "colab": {
          "base_uri": "https://localhost:8080/",
          "height": 442
        },
        "id": "M2EguaAXVN2r",
        "outputId": "b50e6256-a104-427b-b552-a10d5c21b0f6"
      },
      "execution_count": 92,
      "outputs": [
        {
          "output_type": "display_data",
          "data": {
            "text/plain": [
              "<Figure size 720x504 with 1 Axes>"
            ],
            "image/png": "[encoded data removed]"
          },
          "metadata": {
            "needs_background": "light"
          }
        }
      ]
    },
    {
      "cell_type": "code",
      "source": [
        "offset = 300\n",
        "plt.figure(figsize=(10, 7))\n",
        "# Plot model_3_preds by aggregating them (note: this condenses information so the preds will look fruther ahead than the test data)\n",
        "plot_time_series(timesteps=X_test[-len(test_windows):], \n",
        "                 values=test_labels[:, 0], \n",
        "                 start=offset, \n",
        "                 label=\"Test_data\")\n",
        "plot_time_series(timesteps=X_test[-len(test_windows):], \n",
        "                 values=tf.reduce_mean(model_4_preds, axis=1), \n",
        "                 format=\"-\",\n",
        "                 start=offset, \n",
        "                 label=\"model_4_preds\")"
      ],
      "metadata": {
        "colab": {
          "base_uri": "https://localhost:8080/",
          "height": 442
        },
        "id": "We3B9JXpVcEs",
        "outputId": "51dd07ee-4583-48c7-94c7-27dee6915dfb"
      },
      "execution_count": 94,
      "outputs": [
        {
          "output_type": "display_data",
          "data": {
            "text/plain": [
              "<Figure size 720x504 with 1 Axes>"
            ],
            "image/png": "[encoded data removed]"
          },
          "metadata": {
            "needs_background": "light"
          }
        }
      ]
    },
    {
      "cell_type": "code",
      "source": [
        "pd.DataFrame({\"naive\": naive_results[\"mae\"], \n",
        "              \"horizon_1_window_7\": model_1_results[\"mae\"], \n",
        "              \"horizon_1_window_30\": model_2_results[\"mae\"],\n",
        "              \"horizon_1_window_30\": model_3_results[\"mae\"], \n",
        "              \"horizon_7_window_30\": model_4_results[\"mae\"]}, index=[\"mae\"]).plot(figsize=(10, 7), kind=\"bar\");"
      ],
      "metadata": {
        "colab": {
          "base_uri": "https://localhost:8080/",
          "height": 440
        },
        "id": "YZtX31KqVeHE",
        "outputId": "e04caca2-5733-4a37-967b-f7c7ab71370e"
      },
      "execution_count": 95,
      "outputs": [
        {
          "output_type": "display_data",
          "data": {
            "text/plain": [
              "<Figure size 720x504 with 1 Axes>"
            ],
            "image/png": "[encoded data removed]"
          },
          "metadata": {
            "needs_background": "light"
          }
        }
      ]
    },
    {
      "cell_type": "code",
      "source": [
        "#model 4 \n",
        "#Using Conv2D\n",
        "HORIZON = 1 # predict next day\n",
        "WINDOW_SIZE = 7 # use previous week worth of data"
      ],
      "metadata": {
        "id": "DwjM4ttlV0Kx"
      },
      "execution_count": 96,
      "outputs": []
    },
    {
      "cell_type": "code",
      "source": [
        "# Create windowed dataset\n",
        "full_windows, full_labels = make_windows(prices, window_size=WINDOW_SIZE, horizon=HORIZON)\n",
        "len(full_windows), len(full_labels)"
      ],
      "metadata": {
        "colab": {
          "base_uri": "https://localhost:8080/"
        },
        "id": "mwG572PZWDIt",
        "outputId": "45dc6e48-c801-4a58-a638-9f6fd092b412"
      },
      "execution_count": 97,
      "outputs": [
        {
          "output_type": "execute_result",
          "data": {
            "text/plain": [
              "(2780, 2780)"
            ]
          },
          "metadata": {},
          "execution_count": 97
        }
      ]
    },
    {
      "cell_type": "code",
      "source": [
        "# Create train/test splits\n",
        "train_windows, test_windows, train_labels, test_labels = make_train_test_splits(full_windows, full_labels)\n",
        "len(train_windows), len(test_windows), len(train_labels), len(test_labels)"
      ],
      "metadata": {
        "colab": {
          "base_uri": "https://localhost:8080/"
        },
        "id": "MkgA3hfuWFsm",
        "outputId": "3893c782-42a6-4e0d-b881-5ce955bf2e1c"
      },
      "execution_count": 98,
      "outputs": [
        {
          "output_type": "execute_result",
          "data": {
            "text/plain": [
              "(2224, 556, 2224, 556)"
            ]
          },
          "metadata": {},
          "execution_count": 98
        }
      ]
    },
    {
      "cell_type": "code",
      "source": [
        "# Check data sample shapes\n",
        "train_windows[0].shape # returns (WINDOW_SIZE, )"
      ],
      "metadata": {
        "colab": {
          "base_uri": "https://localhost:8080/"
        },
        "id": "tbKvv0tBWJtF",
        "outputId": "5fc6a48d-178c-44d3-dd33-68afc8f98a99"
      },
      "execution_count": 99,
      "outputs": [
        {
          "output_type": "execute_result",
          "data": {
            "text/plain": [
              "(7,)"
            ]
          },
          "metadata": {},
          "execution_count": 99
        }
      ]
    },
    {
      "cell_type": "code",
      "source": [
        "# Before we pass our data to the Conv1D layer, we have to reshape it in order to make sure it works\n",
        "x = tf.constant(train_windows[0])\n",
        "expand_dims_layer = layers.Lambda(lambda x: tf.expand_dims(x, axis=1)) # add an extra dimension for timesteps\n",
        "print(f\"Original shape: {x.shape}\") # (WINDOW_SIZE)\n",
        "print(f\"Expanded shape: {expand_dims_layer(x).shape}\") # (WINDOW_SIZE, input_dim) \n",
        "print(f\"Original values with expanded shape:\\n {expand_dims_layer(x)}\")"
      ],
      "metadata": {
        "colab": {
          "base_uri": "https://localhost:8080/"
        },
        "id": "v2acwlZnWMPV",
        "outputId": "538eb80e-5cab-4470-8a10-3b566399329a"
      },
      "execution_count": 100,
      "outputs": [
        {
          "output_type": "stream",
          "name": "stdout",
          "text": [
            "Original shape: (7,)\n",
            "Expanded shape: (7, 1)\n",
            "Original values with expanded shape:\n",
            " [[123.65499]\n",
            " [125.455  ]\n",
            " [108.58483]\n",
            " [118.67466]\n",
            " [121.33866]\n",
            " [120.65533]\n",
            " [121.795  ]]\n"
          ]
        }
      ]
    },
    {
      "cell_type": "code",
      "source": [
        "tf.random.set_seed(42)\n",
        "\n",
        "# Create model\n",
        "model_5 = tf.keras.Sequential([\n",
        "  # Create Lambda layer to reshape inputs, without this layer, the model will error\n",
        "  layers.Lambda(lambda x: tf.expand_dims(x, axis=1)), # resize the inputs to adjust for window size / Conv1D 3D input requirements\n",
        "  layers.Conv1D(filters=128, kernel_size=5, padding=\"causal\", activation=\"relu\"),\n",
        "  layers.Dense(HORIZON)\n",
        "], name=\"model_5_conv1D\")\n",
        "\n",
        "# Compile model\n",
        "model_5.compile(loss=\"mae\",\n",
        "                optimizer=tf.keras.optimizers.Adam())\n",
        "\n",
        "# Fit model\n",
        "model_5.fit(train_windows,\n",
        "            train_labels,\n",
        "            batch_size=128, \n",
        "            epochs=100,\n",
        "            verbose=0,\n",
        "            validation_data=(test_windows, test_labels),\n",
        "            callbacks=[create_model_checkpoint(model_name=model_5.name)])"
      ],
      "metadata": {
        "colab": {
          "base_uri": "https://localhost:8080/"
        },
        "id": "33aheXHuW1X4",
        "outputId": "fa59a757-7740-4021-8840-837f6d75bb2d"
      },
      "execution_count": 101,
      "outputs": [
        {
          "output_type": "stream",
          "name": "stdout",
          "text": [
            "INFO:tensorflow:Assets written to: model_experiments/model_5_conv1D/assets\n",
            "INFO:tensorflow:Assets written to: model_experiments/model_5_conv1D/assets\n",
            "INFO:tensorflow:Assets written to: model_experiments/model_5_conv1D/assets\n",
            "INFO:tensorflow:Assets written to: model_experiments/model_5_conv1D/assets\n",
            "INFO:tensorflow:Assets written to: model_experiments/model_5_conv1D/assets\n",
            "INFO:tensorflow:Assets written to: model_experiments/model_5_conv1D/assets\n",
            "INFO:tensorflow:Assets written to: model_experiments/model_5_conv1D/assets\n",
            "INFO:tensorflow:Assets written to: model_experiments/model_5_conv1D/assets\n",
            "INFO:tensorflow:Assets written to: model_experiments/model_5_conv1D/assets\n",
            "INFO:tensorflow:Assets written to: model_experiments/model_5_conv1D/assets\n",
            "INFO:tensorflow:Assets written to: model_experiments/model_5_conv1D/assets\n",
            "INFO:tensorflow:Assets written to: model_experiments/model_5_conv1D/assets\n",
            "INFO:tensorflow:Assets written to: model_experiments/model_5_conv1D/assets\n",
            "INFO:tensorflow:Assets written to: model_experiments/model_5_conv1D/assets\n",
            "INFO:tensorflow:Assets written to: model_experiments/model_5_conv1D/assets\n",
            "INFO:tensorflow:Assets written to: model_experiments/model_5_conv1D/assets\n",
            "INFO:tensorflow:Assets written to: model_experiments/model_5_conv1D/assets\n",
            "INFO:tensorflow:Assets written to: model_experiments/model_5_conv1D/assets\n",
            "INFO:tensorflow:Assets written to: model_experiments/model_5_conv1D/assets\n",
            "INFO:tensorflow:Assets written to: model_experiments/model_5_conv1D/assets\n",
            "INFO:tensorflow:Assets written to: model_experiments/model_5_conv1D/assets\n",
            "INFO:tensorflow:Assets written to: model_experiments/model_5_conv1D/assets\n",
            "INFO:tensorflow:Assets written to: model_experiments/model_5_conv1D/assets\n",
            "INFO:tensorflow:Assets written to: model_experiments/model_5_conv1D/assets\n",
            "INFO:tensorflow:Assets written to: model_experiments/model_5_conv1D/assets\n",
            "INFO:tensorflow:Assets written to: model_experiments/model_5_conv1D/assets\n",
            "INFO:tensorflow:Assets written to: model_experiments/model_5_conv1D/assets\n",
            "INFO:tensorflow:Assets written to: model_experiments/model_5_conv1D/assets\n",
            "INFO:tensorflow:Assets written to: model_experiments/model_5_conv1D/assets\n",
            "INFO:tensorflow:Assets written to: model_experiments/model_5_conv1D/assets\n",
            "INFO:tensorflow:Assets written to: model_experiments/model_5_conv1D/assets\n",
            "INFO:tensorflow:Assets written to: model_experiments/model_5_conv1D/assets\n",
            "INFO:tensorflow:Assets written to: model_experiments/model_5_conv1D/assets\n",
            "INFO:tensorflow:Assets written to: model_experiments/model_5_conv1D/assets\n",
            "INFO:tensorflow:Assets written to: model_experiments/model_5_conv1D/assets\n",
            "INFO:tensorflow:Assets written to: model_experiments/model_5_conv1D/assets\n",
            "INFO:tensorflow:Assets written to: model_experiments/model_5_conv1D/assets\n",
            "INFO:tensorflow:Assets written to: model_experiments/model_5_conv1D/assets\n",
            "INFO:tensorflow:Assets written to: model_experiments/model_5_conv1D/assets\n",
            "INFO:tensorflow:Assets written to: model_experiments/model_5_conv1D/assets\n"
          ]
        },
        {
          "output_type": "execute_result",
          "data": {
            "text/plain": [
              "<keras.callbacks.History at 0x7fc6d7116c90>"
            ]
          },
          "metadata": {},
          "execution_count": 101
        }
      ]
    },
    {
      "cell_type": "code",
      "source": [
        "model_5.summary()"
      ],
      "metadata": {
        "colab": {
          "base_uri": "https://localhost:8080/"
        },
        "id": "Q8r6jM7jXBlk",
        "outputId": "49f42ee7-8208-4a20-a762-b11e3a9fcac9"
      },
      "execution_count": 102,
      "outputs": [
        {
          "output_type": "stream",
          "name": "stdout",
          "text": [
            "Model: \"model_5_conv1D\"\n",
            "_________________________________________________________________\n",
            " Layer (type)                Output Shape              Param #   \n",
            "=================================================================\n",
            " lambda_1 (Lambda)           (None, 1, 7)              0         \n",
            "                                                                 \n",
            " conv1d (Conv1D)             (None, 1, 128)            4608      \n",
            "                                                                 \n",
            " dense_16 (Dense)            (None, 1, 1)              129       \n",
            "                                                                 \n",
            "=================================================================\n",
            "Total params: 4,737\n",
            "Trainable params: 4,737\n",
            "Non-trainable params: 0\n",
            "_________________________________________________________________\n"
          ]
        }
      ]
    },
    {
      "cell_type": "code",
      "source": [
        "# Load in best performing Conv1D model and evaluate it on the test data\n",
        "model_5 = tf.keras.models.load_model(\"model_experiments/model_5_conv1D\")\n",
        "model_5.evaluate(test_windows, test_labels)"
      ],
      "metadata": {
        "colab": {
          "base_uri": "https://localhost:8080/"
        },
        "id": "UhAkKBL9XH9V",
        "outputId": "497673e3-ae75-4b33-9a4f-012f87a582b4"
      },
      "execution_count": 103,
      "outputs": [
        {
          "output_type": "stream",
          "name": "stdout",
          "text": [
            "18/18 [==============================] - 0s 2ms/step - loss: 569.0326\n"
          ]
        },
        {
          "output_type": "execute_result",
          "data": {
            "text/plain": [
              "569.0325927734375"
            ]
          },
          "metadata": {},
          "execution_count": 103
        }
      ]
    },
    {
      "cell_type": "code",
      "source": [
        "# Make predictions\n",
        "model_5_preds = make_preds(model_5, test_windows)\n",
        "model_5_preds[:10]"
      ],
      "metadata": {
        "colab": {
          "base_uri": "https://localhost:8080/"
        },
        "id": "8_iYlTDCXQkF",
        "outputId": "7fdba51e-e738-439a-96b3-41c8c5d059c1"
      },
      "execution_count": 105,
      "outputs": [
        {
          "output_type": "execute_result",
          "data": {
            "text/plain": [
              "<tf.Tensor: shape=(10,), dtype=float32, numpy=\n",
              "array([8847.293, 8757.503, 8997.469, 8762.801, 8707.722, 8713.594,\n",
              "       8664.935, 8496.83 , 8439.473, 8499.395], dtype=float32)>"
            ]
          },
          "metadata": {},
          "execution_count": 105
        }
      ]
    },
    {
      "cell_type": "code",
      "source": [
        "# Evaluate predictions\n",
        "model_5_results = evaluate_preds(y_true=tf.squeeze(test_labels),\n",
        "                                 y_pred=model_5_preds)\n",
        "model_5_results"
      ],
      "metadata": {
        "colab": {
          "base_uri": "https://localhost:8080/"
        },
        "id": "rHiIjrBCXfEc",
        "outputId": "0790766d-4867-4026-e9b9-62b8894e5143"
      },
      "execution_count": 106,
      "outputs": [
        {
          "output_type": "execute_result",
          "data": {
            "text/plain": [
              "{'mae': 569.03265,\n",
              " 'mape': 2.5515256,\n",
              " 'mase': 0.9996328,\n",
              " 'mse': 1169841.0,\n",
              " 'rmse': 1081.5919}"
            ]
          },
          "metadata": {},
          "execution_count": 106
        }
      ]
    },
    {
      "cell_type": "code",
      "source": [
        "#model 6"
      ],
      "metadata": {
        "id": "580Qur0XXiW_"
      },
      "execution_count": 107,
      "outputs": []
    },
    {
      "cell_type": "code",
      "source": [
        "tf.random.set_seed(42)\n",
        "\n",
        "# Let's build an LSTM model with the Functional API\n",
        "inputs = layers.Input(shape=(WINDOW_SIZE))\n",
        "x = layers.Lambda(lambda x: tf.expand_dims(x, axis=1))(inputs) # expand input dimension to be compatible with LSTM\n",
        "# print(x.shape)\n",
        "# x = layers.LSTM(128, activation=\"relu\", return_sequences=True)(x) # this layer will error if the inputs are not the right shape\n",
        "x = layers.LSTM(128, activation=\"relu\")(x) # using the tanh loss function results in a massive error\n",
        "# print(x.shape)\n",
        "# Add another optional dense layer (you could add more of these to see if they improve model performance)\n",
        "# x = layers.Dense(32, activation=\"relu\")(x)\n",
        "output = layers.Dense(HORIZON)(x)\n",
        "model_6 = tf.keras.Model(inputs=inputs, outputs=output, name=\"model_6_lstm\")\n",
        "\n",
        "# Compile model\n",
        "model_6.compile(loss=\"mae\",\n",
        "                optimizer=tf.keras.optimizers.Adam())\n",
        "\n",
        "# Seems when saving the model several warnings are appearing: https://github.com/tensorflow/tensorflow/issues/47554 \n",
        "model_6.fit(train_windows,\n",
        "            train_labels,\n",
        "            epochs=100,\n",
        "            verbose=0,\n",
        "            batch_size=128,\n",
        "            validation_data=(test_windows, test_labels),\n",
        "            callbacks=[create_model_checkpoint(model_name=model_6.name)])"
      ],
      "metadata": {
        "colab": {
          "base_uri": "https://localhost:8080/"
        },
        "id": "v7crVZJ-XjZM",
        "outputId": "77d48501-30bc-493d-b5ac-309fedb0a669"
      },
      "execution_count": 108,
      "outputs": [
        {
          "output_type": "stream",
          "name": "stdout",
          "text": [
            "INFO:tensorflow:Assets written to: model_experiments/model_6_lstm/assets\n"
          ]
        },
        {
          "output_type": "stream",
          "name": "stderr",
          "text": [
            "WARNING:absl:<keras.layers.recurrent.LSTMCell object at 0x7fc6d4dabc10> has the same name 'LSTMCell' as a built-in Keras object. Consider renaming <class 'keras.layers.recurrent.LSTMCell'> to avoid naming conflicts when loading with `tf.keras.models.load_model`. If renaming is not possible, pass the object in the `custom_objects` parameter of the load function.\n"
          ]
        },
        {
          "output_type": "stream",
          "name": "stdout",
          "text": [
            "INFO:tensorflow:Assets written to: model_experiments/model_6_lstm/assets\n"
          ]
        },
        {
          "output_type": "stream",
          "name": "stderr",
          "text": [
            "INFO:tensorflow:Assets written to: model_experiments/model_6_lstm/assets\n",
            "WARNING:absl:<keras.layers.recurrent.LSTMCell object at 0x7fc6d4dabc10> has the same name 'LSTMCell' as a built-in Keras object. Consider renaming <class 'keras.layers.recurrent.LSTMCell'> to avoid naming conflicts when loading with `tf.keras.models.load_model`. If renaming is not possible, pass the object in the `custom_objects` parameter of the load function.\n"
          ]
        },
        {
          "output_type": "stream",
          "name": "stdout",
          "text": [
            "INFO:tensorflow:Assets written to: model_experiments/model_6_lstm/assets\n"
          ]
        },
        {
          "output_type": "stream",
          "name": "stderr",
          "text": [
            "INFO:tensorflow:Assets written to: model_experiments/model_6_lstm/assets\n",
            "WARNING:absl:<keras.layers.recurrent.LSTMCell object at 0x7fc6d4dabc10> has the same name 'LSTMCell' as a built-in Keras object. Consider renaming <class 'keras.layers.recurrent.LSTMCell'> to avoid naming conflicts when loading with `tf.keras.models.load_model`. If renaming is not possible, pass the object in the `custom_objects` parameter of the load function.\n"
          ]
        },
        {
          "output_type": "stream",
          "name": "stdout",
          "text": [
            "INFO:tensorflow:Assets written to: model_experiments/model_6_lstm/assets\n"
          ]
        },
        {
          "output_type": "stream",
          "name": "stderr",
          "text": [
            "INFO:tensorflow:Assets written to: model_experiments/model_6_lstm/assets\n",
            "WARNING:absl:<keras.layers.recurrent.LSTMCell object at 0x7fc6d4dabc10> has the same name 'LSTMCell' as a built-in Keras object. Consider renaming <class 'keras.layers.recurrent.LSTMCell'> to avoid naming conflicts when loading with `tf.keras.models.load_model`. If renaming is not possible, pass the object in the `custom_objects` parameter of the load function.\n"
          ]
        },
        {
          "output_type": "stream",
          "name": "stdout",
          "text": [
            "INFO:tensorflow:Assets written to: model_experiments/model_6_lstm/assets\n"
          ]
        },
        {
          "output_type": "stream",
          "name": "stderr",
          "text": [
            "INFO:tensorflow:Assets written to: model_experiments/model_6_lstm/assets\n",
            "WARNING:absl:<keras.layers.recurrent.LSTMCell object at 0x7fc6d4dabc10> has the same name 'LSTMCell' as a built-in Keras object. Consider renaming <class 'keras.layers.recurrent.LSTMCell'> to avoid naming conflicts when loading with `tf.keras.models.load_model`. If renaming is not possible, pass the object in the `custom_objects` parameter of the load function.\n"
          ]
        },
        {
          "output_type": "stream",
          "name": "stdout",
          "text": [
            "INFO:tensorflow:Assets written to: model_experiments/model_6_lstm/assets\n"
          ]
        },
        {
          "output_type": "stream",
          "name": "stderr",
          "text": [
            "INFO:tensorflow:Assets written to: model_experiments/model_6_lstm/assets\n",
            "WARNING:absl:<keras.layers.recurrent.LSTMCell object at 0x7fc6d4dabc10> has the same name 'LSTMCell' as a built-in Keras object. Consider renaming <class 'keras.layers.recurrent.LSTMCell'> to avoid naming conflicts when loading with `tf.keras.models.load_model`. If renaming is not possible, pass the object in the `custom_objects` parameter of the load function.\n"
          ]
        },
        {
          "output_type": "stream",
          "name": "stdout",
          "text": [
            "INFO:tensorflow:Assets written to: model_experiments/model_6_lstm/assets\n"
          ]
        },
        {
          "output_type": "stream",
          "name": "stderr",
          "text": [
            "INFO:tensorflow:Assets written to: model_experiments/model_6_lstm/assets\n",
            "WARNING:absl:<keras.layers.recurrent.LSTMCell object at 0x7fc6d4dabc10> has the same name 'LSTMCell' as a built-in Keras object. Consider renaming <class 'keras.layers.recurrent.LSTMCell'> to avoid naming conflicts when loading with `tf.keras.models.load_model`. If renaming is not possible, pass the object in the `custom_objects` parameter of the load function.\n"
          ]
        },
        {
          "output_type": "stream",
          "name": "stdout",
          "text": [
            "INFO:tensorflow:Assets written to: model_experiments/model_6_lstm/assets\n"
          ]
        },
        {
          "output_type": "stream",
          "name": "stderr",
          "text": [
            "INFO:tensorflow:Assets written to: model_experiments/model_6_lstm/assets\n",
            "WARNING:absl:<keras.layers.recurrent.LSTMCell object at 0x7fc6d4dabc10> has the same name 'LSTMCell' as a built-in Keras object. Consider renaming <class 'keras.layers.recurrent.LSTMCell'> to avoid naming conflicts when loading with `tf.keras.models.load_model`. If renaming is not possible, pass the object in the `custom_objects` parameter of the load function.\n"
          ]
        },
        {
          "output_type": "stream",
          "name": "stdout",
          "text": [
            "INFO:tensorflow:Assets written to: model_experiments/model_6_lstm/assets\n"
          ]
        },
        {
          "output_type": "stream",
          "name": "stderr",
          "text": [
            "INFO:tensorflow:Assets written to: model_experiments/model_6_lstm/assets\n",
            "WARNING:absl:<keras.layers.recurrent.LSTMCell object at 0x7fc6d4dabc10> has the same name 'LSTMCell' as a built-in Keras object. Consider renaming <class 'keras.layers.recurrent.LSTMCell'> to avoid naming conflicts when loading with `tf.keras.models.load_model`. If renaming is not possible, pass the object in the `custom_objects` parameter of the load function.\n"
          ]
        },
        {
          "output_type": "stream",
          "name": "stdout",
          "text": [
            "INFO:tensorflow:Assets written to: model_experiments/model_6_lstm/assets\n"
          ]
        },
        {
          "output_type": "stream",
          "name": "stderr",
          "text": [
            "INFO:tensorflow:Assets written to: model_experiments/model_6_lstm/assets\n",
            "WARNING:absl:<keras.layers.recurrent.LSTMCell object at 0x7fc6d4dabc10> has the same name 'LSTMCell' as a built-in Keras object. Consider renaming <class 'keras.layers.recurrent.LSTMCell'> to avoid naming conflicts when loading with `tf.keras.models.load_model`. If renaming is not possible, pass the object in the `custom_objects` parameter of the load function.\n"
          ]
        },
        {
          "output_type": "stream",
          "name": "stdout",
          "text": [
            "INFO:tensorflow:Assets written to: model_experiments/model_6_lstm/assets\n"
          ]
        },
        {
          "output_type": "stream",
          "name": "stderr",
          "text": [
            "INFO:tensorflow:Assets written to: model_experiments/model_6_lstm/assets\n",
            "WARNING:absl:<keras.layers.recurrent.LSTMCell object at 0x7fc6d4dabc10> has the same name 'LSTMCell' as a built-in Keras object. Consider renaming <class 'keras.layers.recurrent.LSTMCell'> to avoid naming conflicts when loading with `tf.keras.models.load_model`. If renaming is not possible, pass the object in the `custom_objects` parameter of the load function.\n"
          ]
        },
        {
          "output_type": "stream",
          "name": "stdout",
          "text": [
            "INFO:tensorflow:Assets written to: model_experiments/model_6_lstm/assets\n"
          ]
        },
        {
          "output_type": "stream",
          "name": "stderr",
          "text": [
            "INFO:tensorflow:Assets written to: model_experiments/model_6_lstm/assets\n",
            "WARNING:absl:<keras.layers.recurrent.LSTMCell object at 0x7fc6d4dabc10> has the same name 'LSTMCell' as a built-in Keras object. Consider renaming <class 'keras.layers.recurrent.LSTMCell'> to avoid naming conflicts when loading with `tf.keras.models.load_model`. If renaming is not possible, pass the object in the `custom_objects` parameter of the load function.\n"
          ]
        },
        {
          "output_type": "stream",
          "name": "stdout",
          "text": [
            "INFO:tensorflow:Assets written to: model_experiments/model_6_lstm/assets\n"
          ]
        },
        {
          "output_type": "stream",
          "name": "stderr",
          "text": [
            "INFO:tensorflow:Assets written to: model_experiments/model_6_lstm/assets\n",
            "WARNING:absl:<keras.layers.recurrent.LSTMCell object at 0x7fc6d4dabc10> has the same name 'LSTMCell' as a built-in Keras object. Consider renaming <class 'keras.layers.recurrent.LSTMCell'> to avoid naming conflicts when loading with `tf.keras.models.load_model`. If renaming is not possible, pass the object in the `custom_objects` parameter of the load function.\n"
          ]
        },
        {
          "output_type": "stream",
          "name": "stdout",
          "text": [
            "INFO:tensorflow:Assets written to: model_experiments/model_6_lstm/assets\n"
          ]
        },
        {
          "output_type": "stream",
          "name": "stderr",
          "text": [
            "INFO:tensorflow:Assets written to: model_experiments/model_6_lstm/assets\n",
            "WARNING:absl:<keras.layers.recurrent.LSTMCell object at 0x7fc6d4dabc10> has the same name 'LSTMCell' as a built-in Keras object. Consider renaming <class 'keras.layers.recurrent.LSTMCell'> to avoid naming conflicts when loading with `tf.keras.models.load_model`. If renaming is not possible, pass the object in the `custom_objects` parameter of the load function.\n"
          ]
        },
        {
          "output_type": "stream",
          "name": "stdout",
          "text": [
            "INFO:tensorflow:Assets written to: model_experiments/model_6_lstm/assets\n"
          ]
        },
        {
          "output_type": "stream",
          "name": "stderr",
          "text": [
            "INFO:tensorflow:Assets written to: model_experiments/model_6_lstm/assets\n",
            "WARNING:absl:<keras.layers.recurrent.LSTMCell object at 0x7fc6d4dabc10> has the same name 'LSTMCell' as a built-in Keras object. Consider renaming <class 'keras.layers.recurrent.LSTMCell'> to avoid naming conflicts when loading with `tf.keras.models.load_model`. If renaming is not possible, pass the object in the `custom_objects` parameter of the load function.\n"
          ]
        },
        {
          "output_type": "stream",
          "name": "stdout",
          "text": [
            "INFO:tensorflow:Assets written to: model_experiments/model_6_lstm/assets\n"
          ]
        },
        {
          "output_type": "stream",
          "name": "stderr",
          "text": [
            "INFO:tensorflow:Assets written to: model_experiments/model_6_lstm/assets\n",
            "WARNING:absl:<keras.layers.recurrent.LSTMCell object at 0x7fc6d4dabc10> has the same name 'LSTMCell' as a built-in Keras object. Consider renaming <class 'keras.layers.recurrent.LSTMCell'> to avoid naming conflicts when loading with `tf.keras.models.load_model`. If renaming is not possible, pass the object in the `custom_objects` parameter of the load function.\n"
          ]
        },
        {
          "output_type": "stream",
          "name": "stdout",
          "text": [
            "INFO:tensorflow:Assets written to: model_experiments/model_6_lstm/assets\n"
          ]
        },
        {
          "output_type": "stream",
          "name": "stderr",
          "text": [
            "INFO:tensorflow:Assets written to: model_experiments/model_6_lstm/assets\n",
            "WARNING:absl:<keras.layers.recurrent.LSTMCell object at 0x7fc6d4dabc10> has the same name 'LSTMCell' as a built-in Keras object. Consider renaming <class 'keras.layers.recurrent.LSTMCell'> to avoid naming conflicts when loading with `tf.keras.models.load_model`. If renaming is not possible, pass the object in the `custom_objects` parameter of the load function.\n"
          ]
        },
        {
          "output_type": "stream",
          "name": "stdout",
          "text": [
            "INFO:tensorflow:Assets written to: model_experiments/model_6_lstm/assets\n"
          ]
        },
        {
          "output_type": "stream",
          "name": "stderr",
          "text": [
            "INFO:tensorflow:Assets written to: model_experiments/model_6_lstm/assets\n",
            "WARNING:absl:<keras.layers.recurrent.LSTMCell object at 0x7fc6d4dabc10> has the same name 'LSTMCell' as a built-in Keras object. Consider renaming <class 'keras.layers.recurrent.LSTMCell'> to avoid naming conflicts when loading with `tf.keras.models.load_model`. If renaming is not possible, pass the object in the `custom_objects` parameter of the load function.\n"
          ]
        },
        {
          "output_type": "stream",
          "name": "stdout",
          "text": [
            "INFO:tensorflow:Assets written to: model_experiments/model_6_lstm/assets\n"
          ]
        },
        {
          "output_type": "stream",
          "name": "stderr",
          "text": [
            "INFO:tensorflow:Assets written to: model_experiments/model_6_lstm/assets\n",
            "WARNING:absl:<keras.layers.recurrent.LSTMCell object at 0x7fc6d4dabc10> has the same name 'LSTMCell' as a built-in Keras object. Consider renaming <class 'keras.layers.recurrent.LSTMCell'> to avoid naming conflicts when loading with `tf.keras.models.load_model`. If renaming is not possible, pass the object in the `custom_objects` parameter of the load function.\n"
          ]
        },
        {
          "output_type": "stream",
          "name": "stdout",
          "text": [
            "INFO:tensorflow:Assets written to: model_experiments/model_6_lstm/assets\n"
          ]
        },
        {
          "output_type": "stream",
          "name": "stderr",
          "text": [
            "INFO:tensorflow:Assets written to: model_experiments/model_6_lstm/assets\n",
            "WARNING:absl:<keras.layers.recurrent.LSTMCell object at 0x7fc6d4dabc10> has the same name 'LSTMCell' as a built-in Keras object. Consider renaming <class 'keras.layers.recurrent.LSTMCell'> to avoid naming conflicts when loading with `tf.keras.models.load_model`. If renaming is not possible, pass the object in the `custom_objects` parameter of the load function.\n"
          ]
        },
        {
          "output_type": "stream",
          "name": "stdout",
          "text": [
            "INFO:tensorflow:Assets written to: model_experiments/model_6_lstm/assets\n"
          ]
        },
        {
          "output_type": "stream",
          "name": "stderr",
          "text": [
            "INFO:tensorflow:Assets written to: model_experiments/model_6_lstm/assets\n",
            "WARNING:absl:<keras.layers.recurrent.LSTMCell object at 0x7fc6d4dabc10> has the same name 'LSTMCell' as a built-in Keras object. Consider renaming <class 'keras.layers.recurrent.LSTMCell'> to avoid naming conflicts when loading with `tf.keras.models.load_model`. If renaming is not possible, pass the object in the `custom_objects` parameter of the load function.\n"
          ]
        },
        {
          "output_type": "stream",
          "name": "stdout",
          "text": [
            "INFO:tensorflow:Assets written to: model_experiments/model_6_lstm/assets\n"
          ]
        },
        {
          "output_type": "stream",
          "name": "stderr",
          "text": [
            "INFO:tensorflow:Assets written to: model_experiments/model_6_lstm/assets\n",
            "WARNING:absl:<keras.layers.recurrent.LSTMCell object at 0x7fc6d4dabc10> has the same name 'LSTMCell' as a built-in Keras object. Consider renaming <class 'keras.layers.recurrent.LSTMCell'> to avoid naming conflicts when loading with `tf.keras.models.load_model`. If renaming is not possible, pass the object in the `custom_objects` parameter of the load function.\n"
          ]
        },
        {
          "output_type": "stream",
          "name": "stdout",
          "text": [
            "INFO:tensorflow:Assets written to: model_experiments/model_6_lstm/assets\n"
          ]
        },
        {
          "output_type": "stream",
          "name": "stderr",
          "text": [
            "INFO:tensorflow:Assets written to: model_experiments/model_6_lstm/assets\n",
            "WARNING:absl:<keras.layers.recurrent.LSTMCell object at 0x7fc6d4dabc10> has the same name 'LSTMCell' as a built-in Keras object. Consider renaming <class 'keras.layers.recurrent.LSTMCell'> to avoid naming conflicts when loading with `tf.keras.models.load_model`. If renaming is not possible, pass the object in the `custom_objects` parameter of the load function.\n"
          ]
        },
        {
          "output_type": "stream",
          "name": "stdout",
          "text": [
            "INFO:tensorflow:Assets written to: model_experiments/model_6_lstm/assets\n"
          ]
        },
        {
          "output_type": "stream",
          "name": "stderr",
          "text": [
            "INFO:tensorflow:Assets written to: model_experiments/model_6_lstm/assets\n",
            "WARNING:absl:<keras.layers.recurrent.LSTMCell object at 0x7fc6d4dabc10> has the same name 'LSTMCell' as a built-in Keras object. Consider renaming <class 'keras.layers.recurrent.LSTMCell'> to avoid naming conflicts when loading with `tf.keras.models.load_model`. If renaming is not possible, pass the object in the `custom_objects` parameter of the load function.\n"
          ]
        },
        {
          "output_type": "stream",
          "name": "stdout",
          "text": [
            "INFO:tensorflow:Assets written to: model_experiments/model_6_lstm/assets\n"
          ]
        },
        {
          "output_type": "stream",
          "name": "stderr",
          "text": [
            "INFO:tensorflow:Assets written to: model_experiments/model_6_lstm/assets\n",
            "WARNING:absl:<keras.layers.recurrent.LSTMCell object at 0x7fc6d4dabc10> has the same name 'LSTMCell' as a built-in Keras object. Consider renaming <class 'keras.layers.recurrent.LSTMCell'> to avoid naming conflicts when loading with `tf.keras.models.load_model`. If renaming is not possible, pass the object in the `custom_objects` parameter of the load function.\n"
          ]
        },
        {
          "output_type": "stream",
          "name": "stdout",
          "text": [
            "INFO:tensorflow:Assets written to: model_experiments/model_6_lstm/assets\n"
          ]
        },
        {
          "output_type": "stream",
          "name": "stderr",
          "text": [
            "INFO:tensorflow:Assets written to: model_experiments/model_6_lstm/assets\n",
            "WARNING:absl:<keras.layers.recurrent.LSTMCell object at 0x7fc6d4dabc10> has the same name 'LSTMCell' as a built-in Keras object. Consider renaming <class 'keras.layers.recurrent.LSTMCell'> to avoid naming conflicts when loading with `tf.keras.models.load_model`. If renaming is not possible, pass the object in the `custom_objects` parameter of the load function.\n"
          ]
        },
        {
          "output_type": "stream",
          "name": "stdout",
          "text": [
            "INFO:tensorflow:Assets written to: model_experiments/model_6_lstm/assets\n"
          ]
        },
        {
          "output_type": "stream",
          "name": "stderr",
          "text": [
            "INFO:tensorflow:Assets written to: model_experiments/model_6_lstm/assets\n",
            "WARNING:absl:<keras.layers.recurrent.LSTMCell object at 0x7fc6d4dabc10> has the same name 'LSTMCell' as a built-in Keras object. Consider renaming <class 'keras.layers.recurrent.LSTMCell'> to avoid naming conflicts when loading with `tf.keras.models.load_model`. If renaming is not possible, pass the object in the `custom_objects` parameter of the load function.\n"
          ]
        },
        {
          "output_type": "stream",
          "name": "stdout",
          "text": [
            "INFO:tensorflow:Assets written to: model_experiments/model_6_lstm/assets\n"
          ]
        },
        {
          "output_type": "stream",
          "name": "stderr",
          "text": [
            "INFO:tensorflow:Assets written to: model_experiments/model_6_lstm/assets\n",
            "WARNING:absl:<keras.layers.recurrent.LSTMCell object at 0x7fc6d4dabc10> has the same name 'LSTMCell' as a built-in Keras object. Consider renaming <class 'keras.layers.recurrent.LSTMCell'> to avoid naming conflicts when loading with `tf.keras.models.load_model`. If renaming is not possible, pass the object in the `custom_objects` parameter of the load function.\n"
          ]
        },
        {
          "output_type": "stream",
          "name": "stdout",
          "text": [
            "INFO:tensorflow:Assets written to: model_experiments/model_6_lstm/assets\n"
          ]
        },
        {
          "output_type": "stream",
          "name": "stderr",
          "text": [
            "INFO:tensorflow:Assets written to: model_experiments/model_6_lstm/assets\n",
            "WARNING:absl:<keras.layers.recurrent.LSTMCell object at 0x7fc6d4dabc10> has the same name 'LSTMCell' as a built-in Keras object. Consider renaming <class 'keras.layers.recurrent.LSTMCell'> to avoid naming conflicts when loading with `tf.keras.models.load_model`. If renaming is not possible, pass the object in the `custom_objects` parameter of the load function.\n"
          ]
        },
        {
          "output_type": "stream",
          "name": "stdout",
          "text": [
            "INFO:tensorflow:Assets written to: model_experiments/model_6_lstm/assets\n"
          ]
        },
        {
          "output_type": "stream",
          "name": "stderr",
          "text": [
            "INFO:tensorflow:Assets written to: model_experiments/model_6_lstm/assets\n",
            "WARNING:absl:<keras.layers.recurrent.LSTMCell object at 0x7fc6d4dabc10> has the same name 'LSTMCell' as a built-in Keras object. Consider renaming <class 'keras.layers.recurrent.LSTMCell'> to avoid naming conflicts when loading with `tf.keras.models.load_model`. If renaming is not possible, pass the object in the `custom_objects` parameter of the load function.\n"
          ]
        },
        {
          "output_type": "stream",
          "name": "stdout",
          "text": [
            "INFO:tensorflow:Assets written to: model_experiments/model_6_lstm/assets\n"
          ]
        },
        {
          "output_type": "stream",
          "name": "stderr",
          "text": [
            "INFO:tensorflow:Assets written to: model_experiments/model_6_lstm/assets\n",
            "WARNING:absl:<keras.layers.recurrent.LSTMCell object at 0x7fc6d4dabc10> has the same name 'LSTMCell' as a built-in Keras object. Consider renaming <class 'keras.layers.recurrent.LSTMCell'> to avoid naming conflicts when loading with `tf.keras.models.load_model`. If renaming is not possible, pass the object in the `custom_objects` parameter of the load function.\n"
          ]
        },
        {
          "output_type": "stream",
          "name": "stdout",
          "text": [
            "INFO:tensorflow:Assets written to: model_experiments/model_6_lstm/assets\n"
          ]
        },
        {
          "output_type": "stream",
          "name": "stderr",
          "text": [
            "INFO:tensorflow:Assets written to: model_experiments/model_6_lstm/assets\n",
            "WARNING:absl:<keras.layers.recurrent.LSTMCell object at 0x7fc6d4dabc10> has the same name 'LSTMCell' as a built-in Keras object. Consider renaming <class 'keras.layers.recurrent.LSTMCell'> to avoid naming conflicts when loading with `tf.keras.models.load_model`. If renaming is not possible, pass the object in the `custom_objects` parameter of the load function.\n"
          ]
        },
        {
          "output_type": "stream",
          "name": "stdout",
          "text": [
            "INFO:tensorflow:Assets written to: model_experiments/model_6_lstm/assets\n"
          ]
        },
        {
          "output_type": "stream",
          "name": "stderr",
          "text": [
            "INFO:tensorflow:Assets written to: model_experiments/model_6_lstm/assets\n",
            "WARNING:absl:<keras.layers.recurrent.LSTMCell object at 0x7fc6d4dabc10> has the same name 'LSTMCell' as a built-in Keras object. Consider renaming <class 'keras.layers.recurrent.LSTMCell'> to avoid naming conflicts when loading with `tf.keras.models.load_model`. If renaming is not possible, pass the object in the `custom_objects` parameter of the load function.\n"
          ]
        },
        {
          "output_type": "stream",
          "name": "stdout",
          "text": [
            "INFO:tensorflow:Assets written to: model_experiments/model_6_lstm/assets\n"
          ]
        },
        {
          "output_type": "stream",
          "name": "stderr",
          "text": [
            "INFO:tensorflow:Assets written to: model_experiments/model_6_lstm/assets\n",
            "WARNING:absl:<keras.layers.recurrent.LSTMCell object at 0x7fc6d4dabc10> has the same name 'LSTMCell' as a built-in Keras object. Consider renaming <class 'keras.layers.recurrent.LSTMCell'> to avoid naming conflicts when loading with `tf.keras.models.load_model`. If renaming is not possible, pass the object in the `custom_objects` parameter of the load function.\n"
          ]
        },
        {
          "output_type": "stream",
          "name": "stdout",
          "text": [
            "INFO:tensorflow:Assets written to: model_experiments/model_6_lstm/assets\n"
          ]
        },
        {
          "output_type": "stream",
          "name": "stderr",
          "text": [
            "INFO:tensorflow:Assets written to: model_experiments/model_6_lstm/assets\n",
            "WARNING:absl:<keras.layers.recurrent.LSTMCell object at 0x7fc6d4dabc10> has the same name 'LSTMCell' as a built-in Keras object. Consider renaming <class 'keras.layers.recurrent.LSTMCell'> to avoid naming conflicts when loading with `tf.keras.models.load_model`. If renaming is not possible, pass the object in the `custom_objects` parameter of the load function.\n"
          ]
        },
        {
          "output_type": "stream",
          "name": "stdout",
          "text": [
            "INFO:tensorflow:Assets written to: model_experiments/model_6_lstm/assets\n"
          ]
        },
        {
          "output_type": "stream",
          "name": "stderr",
          "text": [
            "INFO:tensorflow:Assets written to: model_experiments/model_6_lstm/assets\n",
            "WARNING:absl:<keras.layers.recurrent.LSTMCell object at 0x7fc6d4dabc10> has the same name 'LSTMCell' as a built-in Keras object. Consider renaming <class 'keras.layers.recurrent.LSTMCell'> to avoid naming conflicts when loading with `tf.keras.models.load_model`. If renaming is not possible, pass the object in the `custom_objects` parameter of the load function.\n"
          ]
        },
        {
          "output_type": "stream",
          "name": "stdout",
          "text": [
            "INFO:tensorflow:Assets written to: model_experiments/model_6_lstm/assets\n"
          ]
        },
        {
          "output_type": "stream",
          "name": "stderr",
          "text": [
            "INFO:tensorflow:Assets written to: model_experiments/model_6_lstm/assets\n",
            "WARNING:absl:<keras.layers.recurrent.LSTMCell object at 0x7fc6d4dabc10> has the same name 'LSTMCell' as a built-in Keras object. Consider renaming <class 'keras.layers.recurrent.LSTMCell'> to avoid naming conflicts when loading with `tf.keras.models.load_model`. If renaming is not possible, pass the object in the `custom_objects` parameter of the load function.\n"
          ]
        },
        {
          "output_type": "stream",
          "name": "stdout",
          "text": [
            "INFO:tensorflow:Assets written to: model_experiments/model_6_lstm/assets\n"
          ]
        },
        {
          "output_type": "stream",
          "name": "stderr",
          "text": [
            "INFO:tensorflow:Assets written to: model_experiments/model_6_lstm/assets\n",
            "WARNING:absl:<keras.layers.recurrent.LSTMCell object at 0x7fc6d4dabc10> has the same name 'LSTMCell' as a built-in Keras object. Consider renaming <class 'keras.layers.recurrent.LSTMCell'> to avoid naming conflicts when loading with `tf.keras.models.load_model`. If renaming is not possible, pass the object in the `custom_objects` parameter of the load function.\n"
          ]
        },
        {
          "output_type": "stream",
          "name": "stdout",
          "text": [
            "INFO:tensorflow:Assets written to: model_experiments/model_6_lstm/assets\n"
          ]
        },
        {
          "output_type": "stream",
          "name": "stderr",
          "text": [
            "INFO:tensorflow:Assets written to: model_experiments/model_6_lstm/assets\n",
            "WARNING:absl:<keras.layers.recurrent.LSTMCell object at 0x7fc6d4dabc10> has the same name 'LSTMCell' as a built-in Keras object. Consider renaming <class 'keras.layers.recurrent.LSTMCell'> to avoid naming conflicts when loading with `tf.keras.models.load_model`. If renaming is not possible, pass the object in the `custom_objects` parameter of the load function.\n"
          ]
        },
        {
          "output_type": "stream",
          "name": "stdout",
          "text": [
            "INFO:tensorflow:Assets written to: model_experiments/model_6_lstm/assets\n"
          ]
        },
        {
          "output_type": "stream",
          "name": "stderr",
          "text": [
            "INFO:tensorflow:Assets written to: model_experiments/model_6_lstm/assets\n",
            "WARNING:absl:<keras.layers.recurrent.LSTMCell object at 0x7fc6d4dabc10> has the same name 'LSTMCell' as a built-in Keras object. Consider renaming <class 'keras.layers.recurrent.LSTMCell'> to avoid naming conflicts when loading with `tf.keras.models.load_model`. If renaming is not possible, pass the object in the `custom_objects` parameter of the load function.\n"
          ]
        },
        {
          "output_type": "execute_result",
          "data": {
            "text/plain": [
              "<keras.callbacks.History at 0x7fc6d4f8c810>"
            ]
          },
          "metadata": {},
          "execution_count": 108
        }
      ]
    },
    {
      "cell_type": "code",
      "source": [
        "# Load in best version of model 5 and evaluate on the test data\n",
        "model_6 = tf.keras.models.load_model(\"model_experiments/model_6_lstm/\")\n",
        "model_6.evaluate(test_windows, test_labels)"
      ],
      "metadata": {
        "colab": {
          "base_uri": "https://localhost:8080/"
        },
        "id": "4qu18aEIX2ei",
        "outputId": "3c4ff8c9-b2f9-4cb3-85b9-d6a7ef15ed69"
      },
      "execution_count": 109,
      "outputs": [
        {
          "output_type": "stream",
          "name": "stdout",
          "text": [
            "18/18 [==============================] - 0s 2ms/step - loss: 591.6655\n"
          ]
        },
        {
          "output_type": "execute_result",
          "data": {
            "text/plain": [
              "591.6654663085938"
            ]
          },
          "metadata": {},
          "execution_count": 109
        }
      ]
    },
    {
      "cell_type": "code",
      "source": [
        "# Make predictions with our LSTM model\n",
        "model_6_preds = make_preds(model_6, test_windows)\n",
        "model_6_preds[:10]"
      ],
      "metadata": {
        "colab": {
          "base_uri": "https://localhost:8080/"
        },
        "id": "sz76OI9_X8rl",
        "outputId": "f228ff2e-6ead-458f-b272-b1e413dc08f3"
      },
      "execution_count": 111,
      "outputs": [
        {
          "output_type": "execute_result",
          "data": {
            "text/plain": [
              "<tf.Tensor: shape=(10,), dtype=float32, numpy=\n",
              "array([8970.957, 8815.352, 9026.793, 8831.478, 8736.686, 8804.464,\n",
              "       8733.207, 8540.421, 8518.281, 8544.508], dtype=float32)>"
            ]
          },
          "metadata": {},
          "execution_count": 111
        }
      ]
    },
    {
      "cell_type": "code",
      "source": [
        "# Evaluate model 5 preds\n",
        "model_6_results = evaluate_preds(y_true=tf.squeeze(test_labels),\n",
        "                                 y_pred=model_6_preds)\n",
        "model_6_results"
      ],
      "metadata": {
        "colab": {
          "base_uri": "https://localhost:8080/"
        },
        "id": "W1s3cJtrX_WB",
        "outputId": "ae583ecb-fba9-42a6-b74f-fd1d18c7bde2"
      },
      "execution_count": 112,
      "outputs": [
        {
          "output_type": "execute_result",
          "data": {
            "text/plain": [
              "{'mae': 591.6655,\n",
              " 'mape': 2.66558,\n",
              " 'mase': 1.0393925,\n",
              " 'mse': 1250831.5,\n",
              " 'rmse': 1118.4058}"
            ]
          },
          "metadata": {},
          "execution_count": 112
        }
      ]
    },
    {
      "cell_type": "code",
      "source": [
        "#making bitcoin multivariate."
      ],
      "metadata": {
        "id": "LplAkX9EYTh_"
      },
      "execution_count": 113,
      "outputs": []
    },
    {
      "cell_type": "code",
      "source": [
        "# Let's make a multivariate time series\n",
        "bitcoin_prices.head()"
      ],
      "metadata": {
        "colab": {
          "base_uri": "https://localhost:8080/",
          "height": 238
        },
        "id": "RfM52TI_Yi4w",
        "outputId": "3b0bf28f-6ee8-4895-96c0-1d62e9ec8ac4"
      },
      "execution_count": 114,
      "outputs": [
        {
          "output_type": "execute_result",
          "data": {
            "text/plain": [
              "                Price\n",
              "Date                 \n",
              "2013-10-01  123.65499\n",
              "2013-10-02  125.45500\n",
              "2013-10-03  108.58483\n",
              "2013-10-04  118.67466\n",
              "2013-10-05  121.33866"
            ],
            "text/html": [
              "\n",
              "  <div id=\"df-af72ab68-5b32-42fe-91d6-e728ffffee70\">\n",
              "    <div class=\"colab-df-container\">\n",
              "      <div>\n",
              "<style scoped>\n",
              "    .dataframe tbody tr th:only-of-type {\n",
              "        vertical-align: middle;\n",
              "    }\n",
              "\n",
              "    .dataframe tbody tr th {\n",
              "        vertical-align: top;\n",
              "    }\n",
              "\n",
              "    .dataframe thead th {\n",
              "        text-align: right;\n",
              "    }\n",
              "</style>\n",
              "<table border=\"1\" class=\"dataframe\">\n",
              "  <thead>\n",
              "    <tr style=\"text-align: right;\">\n",
              "      <th></th>\n",
              "      <th>Price</th>\n",
              "    </tr>\n",
              "    <tr>\n",
              "      <th>Date</th>\n",
              "      <th></th>\n",
              "    </tr>\n",
              "  </thead>\n",
              "  <tbody>\n",
              "    <tr>\n",
              "      <th>2013-10-01</th>\n",
              "      <td>123.65499</td>\n",
              "    </tr>\n",
              "    <tr>\n",
              "      <th>2013-10-02</th>\n",
              "      <td>125.45500</td>\n",
              "    </tr>\n",
              "    <tr>\n",
              "      <th>2013-10-03</th>\n",
              "      <td>108.58483</td>\n",
              "    </tr>\n",
              "    <tr>\n",
              "      <th>2013-10-04</th>\n",
              "      <td>118.67466</td>\n",
              "    </tr>\n",
              "    <tr>\n",
              "      <th>2013-10-05</th>\n",
              "      <td>121.33866</td>\n",
              "    </tr>\n",
              "  </tbody>\n",
              "</table>\n",
              "</div>\n",
              "      <button class=\"colab-df-convert\" onclick=\"convertToInteractive('df-af72ab68-5b32-42fe-91d6-e728ffffee70')\"\n",
              "              title=\"Convert this dataframe to an interactive table.\"\n",
              "              style=\"display:none;\">\n",
              "        \n",
              "  <svg xmlns=\"http://www.w3.org/2000/svg\" height=\"24px\"viewBox=\"0 0 24 24\"\n",
              "       width=\"24px\">\n",
              "    <path d=\"M0 0h24v24H0V0z\" fill=\"none\"/>\n",
              "    <path d=\"M18.56 5.44l.94 2.06.94-2.06 2.06-.94-2.06-.94-.94-2.06-.94 2.06-2.06.94zm-11 1L8.5 8.5l.94-2.06 2.06-.94-2.06-.94L8.5 2.5l-.94 2.06-2.06.94zm10 10l.94 2.06.94-2.06 2.06-.94-2.06-.94-.94-2.06-.94 2.06-2.06.94z\"/><path d=\"M17.41 7.96l-1.37-1.37c-.4-.4-.92-.59-1.43-.59-.52 0-1.04.2-1.43.59L10.3 9.45l-7.72 7.72c-.78.78-.78 2.05 0 2.83L4 21.41c.39.39.9.59 1.41.59.51 0 1.02-.2 1.41-.59l7.78-7.78 2.81-2.81c.8-.78.8-2.07 0-2.86zM5.41 20L4 18.59l7.72-7.72 1.47 1.35L5.41 20z\"/>\n",
              "  </svg>\n",
              "      </button>\n",
              "      \n",
              "  <style>\n",
              "    .colab-df-container {\n",
              "      display:flex;\n",
              "      flex-wrap:wrap;\n",
              "      gap: 12px;\n",
              "    }\n",
              "\n",
              "    .colab-df-convert {\n",
              "      background-color: #E8F0FE;\n",
              "      border: none;\n",
              "      border-radius: 50%;\n",
              "      cursor: pointer;\n",
              "      display: none;\n",
              "      fill: #1967D2;\n",
              "      height: 32px;\n",
              "      padding: 0 0 0 0;\n",
              "      width: 32px;\n",
              "    }\n",
              "\n",
              "    .colab-df-convert:hover {\n",
              "      background-color: #E2EBFA;\n",
              "      box-shadow: 0px 1px 2px rgba(60, 64, 67, 0.3), 0px 1px 3px 1px rgba(60, 64, 67, 0.15);\n",
              "      fill: #174EA6;\n",
              "    }\n",
              "\n",
              "    [theme=dark] .colab-df-convert {\n",
              "      background-color: #3B4455;\n",
              "      fill: #D2E3FC;\n",
              "    }\n",
              "\n",
              "    [theme=dark] .colab-df-convert:hover {\n",
              "      background-color: #434B5C;\n",
              "      box-shadow: 0px 1px 3px 1px rgba(0, 0, 0, 0.15);\n",
              "      filter: drop-shadow(0px 1px 2px rgba(0, 0, 0, 0.3));\n",
              "      fill: #FFFFFF;\n",
              "    }\n",
              "  </style>\n",
              "\n",
              "      <script>\n",
              "        const buttonEl =\n",
              "          document.querySelector('#df-af72ab68-5b32-42fe-91d6-e728ffffee70 button.colab-df-convert');\n",
              "        buttonEl.style.display =\n",
              "          google.colab.kernel.accessAllowed ? 'block' : 'none';\n",
              "\n",
              "        async function convertToInteractive(key) {\n",
              "          const element = document.querySelector('#df-af72ab68-5b32-42fe-91d6-e728ffffee70');\n",
              "          const dataTable =\n",
              "            await google.colab.kernel.invokeFunction('convertToInteractive',\n",
              "                                                     [key], {});\n",
              "          if (!dataTable) return;\n",
              "\n",
              "          const docLinkHtml = 'Like what you see? Visit the ' +\n",
              "            '<a target=\"_blank\" href=https://colab.research.google.com/notebooks/data_table.ipynb>data table notebook</a>'\n",
              "            + ' to learn more about interactive tables.';\n",
              "          element.innerHTML = '';\n",
              "          dataTable['output_type'] = 'display_data';\n",
              "          await google.colab.output.renderOutput(dataTable, element);\n",
              "          const docLink = document.createElement('div');\n",
              "          docLink.innerHTML = docLinkHtml;\n",
              "          element.appendChild(docLink);\n",
              "        }\n",
              "      </script>\n",
              "    </div>\n",
              "  </div>\n",
              "  "
            ]
          },
          "metadata": {},
          "execution_count": 114
        }
      ]
    },
    {
      "cell_type": "code",
      "source": [
        "# Block reward values\n",
        "block_reward_1 = 50 # 3 January 2009 (2009-01-03) - this block reward isn't in our dataset (it starts from 01 October 2013)\n",
        "block_reward_2 = 25 # 28 November 2012 \n",
        "block_reward_3 = 12.5 # 9 July 2016\n",
        "block_reward_4 = 6.25 # 11 May 2020\n",
        "\n",
        "# Block reward dates (datetime form of the above date stamps)\n",
        "block_reward_2_datetime = np.datetime64(\"2012-11-28\")\n",
        "block_reward_3_datetime = np.datetime64(\"2016-07-09\")\n",
        "block_reward_4_datetime = np.datetime64(\"2020-05-11\")"
      ],
      "metadata": {
        "id": "2stjGI15ZGin"
      },
      "execution_count": 115,
      "outputs": []
    },
    {
      "cell_type": "code",
      "source": [
        "# Get date indexes for when to add in different block dates\n",
        "block_reward_2_days = (block_reward_3_datetime - bitcoin_prices.index[0]).days\n",
        "block_reward_3_days = (block_reward_4_datetime - bitcoin_prices.index[0]).days\n",
        "block_reward_2_days, block_reward_3_days"
      ],
      "metadata": {
        "colab": {
          "base_uri": "https://localhost:8080/"
        },
        "id": "-wrtin1qZXXf",
        "outputId": "1c483b7a-0dbb-4610-8146-24ea497f05f6"
      },
      "execution_count": 116,
      "outputs": [
        {
          "output_type": "execute_result",
          "data": {
            "text/plain": [
              "(1012, 2414)"
            ]
          },
          "metadata": {},
          "execution_count": 116
        }
      ]
    },
    {
      "cell_type": "code",
      "source": [
        "# Add block_reward column\n",
        "bitcoin_prices_block = bitcoin_prices.copy()\n",
        "bitcoin_prices_block[\"block_reward\"] = None\n",
        "\n",
        "# Set values of block_reward column (it's the last column hence -1 indexing on iloc)\n",
        "bitcoin_prices_block.iloc[:block_reward_2_days, -1] = block_reward_2\n",
        "bitcoin_prices_block.iloc[block_reward_2_days:block_reward_3_days, -1] = block_reward_3\n",
        "bitcoin_prices_block.iloc[block_reward_3_days:, -1] = block_reward_4\n",
        "bitcoin_prices_block.head()"
      ],
      "metadata": {
        "colab": {
          "base_uri": "https://localhost:8080/",
          "height": 238
        },
        "id": "PLJCJvw4ZZp4",
        "outputId": "9d09fa05-c364-448a-9ce9-6d9b91469e2b"
      },
      "execution_count": 117,
      "outputs": [
        {
          "output_type": "execute_result",
          "data": {
            "text/plain": [
              "                Price block_reward\n",
              "Date                              \n",
              "2013-10-01  123.65499           25\n",
              "2013-10-02  125.45500           25\n",
              "2013-10-03  108.58483           25\n",
              "2013-10-04  118.67466           25\n",
              "2013-10-05  121.33866           25"
            ],
            "text/html": [
              "\n",
              "  <div id=\"df-52b892ec-4624-4895-a75d-e1871817d801\">\n",
              "    <div class=\"colab-df-container\">\n",
              "      <div>\n",
              "<style scoped>\n",
              "    .dataframe tbody tr th:only-of-type {\n",
              "        vertical-align: middle;\n",
              "    }\n",
              "\n",
              "    .dataframe tbody tr th {\n",
              "        vertical-align: top;\n",
              "    }\n",
              "\n",
              "    .dataframe thead th {\n",
              "        text-align: right;\n",
              "    }\n",
              "</style>\n",
              "<table border=\"1\" class=\"dataframe\">\n",
              "  <thead>\n",
              "    <tr style=\"text-align: right;\">\n",
              "      <th></th>\n",
              "      <th>Price</th>\n",
              "      <th>block_reward</th>\n",
              "    </tr>\n",
              "    <tr>\n",
              "      <th>Date</th>\n",
              "      <th></th>\n",
              "      <th></th>\n",
              "    </tr>\n",
              "  </thead>\n",
              "  <tbody>\n",
              "    <tr>\n",
              "      <th>2013-10-01</th>\n",
              "      <td>123.65499</td>\n",
              "      <td>25</td>\n",
              "    </tr>\n",
              "    <tr>\n",
              "      <th>2013-10-02</th>\n",
              "      <td>125.45500</td>\n",
              "      <td>25</td>\n",
              "    </tr>\n",
              "    <tr>\n",
              "      <th>2013-10-03</th>\n",
              "      <td>108.58483</td>\n",
              "      <td>25</td>\n",
              "    </tr>\n",
              "    <tr>\n",
              "      <th>2013-10-04</th>\n",
              "      <td>118.67466</td>\n",
              "      <td>25</td>\n",
              "    </tr>\n",
              "    <tr>\n",
              "      <th>2013-10-05</th>\n",
              "      <td>121.33866</td>\n",
              "      <td>25</td>\n",
              "    </tr>\n",
              "  </tbody>\n",
              "</table>\n",
              "</div>\n",
              "      <button class=\"colab-df-convert\" onclick=\"convertToInteractive('df-52b892ec-4624-4895-a75d-e1871817d801')\"\n",
              "              title=\"Convert this dataframe to an interactive table.\"\n",
              "              style=\"display:none;\">\n",
              "        \n",
              "  <svg xmlns=\"http://www.w3.org/2000/svg\" height=\"24px\"viewBox=\"0 0 24 24\"\n",
              "       width=\"24px\">\n",
              "    <path d=\"M0 0h24v24H0V0z\" fill=\"none\"/>\n",
              "    <path d=\"M18.56 5.44l.94 2.06.94-2.06 2.06-.94-2.06-.94-.94-2.06-.94 2.06-2.06.94zm-11 1L8.5 8.5l.94-2.06 2.06-.94-2.06-.94L8.5 2.5l-.94 2.06-2.06.94zm10 10l.94 2.06.94-2.06 2.06-.94-2.06-.94-.94-2.06-.94 2.06-2.06.94z\"/><path d=\"M17.41 7.96l-1.37-1.37c-.4-.4-.92-.59-1.43-.59-.52 0-1.04.2-1.43.59L10.3 9.45l-7.72 7.72c-.78.78-.78 2.05 0 2.83L4 21.41c.39.39.9.59 1.41.59.51 0 1.02-.2 1.41-.59l7.78-7.78 2.81-2.81c.8-.78.8-2.07 0-2.86zM5.41 20L4 18.59l7.72-7.72 1.47 1.35L5.41 20z\"/>\n",
              "  </svg>\n",
              "      </button>\n",
              "      \n",
              "  <style>\n",
              "    .colab-df-container {\n",
              "      display:flex;\n",
              "      flex-wrap:wrap;\n",
              "      gap: 12px;\n",
              "    }\n",
              "\n",
              "    .colab-df-convert {\n",
              "      background-color: #E8F0FE;\n",
              "      border: none;\n",
              "      border-radius: 50%;\n",
              "      cursor: pointer;\n",
              "      display: none;\n",
              "      fill: #1967D2;\n",
              "      height: 32px;\n",
              "      padding: 0 0 0 0;\n",
              "      width: 32px;\n",
              "    }\n",
              "\n",
              "    .colab-df-convert:hover {\n",
              "      background-color: #E2EBFA;\n",
              "      box-shadow: 0px 1px 2px rgba(60, 64, 67, 0.3), 0px 1px 3px 1px rgba(60, 64, 67, 0.15);\n",
              "      fill: #174EA6;\n",
              "    }\n",
              "\n",
              "    [theme=dark] .colab-df-convert {\n",
              "      background-color: #3B4455;\n",
              "      fill: #D2E3FC;\n",
              "    }\n",
              "\n",
              "    [theme=dark] .colab-df-convert:hover {\n",
              "      background-color: #434B5C;\n",
              "      box-shadow: 0px 1px 3px 1px rgba(0, 0, 0, 0.15);\n",
              "      filter: drop-shadow(0px 1px 2px rgba(0, 0, 0, 0.3));\n",
              "      fill: #FFFFFF;\n",
              "    }\n",
              "  </style>\n",
              "\n",
              "      <script>\n",
              "        const buttonEl =\n",
              "          document.querySelector('#df-52b892ec-4624-4895-a75d-e1871817d801 button.colab-df-convert');\n",
              "        buttonEl.style.display =\n",
              "          google.colab.kernel.accessAllowed ? 'block' : 'none';\n",
              "\n",
              "        async function convertToInteractive(key) {\n",
              "          const element = document.querySelector('#df-52b892ec-4624-4895-a75d-e1871817d801');\n",
              "          const dataTable =\n",
              "            await google.colab.kernel.invokeFunction('convertToInteractive',\n",
              "                                                     [key], {});\n",
              "          if (!dataTable) return;\n",
              "\n",
              "          const docLinkHtml = 'Like what you see? Visit the ' +\n",
              "            '<a target=\"_blank\" href=https://colab.research.google.com/notebooks/data_table.ipynb>data table notebook</a>'\n",
              "            + ' to learn more about interactive tables.';\n",
              "          element.innerHTML = '';\n",
              "          dataTable['output_type'] = 'display_data';\n",
              "          await google.colab.output.renderOutput(dataTable, element);\n",
              "          const docLink = document.createElement('div');\n",
              "          docLink.innerHTML = docLinkHtml;\n",
              "          element.appendChild(docLink);\n",
              "        }\n",
              "      </script>\n",
              "    </div>\n",
              "  </div>\n",
              "  "
            ]
          },
          "metadata": {},
          "execution_count": 117
        }
      ]
    },
    {
      "cell_type": "code",
      "source": [
        "# Plot the block reward/price over time\n",
        "# Note: Because of the different scales of our values we'll scale them to be between 0 and 1.\n",
        "from sklearn.preprocessing import minmax_scale\n",
        "scaled_price_block_df = pd.DataFrame(minmax_scale(bitcoin_prices_block[[\"Price\", \"block_reward\"]]), # we need to scale the data first\n",
        "                                     columns=bitcoin_prices_block.columns,\n",
        "                                     index=bitcoin_prices_block.index)\n",
        "scaled_price_block_df.plot(figsize=(10, 7));"
      ],
      "metadata": {
        "colab": {
          "base_uri": "https://localhost:8080/",
          "height": 442
        },
        "id": "UDdy0xURZa_v",
        "outputId": "076b0cca-a9f3-4536-aee3-c7dcdf6cf6d2"
      },
      "execution_count": 118,
      "outputs": [
        {
          "output_type": "display_data",
          "data": {
            "text/plain": [
              "<Figure size 720x504 with 1 Axes>"
            ],
            "image/png": "[encoded data removed]"
          },
          "metadata": {
            "needs_background": "light"
          }
        }
      ]
    },
    {
      "cell_type": "code",
      "source": [
        "# Setup dataset hyperparameters\n",
        "HORIZON = 1\n",
        "WINDOW_SIZE = 7"
      ],
      "metadata": {
        "id": "fxKPB_QEZdZU"
      },
      "execution_count": 119,
      "outputs": []
    },
    {
      "cell_type": "code",
      "source": [
        "# Make a copy of the Bitcoin historical data with block reward feature\n",
        "bitcoin_prices_windowed = bitcoin_prices_block.copy()\n",
        "\n",
        "# Add windowed columns\n",
        "for i in range(WINDOW_SIZE): # Shift values for each step in WINDOW_SIZE\n",
        "  bitcoin_prices_windowed[f\"Price+{i+1}\"] = bitcoin_prices_windowed[\"Price\"].shift(periods=i+1)\n",
        "bitcoin_prices_windowed.head(10)"
      ],
      "metadata": {
        "colab": {
          "base_uri": "https://localhost:8080/",
          "height": 395
        },
        "id": "9fR9AGt_aCiT",
        "outputId": "75532434-cb98-46a4-988a-45e0de31d924"
      },
      "execution_count": 120,
      "outputs": [
        {
          "output_type": "execute_result",
          "data": {
            "text/plain": [
              "                Price block_reward    Price+1    Price+2    Price+3  \\\n",
              "Date                                                                  \n",
              "2013-10-01  123.65499           25        NaN        NaN        NaN   \n",
              "2013-10-02  125.45500           25  123.65499        NaN        NaN   \n",
              "2013-10-03  108.58483           25  125.45500  123.65499        NaN   \n",
              "2013-10-04  118.67466           25  108.58483  125.45500  123.65499   \n",
              "2013-10-05  121.33866           25  118.67466  108.58483  125.45500   \n",
              "2013-10-06  120.65533           25  121.33866  118.67466  108.58483   \n",
              "2013-10-07  121.79500           25  120.65533  121.33866  118.67466   \n",
              "2013-10-08  123.03300           25  121.79500  120.65533  121.33866   \n",
              "2013-10-09  124.04900           25  123.03300  121.79500  120.65533   \n",
              "2013-10-10  125.96116           25  124.04900  123.03300  121.79500   \n",
              "\n",
              "              Price+4    Price+5    Price+6    Price+7  \n",
              "Date                                                    \n",
              "2013-10-01        NaN        NaN        NaN        NaN  \n",
              "2013-10-02        NaN        NaN        NaN        NaN  \n",
              "2013-10-03        NaN        NaN        NaN        NaN  \n",
              "2013-10-04        NaN        NaN        NaN        NaN  \n",
              "2013-10-05  123.65499        NaN        NaN        NaN  \n",
              "2013-10-06  125.45500  123.65499        NaN        NaN  \n",
              "2013-10-07  108.58483  125.45500  123.65499        NaN  \n",
              "2013-10-08  118.67466  108.58483  125.45500  123.65499  \n",
              "2013-10-09  121.33866  118.67466  108.58483  125.45500  \n",
              "2013-10-10  120.65533  121.33866  118.67466  108.58483  "
            ],
            "text/html": [
              "\n",
              "  <div id=\"df-80f0f1ae-b243-4e59-bbf3-ab24a2acea59\">\n",
              "    <div class=\"colab-df-container\">\n",
              "      <div>\n",
              "<style scoped>\n",
              "    .dataframe tbody tr th:only-of-type {\n",
              "        vertical-align: middle;\n",
              "    }\n",
              "\n",
              "    .dataframe tbody tr th {\n",
              "        vertical-align: top;\n",
              "    }\n",
              "\n",
              "    .dataframe thead th {\n",
              "        text-align: right;\n",
              "    }\n",
              "</style>\n",
              "<table border=\"1\" class=\"dataframe\">\n",
              "  <thead>\n",
              "    <tr style=\"text-align: right;\">\n",
              "      <th></th>\n",
              "      <th>Price</th>\n",
              "      <th>block_reward</th>\n",
              "      <th>Price+1</th>\n",
              "      <th>Price+2</th>\n",
              "      <th>Price+3</th>\n",
              "      <th>Price+4</th>\n",
              "      <th>Price+5</th>\n",
              "      <th>Price+6</th>\n",
              "      <th>Price+7</th>\n",
              "    </tr>\n",
              "    <tr>\n",
              "      <th>Date</th>\n",
              "      <th></th>\n",
              "      <th></th>\n",
              "      <th></th>\n",
              "      <th></th>\n",
              "      <th></th>\n",
              "      <th></th>\n",
              "      <th></th>\n",
              "      <th></th>\n",
              "      <th></th>\n",
              "    </tr>\n",
              "  </thead>\n",
              "  <tbody>\n",
              "    <tr>\n",
              "      <th>2013-10-01</th>\n",
              "      <td>123.65499</td>\n",
              "      <td>25</td>\n",
              "      <td>NaN</td>\n",
              "      <td>NaN</td>\n",
              "      <td>NaN</td>\n",
              "      <td>NaN</td>\n",
              "      <td>NaN</td>\n",
              "      <td>NaN</td>\n",
              "      <td>NaN</td>\n",
              "    </tr>\n",
              "    <tr>\n",
              "      <th>2013-10-02</th>\n",
              "      <td>125.45500</td>\n",
              "      <td>25</td>\n",
              "      <td>123.65499</td>\n",
              "      <td>NaN</td>\n",
              "      <td>NaN</td>\n",
              "      <td>NaN</td>\n",
              "      <td>NaN</td>\n",
              "      <td>NaN</td>\n",
              "      <td>NaN</td>\n",
              "    </tr>\n",
              "    <tr>\n",
              "      <th>2013-10-03</th>\n",
              "      <td>108.58483</td>\n",
              "      <td>25</td>\n",
              "      <td>125.45500</td>\n",
              "      <td>123.65499</td>\n",
              "      <td>NaN</td>\n",
              "      <td>NaN</td>\n",
              "      <td>NaN</td>\n",
              "      <td>NaN</td>\n",
              "      <td>NaN</td>\n",
              "    </tr>\n",
              "    <tr>\n",
              "      <th>2013-10-04</th>\n",
              "      <td>118.67466</td>\n",
              "      <td>25</td>\n",
              "      <td>108.58483</td>\n",
              "      <td>125.45500</td>\n",
              "      <td>123.65499</td>\n",
              "      <td>NaN</td>\n",
              "      <td>NaN</td>\n",
              "      <td>NaN</td>\n",
              "      <td>NaN</td>\n",
              "    </tr>\n",
              "    <tr>\n",
              "      <th>2013-10-05</th>\n",
              "      <td>121.33866</td>\n",
              "      <td>25</td>\n",
              "      <td>118.67466</td>\n",
              "      <td>108.58483</td>\n",
              "      <td>125.45500</td>\n",
              "      <td>123.65499</td>\n",
              "      <td>NaN</td>\n",
              "      <td>NaN</td>\n",
              "      <td>NaN</td>\n",
              "    </tr>\n",
              "    <tr>\n",
              "      <th>2013-10-06</th>\n",
              "      <td>120.65533</td>\n",
              "      <td>25</td>\n",
              "      <td>121.33866</td>\n",
              "      <td>118.67466</td>\n",
              "      <td>108.58483</td>\n",
              "      <td>125.45500</td>\n",
              "      <td>123.65499</td>\n",
              "      <td>NaN</td>\n",
              "      <td>NaN</td>\n",
              "    </tr>\n",
              "    <tr>\n",
              "      <th>2013-10-07</th>\n",
              "      <td>121.79500</td>\n",
              "      <td>25</td>\n",
              "      <td>120.65533</td>\n",
              "      <td>121.33866</td>\n",
              "      <td>118.67466</td>\n",
              "      <td>108.58483</td>\n",
              "      <td>125.45500</td>\n",
              "      <td>123.65499</td>\n",
              "      <td>NaN</td>\n",
              "    </tr>\n",
              "    <tr>\n",
              "      <th>2013-10-08</th>\n",
              "      <td>123.03300</td>\n",
              "      <td>25</td>\n",
              "      <td>121.79500</td>\n",
              "      <td>120.65533</td>\n",
              "      <td>121.33866</td>\n",
              "      <td>118.67466</td>\n",
              "      <td>108.58483</td>\n",
              "      <td>125.45500</td>\n",
              "      <td>123.65499</td>\n",
              "    </tr>\n",
              "    <tr>\n",
              "      <th>2013-10-09</th>\n",
              "      <td>124.04900</td>\n",
              "      <td>25</td>\n",
              "      <td>123.03300</td>\n",
              "      <td>121.79500</td>\n",
              "      <td>120.65533</td>\n",
              "      <td>121.33866</td>\n",
              "      <td>118.67466</td>\n",
              "      <td>108.58483</td>\n",
              "      <td>125.45500</td>\n",
              "    </tr>\n",
              "    <tr>\n",
              "      <th>2013-10-10</th>\n",
              "      <td>125.96116</td>\n",
              "      <td>25</td>\n",
              "      <td>124.04900</td>\n",
              "      <td>123.03300</td>\n",
              "      <td>121.79500</td>\n",
              "      <td>120.65533</td>\n",
              "      <td>121.33866</td>\n",
              "      <td>118.67466</td>\n",
              "      <td>108.58483</td>\n",
              "    </tr>\n",
              "  </tbody>\n",
              "</table>\n",
              "</div>\n",
              "      <button class=\"colab-df-convert\" onclick=\"convertToInteractive('df-80f0f1ae-b243-4e59-bbf3-ab24a2acea59')\"\n",
              "              title=\"Convert this dataframe to an interactive table.\"\n",
              "              style=\"display:none;\">\n",
              "        \n",
              "  <svg xmlns=\"http://www.w3.org/2000/svg\" height=\"24px\"viewBox=\"0 0 24 24\"\n",
              "       width=\"24px\">\n",
              "    <path d=\"M0 0h24v24H0V0z\" fill=\"none\"/>\n",
              "    <path d=\"M18.56 5.44l.94 2.06.94-2.06 2.06-.94-2.06-.94-.94-2.06-.94 2.06-2.06.94zm-11 1L8.5 8.5l.94-2.06 2.06-.94-2.06-.94L8.5 2.5l-.94 2.06-2.06.94zm10 10l.94 2.06.94-2.06 2.06-.94-2.06-.94-.94-2.06-.94 2.06-2.06.94z\"/><path d=\"M17.41 7.96l-1.37-1.37c-.4-.4-.92-.59-1.43-.59-.52 0-1.04.2-1.43.59L10.3 9.45l-7.72 7.72c-.78.78-.78 2.05 0 2.83L4 21.41c.39.39.9.59 1.41.59.51 0 1.02-.2 1.41-.59l7.78-7.78 2.81-2.81c.8-.78.8-2.07 0-2.86zM5.41 20L4 18.59l7.72-7.72 1.47 1.35L5.41 20z\"/>\n",
              "  </svg>\n",
              "      </button>\n",
              "      \n",
              "  <style>\n",
              "    .colab-df-container {\n",
              "      display:flex;\n",
              "      flex-wrap:wrap;\n",
              "      gap: 12px;\n",
              "    }\n",
              "\n",
              "    .colab-df-convert {\n",
              "      background-color: #E8F0FE;\n",
              "      border: none;\n",
              "      border-radius: 50%;\n",
              "      cursor: pointer;\n",
              "      display: none;\n",
              "      fill: #1967D2;\n",
              "      height: 32px;\n",
              "      padding: 0 0 0 0;\n",
              "      width: 32px;\n",
              "    }\n",
              "\n",
              "    .colab-df-convert:hover {\n",
              "      background-color: #E2EBFA;\n",
              "      box-shadow: 0px 1px 2px rgba(60, 64, 67, 0.3), 0px 1px 3px 1px rgba(60, 64, 67, 0.15);\n",
              "      fill: #174EA6;\n",
              "    }\n",
              "\n",
              "    [theme=dark] .colab-df-convert {\n",
              "      background-color: #3B4455;\n",
              "      fill: #D2E3FC;\n",
              "    }\n",
              "\n",
              "    [theme=dark] .colab-df-convert:hover {\n",
              "      background-color: #434B5C;\n",
              "      box-shadow: 0px 1px 3px 1px rgba(0, 0, 0, 0.15);\n",
              "      filter: drop-shadow(0px 1px 2px rgba(0, 0, 0, 0.3));\n",
              "      fill: #FFFFFF;\n",
              "    }\n",
              "  </style>\n",
              "\n",
              "      <script>\n",
              "        const buttonEl =\n",
              "          document.querySelector('#df-80f0f1ae-b243-4e59-bbf3-ab24a2acea59 button.colab-df-convert');\n",
              "        buttonEl.style.display =\n",
              "          google.colab.kernel.accessAllowed ? 'block' : 'none';\n",
              "\n",
              "        async function convertToInteractive(key) {\n",
              "          const element = document.querySelector('#df-80f0f1ae-b243-4e59-bbf3-ab24a2acea59');\n",
              "          const dataTable =\n",
              "            await google.colab.kernel.invokeFunction('convertToInteractive',\n",
              "                                                     [key], {});\n",
              "          if (!dataTable) return;\n",
              "\n",
              "          const docLinkHtml = 'Like what you see? Visit the ' +\n",
              "            '<a target=\"_blank\" href=https://colab.research.google.com/notebooks/data_table.ipynb>data table notebook</a>'\n",
              "            + ' to learn more about interactive tables.';\n",
              "          element.innerHTML = '';\n",
              "          dataTable['output_type'] = 'display_data';\n",
              "          await google.colab.output.renderOutput(dataTable, element);\n",
              "          const docLink = document.createElement('div');\n",
              "          docLink.innerHTML = docLinkHtml;\n",
              "          element.appendChild(docLink);\n",
              "        }\n",
              "      </script>\n",
              "    </div>\n",
              "  </div>\n",
              "  "
            ]
          },
          "metadata": {},
          "execution_count": 120
        }
      ]
    },
    {
      "cell_type": "code",
      "source": [
        "# Let's create X & y, remove the NaN's and convert to float32 to prevent TensorFlow errors \n",
        "X = bitcoin_prices_windowed.dropna().drop(\"Price\", axis=1).astype(np.float32) \n",
        "y = bitcoin_prices_windowed.dropna()[\"Price\"].astype(np.float32)\n",
        "X.head()"
      ],
      "metadata": {
        "colab": {
          "base_uri": "https://localhost:8080/",
          "height": 238
        },
        "id": "SaWo95vSbM3G",
        "outputId": "4a6a42bf-a284-4415-a27e-27273ba4cc0a"
      },
      "execution_count": 121,
      "outputs": [
        {
          "output_type": "execute_result",
          "data": {
            "text/plain": [
              "            block_reward     Price+1     Price+2     Price+3     Price+4  \\\n",
              "Date                                                                       \n",
              "2013-10-08          25.0  121.794998  120.655327  121.338661  118.674660   \n",
              "2013-10-09          25.0  123.032997  121.794998  120.655327  121.338661   \n",
              "2013-10-10          25.0  124.049004  123.032997  121.794998  120.655327   \n",
              "2013-10-11          25.0  125.961159  124.049004  123.032997  121.794998   \n",
              "2013-10-12          25.0  125.279663  125.961159  124.049004  123.032997   \n",
              "\n",
              "               Price+5     Price+6     Price+7  \n",
              "Date                                            \n",
              "2013-10-08  108.584831  125.455002  123.654991  \n",
              "2013-10-09  118.674660  108.584831  125.455002  \n",
              "2013-10-10  121.338661  118.674660  108.584831  \n",
              "2013-10-11  120.655327  121.338661  118.674660  \n",
              "2013-10-12  121.794998  120.655327  121.338661  "
            ],
            "text/html": [
              "\n",
              "  <div id=\"df-bf5e49e3-978b-4233-b123-466a16b6554e\">\n",
              "    <div class=\"colab-df-container\">\n",
              "      <div>\n",
              "<style scoped>\n",
              "    .dataframe tbody tr th:only-of-type {\n",
              "        vertical-align: middle;\n",
              "    }\n",
              "\n",
              "    .dataframe tbody tr th {\n",
              "        vertical-align: top;\n",
              "    }\n",
              "\n",
              "    .dataframe thead th {\n",
              "        text-align: right;\n",
              "    }\n",
              "</style>\n",
              "<table border=\"1\" class=\"dataframe\">\n",
              "  <thead>\n",
              "    <tr style=\"text-align: right;\">\n",
              "      <th></th>\n",
              "      <th>block_reward</th>\n",
              "      <th>Price+1</th>\n",
              "      <th>Price+2</th>\n",
              "      <th>Price+3</th>\n",
              "      <th>Price+4</th>\n",
              "      <th>Price+5</th>\n",
              "      <th>Price+6</th>\n",
              "      <th>Price+7</th>\n",
              "    </tr>\n",
              "    <tr>\n",
              "      <th>Date</th>\n",
              "      <th></th>\n",
              "      <th></th>\n",
              "      <th></th>\n",
              "      <th></th>\n",
              "      <th></th>\n",
              "      <th></th>\n",
              "      <th></th>\n",
              "      <th></th>\n",
              "    </tr>\n",
              "  </thead>\n",
              "  <tbody>\n",
              "    <tr>\n",
              "      <th>2013-10-08</th>\n",
              "      <td>25.0</td>\n",
              "      <td>121.794998</td>\n",
              "      <td>120.655327</td>\n",
              "      <td>121.338661</td>\n",
              "      <td>118.674660</td>\n",
              "      <td>108.584831</td>\n",
              "      <td>125.455002</td>\n",
              "      <td>123.654991</td>\n",
              "    </tr>\n",
              "    <tr>\n",
              "      <th>2013-10-09</th>\n",
              "      <td>25.0</td>\n",
              "      <td>123.032997</td>\n",
              "      <td>121.794998</td>\n",
              "      <td>120.655327</td>\n",
              "      <td>121.338661</td>\n",
              "      <td>118.674660</td>\n",
              "      <td>108.584831</td>\n",
              "      <td>125.455002</td>\n",
              "    </tr>\n",
              "    <tr>\n",
              "      <th>2013-10-10</th>\n",
              "      <td>25.0</td>\n",
              "      <td>124.049004</td>\n",
              "      <td>123.032997</td>\n",
              "      <td>121.794998</td>\n",
              "      <td>120.655327</td>\n",
              "      <td>121.338661</td>\n",
              "      <td>118.674660</td>\n",
              "      <td>108.584831</td>\n",
              "    </tr>\n",
              "    <tr>\n",
              "      <th>2013-10-11</th>\n",
              "      <td>25.0</td>\n",
              "      <td>125.961159</td>\n",
              "      <td>124.049004</td>\n",
              "      <td>123.032997</td>\n",
              "      <td>121.794998</td>\n",
              "      <td>120.655327</td>\n",
              "      <td>121.338661</td>\n",
              "      <td>118.674660</td>\n",
              "    </tr>\n",
              "    <tr>\n",
              "      <th>2013-10-12</th>\n",
              "      <td>25.0</td>\n",
              "      <td>125.279663</td>\n",
              "      <td>125.961159</td>\n",
              "      <td>124.049004</td>\n",
              "      <td>123.032997</td>\n",
              "      <td>121.794998</td>\n",
              "      <td>120.655327</td>\n",
              "      <td>121.338661</td>\n",
              "    </tr>\n",
              "  </tbody>\n",
              "</table>\n",
              "</div>\n",
              "      <button class=\"colab-df-convert\" onclick=\"convertToInteractive('df-bf5e49e3-978b-4233-b123-466a16b6554e')\"\n",
              "              title=\"Convert this dataframe to an interactive table.\"\n",
              "              style=\"display:none;\">\n",
              "        \n",
              "  <svg xmlns=\"http://www.w3.org/2000/svg\" height=\"24px\"viewBox=\"0 0 24 24\"\n",
              "       width=\"24px\">\n",
              "    <path d=\"M0 0h24v24H0V0z\" fill=\"none\"/>\n",
              "    <path d=\"M18.56 5.44l.94 2.06.94-2.06 2.06-.94-2.06-.94-.94-2.06-.94 2.06-2.06.94zm-11 1L8.5 8.5l.94-2.06 2.06-.94-2.06-.94L8.5 2.5l-.94 2.06-2.06.94zm10 10l.94 2.06.94-2.06 2.06-.94-2.06-.94-.94-2.06-.94 2.06-2.06.94z\"/><path d=\"M17.41 7.96l-1.37-1.37c-.4-.4-.92-.59-1.43-.59-.52 0-1.04.2-1.43.59L10.3 9.45l-7.72 7.72c-.78.78-.78 2.05 0 2.83L4 21.41c.39.39.9.59 1.41.59.51 0 1.02-.2 1.41-.59l7.78-7.78 2.81-2.81c.8-.78.8-2.07 0-2.86zM5.41 20L4 18.59l7.72-7.72 1.47 1.35L5.41 20z\"/>\n",
              "  </svg>\n",
              "      </button>\n",
              "      \n",
              "  <style>\n",
              "    .colab-df-container {\n",
              "      display:flex;\n",
              "      flex-wrap:wrap;\n",
              "      gap: 12px;\n",
              "    }\n",
              "\n",
              "    .colab-df-convert {\n",
              "      background-color: #E8F0FE;\n",
              "      border: none;\n",
              "      border-radius: 50%;\n",
              "      cursor: pointer;\n",
              "      display: none;\n",
              "      fill: #1967D2;\n",
              "      height: 32px;\n",
              "      padding: 0 0 0 0;\n",
              "      width: 32px;\n",
              "    }\n",
              "\n",
              "    .colab-df-convert:hover {\n",
              "      background-color: #E2EBFA;\n",
              "      box-shadow: 0px 1px 2px rgba(60, 64, 67, 0.3), 0px 1px 3px 1px rgba(60, 64, 67, 0.15);\n",
              "      fill: #174EA6;\n",
              "    }\n",
              "\n",
              "    [theme=dark] .colab-df-convert {\n",
              "      background-color: #3B4455;\n",
              "      fill: #D2E3FC;\n",
              "    }\n",
              "\n",
              "    [theme=dark] .colab-df-convert:hover {\n",
              "      background-color: #434B5C;\n",
              "      box-shadow: 0px 1px 3px 1px rgba(0, 0, 0, 0.15);\n",
              "      filter: drop-shadow(0px 1px 2px rgba(0, 0, 0, 0.3));\n",
              "      fill: #FFFFFF;\n",
              "    }\n",
              "  </style>\n",
              "\n",
              "      <script>\n",
              "        const buttonEl =\n",
              "          document.querySelector('#df-bf5e49e3-978b-4233-b123-466a16b6554e button.colab-df-convert');\n",
              "        buttonEl.style.display =\n",
              "          google.colab.kernel.accessAllowed ? 'block' : 'none';\n",
              "\n",
              "        async function convertToInteractive(key) {\n",
              "          const element = document.querySelector('#df-bf5e49e3-978b-4233-b123-466a16b6554e');\n",
              "          const dataTable =\n",
              "            await google.colab.kernel.invokeFunction('convertToInteractive',\n",
              "                                                     [key], {});\n",
              "          if (!dataTable) return;\n",
              "\n",
              "          const docLinkHtml = 'Like what you see? Visit the ' +\n",
              "            '<a target=\"_blank\" href=https://colab.research.google.com/notebooks/data_table.ipynb>data table notebook</a>'\n",
              "            + ' to learn more about interactive tables.';\n",
              "          element.innerHTML = '';\n",
              "          dataTable['output_type'] = 'display_data';\n",
              "          await google.colab.output.renderOutput(dataTable, element);\n",
              "          const docLink = document.createElement('div');\n",
              "          docLink.innerHTML = docLinkHtml;\n",
              "          element.appendChild(docLink);\n",
              "        }\n",
              "      </script>\n",
              "    </div>\n",
              "  </div>\n",
              "  "
            ]
          },
          "metadata": {},
          "execution_count": 121
        }
      ]
    },
    {
      "cell_type": "code",
      "source": [
        "# View labels\n",
        "y.head()"
      ],
      "metadata": {
        "colab": {
          "base_uri": "https://localhost:8080/"
        },
        "id": "ov-PAvSvbNQI",
        "outputId": "908ba3cb-9d6b-438f-aaaa-afde980882ae"
      },
      "execution_count": 122,
      "outputs": [
        {
          "output_type": "execute_result",
          "data": {
            "text/plain": [
              "Date\n",
              "2013-10-08    123.032997\n",
              "2013-10-09    124.049004\n",
              "2013-10-10    125.961159\n",
              "2013-10-11    125.279663\n",
              "2013-10-12    125.927498\n",
              "Name: Price, dtype: float32"
            ]
          },
          "metadata": {},
          "execution_count": 122
        }
      ]
    },
    {
      "cell_type": "code",
      "source": [
        "# Make train and test sets\n",
        "split_size = int(len(X) * 0.8)\n",
        "X_train, y_train = X[:split_size], y[:split_size]\n",
        "X_test, y_test = X[split_size:], y[split_size:]\n",
        "len(X_train), len(y_train), len(X_test), len(y_test)"
      ],
      "metadata": {
        "colab": {
          "base_uri": "https://localhost:8080/"
        },
        "id": "0u7AKWGEbOjr",
        "outputId": "728f7431-1fac-4a2c-e9ea-2bb76ca9e493"
      },
      "execution_count": 123,
      "outputs": [
        {
          "output_type": "execute_result",
          "data": {
            "text/plain": [
              "(2224, 2224, 556, 556)"
            ]
          },
          "metadata": {},
          "execution_count": 123
        }
      ]
    },
    {
      "cell_type": "code",
      "source": [
        "#model 7 Dense With Multivariate"
      ],
      "metadata": {
        "id": "1JXjPx5ebVwS"
      },
      "execution_count": 125,
      "outputs": []
    },
    {
      "cell_type": "code",
      "source": [
        "tf.random.set_seed(42)\n",
        "\n",
        "# Make multivariate time series model\n",
        "model_7 = tf.keras.Sequential([\n",
        "  layers.Dense(128, activation=\"relu\"),\n",
        "  # layers.Dense(128, activation=\"relu\"), # adding an extra layer here should lead to beating the naive model\n",
        "  layers.Dense(HORIZON)\n",
        "], name=\"model_7_dense_multivariate\")\n",
        "\n",
        "# Compile\n",
        "model_7.compile(loss=\"mae\",\n",
        "                optimizer=tf.keras.optimizers.Adam())\n",
        "\n",
        "# Fit\n",
        "model_7.fit(X_train, y_train,\n",
        "            epochs=100,\n",
        "            batch_size=128,\n",
        "            verbose=0, # only print 1 line per epoch\n",
        "            validation_data=(X_test, y_test),\n",
        "            callbacks=[create_model_checkpoint(model_name=model_7.name)])"
      ],
      "metadata": {
        "colab": {
          "base_uri": "https://localhost:8080/"
        },
        "id": "28eU6yHxbYOC",
        "outputId": "fbfd97e6-3e49-45c9-8a2b-6850a474cf84"
      },
      "execution_count": 126,
      "outputs": [
        {
          "output_type": "stream",
          "name": "stdout",
          "text": [
            "INFO:tensorflow:Assets written to: model_experiments/model_7_dense_multivariate/assets\n"
          ]
        },
        {
          "output_type": "stream",
          "name": "stderr",
          "text": [
            "INFO:tensorflow:Assets written to: model_experiments/model_7_dense_multivariate/assets\n"
          ]
        },
        {
          "output_type": "stream",
          "name": "stdout",
          "text": [
            "INFO:tensorflow:Assets written to: model_experiments/model_7_dense_multivariate/assets\n"
          ]
        },
        {
          "output_type": "stream",
          "name": "stderr",
          "text": [
            "INFO:tensorflow:Assets written to: model_experiments/model_7_dense_multivariate/assets\n"
          ]
        },
        {
          "output_type": "stream",
          "name": "stdout",
          "text": [
            "INFO:tensorflow:Assets written to: model_experiments/model_7_dense_multivariate/assets\n"
          ]
        },
        {
          "output_type": "stream",
          "name": "stderr",
          "text": [
            "INFO:tensorflow:Assets written to: model_experiments/model_7_dense_multivariate/assets\n"
          ]
        },
        {
          "output_type": "stream",
          "name": "stdout",
          "text": [
            "INFO:tensorflow:Assets written to: model_experiments/model_7_dense_multivariate/assets\n"
          ]
        },
        {
          "output_type": "stream",
          "name": "stderr",
          "text": [
            "INFO:tensorflow:Assets written to: model_experiments/model_7_dense_multivariate/assets\n"
          ]
        },
        {
          "output_type": "stream",
          "name": "stdout",
          "text": [
            "INFO:tensorflow:Assets written to: model_experiments/model_7_dense_multivariate/assets\n"
          ]
        },
        {
          "output_type": "stream",
          "name": "stderr",
          "text": [
            "INFO:tensorflow:Assets written to: model_experiments/model_7_dense_multivariate/assets\n"
          ]
        },
        {
          "output_type": "stream",
          "name": "stdout",
          "text": [
            "INFO:tensorflow:Assets written to: model_experiments/model_7_dense_multivariate/assets\n"
          ]
        },
        {
          "output_type": "stream",
          "name": "stderr",
          "text": [
            "INFO:tensorflow:Assets written to: model_experiments/model_7_dense_multivariate/assets\n"
          ]
        },
        {
          "output_type": "stream",
          "name": "stdout",
          "text": [
            "INFO:tensorflow:Assets written to: model_experiments/model_7_dense_multivariate/assets\n"
          ]
        },
        {
          "output_type": "stream",
          "name": "stderr",
          "text": [
            "INFO:tensorflow:Assets written to: model_experiments/model_7_dense_multivariate/assets\n"
          ]
        },
        {
          "output_type": "stream",
          "name": "stdout",
          "text": [
            "INFO:tensorflow:Assets written to: model_experiments/model_7_dense_multivariate/assets\n"
          ]
        },
        {
          "output_type": "stream",
          "name": "stderr",
          "text": [
            "INFO:tensorflow:Assets written to: model_experiments/model_7_dense_multivariate/assets\n"
          ]
        },
        {
          "output_type": "stream",
          "name": "stdout",
          "text": [
            "INFO:tensorflow:Assets written to: model_experiments/model_7_dense_multivariate/assets\n"
          ]
        },
        {
          "output_type": "stream",
          "name": "stderr",
          "text": [
            "INFO:tensorflow:Assets written to: model_experiments/model_7_dense_multivariate/assets\n"
          ]
        },
        {
          "output_type": "stream",
          "name": "stdout",
          "text": [
            "INFO:tensorflow:Assets written to: model_experiments/model_7_dense_multivariate/assets\n"
          ]
        },
        {
          "output_type": "stream",
          "name": "stderr",
          "text": [
            "INFO:tensorflow:Assets written to: model_experiments/model_7_dense_multivariate/assets\n"
          ]
        },
        {
          "output_type": "stream",
          "name": "stdout",
          "text": [
            "INFO:tensorflow:Assets written to: model_experiments/model_7_dense_multivariate/assets\n"
          ]
        },
        {
          "output_type": "stream",
          "name": "stderr",
          "text": [
            "INFO:tensorflow:Assets written to: model_experiments/model_7_dense_multivariate/assets\n"
          ]
        },
        {
          "output_type": "stream",
          "name": "stdout",
          "text": [
            "INFO:tensorflow:Assets written to: model_experiments/model_7_dense_multivariate/assets\n"
          ]
        },
        {
          "output_type": "stream",
          "name": "stderr",
          "text": [
            "INFO:tensorflow:Assets written to: model_experiments/model_7_dense_multivariate/assets\n"
          ]
        },
        {
          "output_type": "stream",
          "name": "stdout",
          "text": [
            "INFO:tensorflow:Assets written to: model_experiments/model_7_dense_multivariate/assets\n"
          ]
        },
        {
          "output_type": "stream",
          "name": "stderr",
          "text": [
            "INFO:tensorflow:Assets written to: model_experiments/model_7_dense_multivariate/assets\n"
          ]
        },
        {
          "output_type": "stream",
          "name": "stdout",
          "text": [
            "INFO:tensorflow:Assets written to: model_experiments/model_7_dense_multivariate/assets\n"
          ]
        },
        {
          "output_type": "stream",
          "name": "stderr",
          "text": [
            "INFO:tensorflow:Assets written to: model_experiments/model_7_dense_multivariate/assets\n"
          ]
        },
        {
          "output_type": "stream",
          "name": "stdout",
          "text": [
            "INFO:tensorflow:Assets written to: model_experiments/model_7_dense_multivariate/assets\n"
          ]
        },
        {
          "output_type": "stream",
          "name": "stderr",
          "text": [
            "INFO:tensorflow:Assets written to: model_experiments/model_7_dense_multivariate/assets\n"
          ]
        },
        {
          "output_type": "stream",
          "name": "stdout",
          "text": [
            "INFO:tensorflow:Assets written to: model_experiments/model_7_dense_multivariate/assets\n"
          ]
        },
        {
          "output_type": "stream",
          "name": "stderr",
          "text": [
            "INFO:tensorflow:Assets written to: model_experiments/model_7_dense_multivariate/assets\n"
          ]
        },
        {
          "output_type": "stream",
          "name": "stdout",
          "text": [
            "INFO:tensorflow:Assets written to: model_experiments/model_7_dense_multivariate/assets\n"
          ]
        },
        {
          "output_type": "stream",
          "name": "stderr",
          "text": [
            "INFO:tensorflow:Assets written to: model_experiments/model_7_dense_multivariate/assets\n"
          ]
        },
        {
          "output_type": "stream",
          "name": "stdout",
          "text": [
            "INFO:tensorflow:Assets written to: model_experiments/model_7_dense_multivariate/assets\n"
          ]
        },
        {
          "output_type": "stream",
          "name": "stderr",
          "text": [
            "INFO:tensorflow:Assets written to: model_experiments/model_7_dense_multivariate/assets\n"
          ]
        },
        {
          "output_type": "stream",
          "name": "stdout",
          "text": [
            "INFO:tensorflow:Assets written to: model_experiments/model_7_dense_multivariate/assets\n"
          ]
        },
        {
          "output_type": "stream",
          "name": "stderr",
          "text": [
            "INFO:tensorflow:Assets written to: model_experiments/model_7_dense_multivariate/assets\n"
          ]
        },
        {
          "output_type": "stream",
          "name": "stdout",
          "text": [
            "INFO:tensorflow:Assets written to: model_experiments/model_7_dense_multivariate/assets\n"
          ]
        },
        {
          "output_type": "stream",
          "name": "stderr",
          "text": [
            "INFO:tensorflow:Assets written to: model_experiments/model_7_dense_multivariate/assets\n"
          ]
        },
        {
          "output_type": "stream",
          "name": "stdout",
          "text": [
            "INFO:tensorflow:Assets written to: model_experiments/model_7_dense_multivariate/assets\n"
          ]
        },
        {
          "output_type": "stream",
          "name": "stderr",
          "text": [
            "INFO:tensorflow:Assets written to: model_experiments/model_7_dense_multivariate/assets\n"
          ]
        },
        {
          "output_type": "stream",
          "name": "stdout",
          "text": [
            "INFO:tensorflow:Assets written to: model_experiments/model_7_dense_multivariate/assets\n"
          ]
        },
        {
          "output_type": "stream",
          "name": "stderr",
          "text": [
            "INFO:tensorflow:Assets written to: model_experiments/model_7_dense_multivariate/assets\n"
          ]
        },
        {
          "output_type": "stream",
          "name": "stdout",
          "text": [
            "INFO:tensorflow:Assets written to: model_experiments/model_7_dense_multivariate/assets\n"
          ]
        },
        {
          "output_type": "stream",
          "name": "stderr",
          "text": [
            "INFO:tensorflow:Assets written to: model_experiments/model_7_dense_multivariate/assets\n"
          ]
        },
        {
          "output_type": "stream",
          "name": "stdout",
          "text": [
            "INFO:tensorflow:Assets written to: model_experiments/model_7_dense_multivariate/assets\n"
          ]
        },
        {
          "output_type": "stream",
          "name": "stderr",
          "text": [
            "INFO:tensorflow:Assets written to: model_experiments/model_7_dense_multivariate/assets\n"
          ]
        },
        {
          "output_type": "stream",
          "name": "stdout",
          "text": [
            "INFO:tensorflow:Assets written to: model_experiments/model_7_dense_multivariate/assets\n"
          ]
        },
        {
          "output_type": "stream",
          "name": "stderr",
          "text": [
            "INFO:tensorflow:Assets written to: model_experiments/model_7_dense_multivariate/assets\n"
          ]
        },
        {
          "output_type": "stream",
          "name": "stdout",
          "text": [
            "INFO:tensorflow:Assets written to: model_experiments/model_7_dense_multivariate/assets\n"
          ]
        },
        {
          "output_type": "stream",
          "name": "stderr",
          "text": [
            "INFO:tensorflow:Assets written to: model_experiments/model_7_dense_multivariate/assets\n"
          ]
        },
        {
          "output_type": "stream",
          "name": "stdout",
          "text": [
            "INFO:tensorflow:Assets written to: model_experiments/model_7_dense_multivariate/assets\n"
          ]
        },
        {
          "output_type": "stream",
          "name": "stderr",
          "text": [
            "INFO:tensorflow:Assets written to: model_experiments/model_7_dense_multivariate/assets\n"
          ]
        },
        {
          "output_type": "stream",
          "name": "stdout",
          "text": [
            "INFO:tensorflow:Assets written to: model_experiments/model_7_dense_multivariate/assets\n"
          ]
        },
        {
          "output_type": "stream",
          "name": "stderr",
          "text": [
            "INFO:tensorflow:Assets written to: model_experiments/model_7_dense_multivariate/assets\n"
          ]
        },
        {
          "output_type": "stream",
          "name": "stdout",
          "text": [
            "INFO:tensorflow:Assets written to: model_experiments/model_7_dense_multivariate/assets\n"
          ]
        },
        {
          "output_type": "stream",
          "name": "stderr",
          "text": [
            "INFO:tensorflow:Assets written to: model_experiments/model_7_dense_multivariate/assets\n"
          ]
        },
        {
          "output_type": "stream",
          "name": "stdout",
          "text": [
            "INFO:tensorflow:Assets written to: model_experiments/model_7_dense_multivariate/assets\n"
          ]
        },
        {
          "output_type": "stream",
          "name": "stderr",
          "text": [
            "INFO:tensorflow:Assets written to: model_experiments/model_7_dense_multivariate/assets\n"
          ]
        },
        {
          "output_type": "stream",
          "name": "stdout",
          "text": [
            "INFO:tensorflow:Assets written to: model_experiments/model_7_dense_multivariate/assets\n"
          ]
        },
        {
          "output_type": "stream",
          "name": "stderr",
          "text": [
            "INFO:tensorflow:Assets written to: model_experiments/model_7_dense_multivariate/assets\n"
          ]
        },
        {
          "output_type": "stream",
          "name": "stdout",
          "text": [
            "INFO:tensorflow:Assets written to: model_experiments/model_7_dense_multivariate/assets\n"
          ]
        },
        {
          "output_type": "stream",
          "name": "stderr",
          "text": [
            "INFO:tensorflow:Assets written to: model_experiments/model_7_dense_multivariate/assets\n"
          ]
        },
        {
          "output_type": "stream",
          "name": "stdout",
          "text": [
            "INFO:tensorflow:Assets written to: model_experiments/model_7_dense_multivariate/assets\n"
          ]
        },
        {
          "output_type": "stream",
          "name": "stderr",
          "text": [
            "INFO:tensorflow:Assets written to: model_experiments/model_7_dense_multivariate/assets\n"
          ]
        },
        {
          "output_type": "stream",
          "name": "stdout",
          "text": [
            "INFO:tensorflow:Assets written to: model_experiments/model_7_dense_multivariate/assets\n"
          ]
        },
        {
          "output_type": "stream",
          "name": "stderr",
          "text": [
            "INFO:tensorflow:Assets written to: model_experiments/model_7_dense_multivariate/assets\n"
          ]
        },
        {
          "output_type": "stream",
          "name": "stdout",
          "text": [
            "INFO:tensorflow:Assets written to: model_experiments/model_7_dense_multivariate/assets\n"
          ]
        },
        {
          "output_type": "stream",
          "name": "stderr",
          "text": [
            "INFO:tensorflow:Assets written to: model_experiments/model_7_dense_multivariate/assets\n"
          ]
        },
        {
          "output_type": "stream",
          "name": "stdout",
          "text": [
            "INFO:tensorflow:Assets written to: model_experiments/model_7_dense_multivariate/assets\n"
          ]
        },
        {
          "output_type": "stream",
          "name": "stderr",
          "text": [
            "INFO:tensorflow:Assets written to: model_experiments/model_7_dense_multivariate/assets\n"
          ]
        },
        {
          "output_type": "stream",
          "name": "stdout",
          "text": [
            "INFO:tensorflow:Assets written to: model_experiments/model_7_dense_multivariate/assets\n"
          ]
        },
        {
          "output_type": "stream",
          "name": "stderr",
          "text": [
            "INFO:tensorflow:Assets written to: model_experiments/model_7_dense_multivariate/assets\n"
          ]
        },
        {
          "output_type": "stream",
          "name": "stdout",
          "text": [
            "INFO:tensorflow:Assets written to: model_experiments/model_7_dense_multivariate/assets\n"
          ]
        },
        {
          "output_type": "stream",
          "name": "stderr",
          "text": [
            "INFO:tensorflow:Assets written to: model_experiments/model_7_dense_multivariate/assets\n"
          ]
        },
        {
          "output_type": "execute_result",
          "data": {
            "text/plain": [
              "<keras.callbacks.History at 0x7fc6cc04ff50>"
            ]
          },
          "metadata": {},
          "execution_count": 126
        }
      ]
    },
    {
      "cell_type": "code",
      "source": [
        "# Make sure best model is loaded and evaluate\n",
        "model_7 = tf.keras.models.load_model(\"model_experiments/model_7_dense_multivariate\")\n",
        "model_7.evaluate(X_test, y_test)"
      ],
      "metadata": {
        "colab": {
          "base_uri": "https://localhost:8080/"
        },
        "id": "PL7te_SHbgZR",
        "outputId": "e7e1b8c1-cfae-4a61-f246-a5f4782f595f"
      },
      "execution_count": 127,
      "outputs": [
        {
          "output_type": "stream",
          "name": "stdout",
          "text": [
            "18/18 [==============================] - 0s 2ms/step - loss: 568.3355\n"
          ]
        },
        {
          "output_type": "execute_result",
          "data": {
            "text/plain": [
              "568.3355102539062"
            ]
          },
          "metadata": {},
          "execution_count": 127
        }
      ]
    },
    {
      "cell_type": "code",
      "source": [
        "# Make predictions on multivariate data\n",
        "model_7_preds = tf.squeeze(model_7.predict(X_test))\n",
        "model_7_preds[:10]"
      ],
      "metadata": {
        "colab": {
          "base_uri": "https://localhost:8080/"
        },
        "id": "TTcFn1DmbrXJ",
        "outputId": "e66a8a48-6a1c-4229-9f67-d2faa36198c2"
      },
      "execution_count": 128,
      "outputs": [
        {
          "output_type": "execute_result",
          "data": {
            "text/plain": [
              "<tf.Tensor: shape=(10,), dtype=float32, numpy=\n",
              "array([8845.381 , 8769.115 , 9044.852 , 8745.515 , 8727.0625, 8773.182 ,\n",
              "       8669.289 , 8502.578 , 8469.248 , 8527.997 ], dtype=float32)>"
            ]
          },
          "metadata": {},
          "execution_count": 128
        }
      ]
    },
    {
      "cell_type": "code",
      "source": [
        "# Evaluate preds\n",
        "model_7_results = evaluate_preds(y_true=y_test,\n",
        "                                 y_pred=model_7_preds)\n",
        "model_7_results"
      ],
      "metadata": {
        "colab": {
          "base_uri": "https://localhost:8080/"
        },
        "id": "tVGUyh7rbun5",
        "outputId": "58b13b03-8f58-4d39-c595-5fb9b9b8073e"
      },
      "execution_count": 129,
      "outputs": [
        {
          "output_type": "execute_result",
          "data": {
            "text/plain": [
              "{'mae': 568.33545,\n",
              " 'mape': 2.5493133,\n",
              " 'mase': 0.99840796,\n",
              " 'mse': 1164860.0,\n",
              " 'rmse': 1079.2867}"
            ]
          },
          "metadata": {},
          "execution_count": 129
        }
      ]
    },
    {
      "cell_type": "code",
      "source": [
        "model_1_results"
      ],
      "metadata": {
        "colab": {
          "base_uri": "https://localhost:8080/"
        },
        "id": "oKYga2D_bx5I",
        "outputId": "7ba01760-b7cf-49b5-cba2-efc0e8ec79c6"
      },
      "execution_count": 130,
      "outputs": [
        {
          "output_type": "execute_result",
          "data": {
            "text/plain": [
              "{'mae': 568.5498,\n",
              " 'mape': 2.549229,\n",
              " 'mase': 0.99878454,\n",
              " 'mse': 1172587.6,\n",
              " 'rmse': 1082.8608}"
            ]
          },
          "metadata": {},
          "execution_count": 130
        }
      ]
    },
    {
      "cell_type": "code",
      "source": [
        "naive_results"
      ],
      "metadata": {
        "colab": {
          "base_uri": "https://localhost:8080/"
        },
        "id": "axVDn_rRb1CJ",
        "outputId": "b8e0638e-30d1-4636-f8a7-9bab8cdd832d"
      },
      "execution_count": 132,
      "outputs": [
        {
          "output_type": "execute_result",
          "data": {
            "text/plain": [
              "{'mae': 567.9802,\n",
              " 'mape': 2.5165248,\n",
              " 'mase': 0.99957,\n",
              " 'mse': 1147547.0,\n",
              " 'rmse': 1071.2362}"
            ]
          },
          "metadata": {},
          "execution_count": 132
        }
      ]
    },
    {
      "cell_type": "code",
      "source": [
        ""
      ],
      "metadata": {
        "id": "av7jUHWBb2vg"
      },
      "execution_count": null,
      "outputs": []
    },
    {
      "cell_type": "markdown",
      "source": [
        "SOTA NBEATS"
      ],
      "metadata": {
        "id": "4_oSgldYcOxf"
      }
    },
    {
      "cell_type": "code",
      "source": [
        "# Create NBeatsBlock custom layer \n",
        "class NBeatsBlock(tf.keras.layers.Layer):\n",
        "  def __init__(self, # the constructor takes all the hyperparameters for the layer\n",
        "               input_size: int,\n",
        "               theta_size: int,\n",
        "               horizon: int,\n",
        "               n_neurons: int,\n",
        "               n_layers: int,\n",
        "               **kwargs): # the **kwargs argument takes care of all of the arguments for the parent class (input_shape, trainable, name)\n",
        "    super().__init__(**kwargs)\n",
        "    self.input_size = input_size\n",
        "    self.theta_size = theta_size\n",
        "    self.horizon = horizon\n",
        "    self.n_neurons = n_neurons\n",
        "    self.n_layers = n_layers\n",
        "\n",
        "    # Block contains stack of 4 fully connected layers each has ReLU activation\n",
        "    self.hidden = [tf.keras.layers.Dense(n_neurons, activation=\"relu\") for _ in range(n_layers)]\n",
        "    # Output of block is a theta layer with linear activation\n",
        "    self.theta_layer = tf.keras.layers.Dense(theta_size, activation=\"linear\", name=\"theta\")\n",
        "\n",
        "  def call(self, inputs): # the call method is what runs when the layer is called \n",
        "    x = inputs \n",
        "    for layer in self.hidden: # pass inputs through each hidden layer \n",
        "      x = layer(x)\n",
        "    theta = self.theta_layer(x) \n",
        "    # Output the backcast and forecast from theta\n",
        "    backcast, forecast = theta[:, :self.input_size], theta[:, -self.horizon:]\n",
        "    return backcast, forecast"
      ],
      "metadata": {
        "id": "DmYHRiFncP_5"
      },
      "execution_count": 133,
      "outputs": []
    },
    {
      "cell_type": "code",
      "source": [
        "# Set up dummy NBeatsBlock layer to represent inputs and outputs\n",
        "dummy_nbeats_block_layer = NBeatsBlock(input_size=WINDOW_SIZE, \n",
        "                                       theta_size=WINDOW_SIZE+HORIZON, # backcast + forecast \n",
        "                                       horizon=HORIZON,\n",
        "                                       n_neurons=128,\n",
        "                                       n_layers=4)"
      ],
      "metadata": {
        "id": "nDm8MuaLcSSx"
      },
      "execution_count": 134,
      "outputs": []
    },
    {
      "cell_type": "code",
      "source": [
        "# Create dummy inputs (have to be same size as input_size)\n",
        "dummy_inputs = tf.expand_dims(tf.range(WINDOW_SIZE) + 1, axis=0) # input shape to the model has to reflect Dense layer input requirements (ndim=2)\n",
        "dummy_inputs"
      ],
      "metadata": {
        "colab": {
          "base_uri": "https://localhost:8080/"
        },
        "id": "KoUdxpHbcUCp",
        "outputId": "c4d5afc2-4413-4ad3-a224-ef05a90353d7"
      },
      "execution_count": 135,
      "outputs": [
        {
          "output_type": "execute_result",
          "data": {
            "text/plain": [
              "<tf.Tensor: shape=(1, 7), dtype=int32, numpy=array([[1, 2, 3, 4, 5, 6, 7]], dtype=int32)>"
            ]
          },
          "metadata": {},
          "execution_count": 135
        }
      ]
    },
    {
      "cell_type": "code",
      "source": [
        "# Pass dummy inputs to dummy NBeatsBlock layer\n",
        "backcast, forecast = dummy_nbeats_block_layer(dummy_inputs)\n",
        "# These are the activation outputs of the theta layer (they'll be random due to no training of the model)\n",
        "print(f\"Backcast: {tf.squeeze(backcast.numpy())}\")\n",
        "print(f\"Forecast: {tf.squeeze(forecast.numpy())}\")"
      ],
      "metadata": {
        "colab": {
          "base_uri": "https://localhost:8080/"
        },
        "id": "6XJlUoAMcVmJ",
        "outputId": "7a83af66-61d0-4a65-ba88-23ca15e6220c"
      },
      "execution_count": 136,
      "outputs": [
        {
          "output_type": "stream",
          "name": "stdout",
          "text": [
            "Backcast: [ 0.19014983  0.8379835  -0.32870027  0.25159904 -0.47540277 -0.7783665\n",
            " -0.5299448 ]\n",
            "Forecast: -0.7554212808609009\n"
          ]
        }
      ]
    },
    {
      "cell_type": "code",
      "source": [
        "HORIZON = 1 # how far to predict forward\n",
        "WINDOW_SIZE = 7 # how far to lookback"
      ],
      "metadata": {
        "id": "g1q2zGrpcW1Z"
      },
      "execution_count": 137,
      "outputs": []
    },
    {
      "cell_type": "code",
      "source": [
        "# Create NBEATS data inputs (NBEATS works with univariate time series)\n",
        "bitcoin_prices.head()"
      ],
      "metadata": {
        "colab": {
          "base_uri": "https://localhost:8080/",
          "height": 238
        },
        "id": "7VJ5sUYpcZER",
        "outputId": "e2ac5e61-6950-47d5-abe1-8cee18d393cd"
      },
      "execution_count": 138,
      "outputs": [
        {
          "output_type": "execute_result",
          "data": {
            "text/plain": [
              "                Price\n",
              "Date                 \n",
              "2013-10-01  123.65499\n",
              "2013-10-02  125.45500\n",
              "2013-10-03  108.58483\n",
              "2013-10-04  118.67466\n",
              "2013-10-05  121.33866"
            ],
            "text/html": [
              "\n",
              "  <div id=\"df-7c52d449-ffc8-453a-923b-5f27e43f2151\">\n",
              "    <div class=\"colab-df-container\">\n",
              "      <div>\n",
              "<style scoped>\n",
              "    .dataframe tbody tr th:only-of-type {\n",
              "        vertical-align: middle;\n",
              "    }\n",
              "\n",
              "    .dataframe tbody tr th {\n",
              "        vertical-align: top;\n",
              "    }\n",
              "\n",
              "    .dataframe thead th {\n",
              "        text-align: right;\n",
              "    }\n",
              "</style>\n",
              "<table border=\"1\" class=\"dataframe\">\n",
              "  <thead>\n",
              "    <tr style=\"text-align: right;\">\n",
              "      <th></th>\n",
              "      <th>Price</th>\n",
              "    </tr>\n",
              "    <tr>\n",
              "      <th>Date</th>\n",
              "      <th></th>\n",
              "    </tr>\n",
              "  </thead>\n",
              "  <tbody>\n",
              "    <tr>\n",
              "      <th>2013-10-01</th>\n",
              "      <td>123.65499</td>\n",
              "    </tr>\n",
              "    <tr>\n",
              "      <th>2013-10-02</th>\n",
              "      <td>125.45500</td>\n",
              "    </tr>\n",
              "    <tr>\n",
              "      <th>2013-10-03</th>\n",
              "      <td>108.58483</td>\n",
              "    </tr>\n",
              "    <tr>\n",
              "      <th>2013-10-04</th>\n",
              "      <td>118.67466</td>\n",
              "    </tr>\n",
              "    <tr>\n",
              "      <th>2013-10-05</th>\n",
              "      <td>121.33866</td>\n",
              "    </tr>\n",
              "  </tbody>\n",
              "</table>\n",
              "</div>\n",
              "      <button class=\"colab-df-convert\" onclick=\"convertToInteractive('df-7c52d449-ffc8-453a-923b-5f27e43f2151')\"\n",
              "              title=\"Convert this dataframe to an interactive table.\"\n",
              "              style=\"display:none;\">\n",
              "        \n",
              "  <svg xmlns=\"http://www.w3.org/2000/svg\" height=\"24px\"viewBox=\"0 0 24 24\"\n",
              "       width=\"24px\">\n",
              "    <path d=\"M0 0h24v24H0V0z\" fill=\"none\"/>\n",
              "    <path d=\"M18.56 5.44l.94 2.06.94-2.06 2.06-.94-2.06-.94-.94-2.06-.94 2.06-2.06.94zm-11 1L8.5 8.5l.94-2.06 2.06-.94-2.06-.94L8.5 2.5l-.94 2.06-2.06.94zm10 10l.94 2.06.94-2.06 2.06-.94-2.06-.94-.94-2.06-.94 2.06-2.06.94z\"/><path d=\"M17.41 7.96l-1.37-1.37c-.4-.4-.92-.59-1.43-.59-.52 0-1.04.2-1.43.59L10.3 9.45l-7.72 7.72c-.78.78-.78 2.05 0 2.83L4 21.41c.39.39.9.59 1.41.59.51 0 1.02-.2 1.41-.59l7.78-7.78 2.81-2.81c.8-.78.8-2.07 0-2.86zM5.41 20L4 18.59l7.72-7.72 1.47 1.35L5.41 20z\"/>\n",
              "  </svg>\n",
              "      </button>\n",
              "      \n",
              "  <style>\n",
              "    .colab-df-container {\n",
              "      display:flex;\n",
              "      flex-wrap:wrap;\n",
              "      gap: 12px;\n",
              "    }\n",
              "\n",
              "    .colab-df-convert {\n",
              "      background-color: #E8F0FE;\n",
              "      border: none;\n",
              "      border-radius: 50%;\n",
              "      cursor: pointer;\n",
              "      display: none;\n",
              "      fill: #1967D2;\n",
              "      height: 32px;\n",
              "      padding: 0 0 0 0;\n",
              "      width: 32px;\n",
              "    }\n",
              "\n",
              "    .colab-df-convert:hover {\n",
              "      background-color: #E2EBFA;\n",
              "      box-shadow: 0px 1px 2px rgba(60, 64, 67, 0.3), 0px 1px 3px 1px rgba(60, 64, 67, 0.15);\n",
              "      fill: #174EA6;\n",
              "    }\n",
              "\n",
              "    [theme=dark] .colab-df-convert {\n",
              "      background-color: #3B4455;\n",
              "      fill: #D2E3FC;\n",
              "    }\n",
              "\n",
              "    [theme=dark] .colab-df-convert:hover {\n",
              "      background-color: #434B5C;\n",
              "      box-shadow: 0px 1px 3px 1px rgba(0, 0, 0, 0.15);\n",
              "      filter: drop-shadow(0px 1px 2px rgba(0, 0, 0, 0.3));\n",
              "      fill: #FFFFFF;\n",
              "    }\n",
              "  </style>\n",
              "\n",
              "      <script>\n",
              "        const buttonEl =\n",
              "          document.querySelector('#df-7c52d449-ffc8-453a-923b-5f27e43f2151 button.colab-df-convert');\n",
              "        buttonEl.style.display =\n",
              "          google.colab.kernel.accessAllowed ? 'block' : 'none';\n",
              "\n",
              "        async function convertToInteractive(key) {\n",
              "          const element = document.querySelector('#df-7c52d449-ffc8-453a-923b-5f27e43f2151');\n",
              "          const dataTable =\n",
              "            await google.colab.kernel.invokeFunction('convertToInteractive',\n",
              "                                                     [key], {});\n",
              "          if (!dataTable) return;\n",
              "\n",
              "          const docLinkHtml = 'Like what you see? Visit the ' +\n",
              "            '<a target=\"_blank\" href=https://colab.research.google.com/notebooks/data_table.ipynb>data table notebook</a>'\n",
              "            + ' to learn more about interactive tables.';\n",
              "          element.innerHTML = '';\n",
              "          dataTable['output_type'] = 'display_data';\n",
              "          await google.colab.output.renderOutput(dataTable, element);\n",
              "          const docLink = document.createElement('div');\n",
              "          docLink.innerHTML = docLinkHtml;\n",
              "          element.appendChild(docLink);\n",
              "        }\n",
              "      </script>\n",
              "    </div>\n",
              "  </div>\n",
              "  "
            ]
          },
          "metadata": {},
          "execution_count": 138
        }
      ]
    },
    {
      "cell_type": "code",
      "source": [
        "# Add windowed columns\n",
        "bitcoin_prices_nbeats = bitcoin_prices.copy()\n",
        "for i in range(WINDOW_SIZE):\n",
        "  bitcoin_prices_nbeats[f\"Price+{i+1}\"] = bitcoin_prices_nbeats[\"Price\"].shift(periods=i+1)\n",
        "bitcoin_prices_nbeats.dropna().head()"
      ],
      "metadata": {
        "colab": {
          "base_uri": "https://localhost:8080/",
          "height": 238
        },
        "id": "9B2vtUFBcajR",
        "outputId": "35975cb9-2d5b-4e91-eaeb-72b3a03abd48"
      },
      "execution_count": 139,
      "outputs": [
        {
          "output_type": "execute_result",
          "data": {
            "text/plain": [
              "                Price    Price+1    Price+2    Price+3    Price+4    Price+5  \\\n",
              "Date                                                                           \n",
              "2013-10-08  123.03300  121.79500  120.65533  121.33866  118.67466  108.58483   \n",
              "2013-10-09  124.04900  123.03300  121.79500  120.65533  121.33866  118.67466   \n",
              "2013-10-10  125.96116  124.04900  123.03300  121.79500  120.65533  121.33866   \n",
              "2013-10-11  125.27966  125.96116  124.04900  123.03300  121.79500  120.65533   \n",
              "2013-10-12  125.92750  125.27966  125.96116  124.04900  123.03300  121.79500   \n",
              "\n",
              "              Price+6    Price+7  \n",
              "Date                              \n",
              "2013-10-08  125.45500  123.65499  \n",
              "2013-10-09  108.58483  125.45500  \n",
              "2013-10-10  118.67466  108.58483  \n",
              "2013-10-11  121.33866  118.67466  \n",
              "2013-10-12  120.65533  121.33866  "
            ],
            "text/html": [
              "\n",
              "  <div id=\"df-b82533fe-e48a-4c25-9a0e-e572386625b2\">\n",
              "    <div class=\"colab-df-container\">\n",
              "      <div>\n",
              "<style scoped>\n",
              "    .dataframe tbody tr th:only-of-type {\n",
              "        vertical-align: middle;\n",
              "    }\n",
              "\n",
              "    .dataframe tbody tr th {\n",
              "        vertical-align: top;\n",
              "    }\n",
              "\n",
              "    .dataframe thead th {\n",
              "        text-align: right;\n",
              "    }\n",
              "</style>\n",
              "<table border=\"1\" class=\"dataframe\">\n",
              "  <thead>\n",
              "    <tr style=\"text-align: right;\">\n",
              "      <th></th>\n",
              "      <th>Price</th>\n",
              "      <th>Price+1</th>\n",
              "      <th>Price+2</th>\n",
              "      <th>Price+3</th>\n",
              "      <th>Price+4</th>\n",
              "      <th>Price+5</th>\n",
              "      <th>Price+6</th>\n",
              "      <th>Price+7</th>\n",
              "    </tr>\n",
              "    <tr>\n",
              "      <th>Date</th>\n",
              "      <th></th>\n",
              "      <th></th>\n",
              "      <th></th>\n",
              "      <th></th>\n",
              "      <th></th>\n",
              "      <th></th>\n",
              "      <th></th>\n",
              "      <th></th>\n",
              "    </tr>\n",
              "  </thead>\n",
              "  <tbody>\n",
              "    <tr>\n",
              "      <th>2013-10-08</th>\n",
              "      <td>123.03300</td>\n",
              "      <td>121.79500</td>\n",
              "      <td>120.65533</td>\n",
              "      <td>121.33866</td>\n",
              "      <td>118.67466</td>\n",
              "      <td>108.58483</td>\n",
              "      <td>125.45500</td>\n",
              "      <td>123.65499</td>\n",
              "    </tr>\n",
              "    <tr>\n",
              "      <th>2013-10-09</th>\n",
              "      <td>124.04900</td>\n",
              "      <td>123.03300</td>\n",
              "      <td>121.79500</td>\n",
              "      <td>120.65533</td>\n",
              "      <td>121.33866</td>\n",
              "      <td>118.67466</td>\n",
              "      <td>108.58483</td>\n",
              "      <td>125.45500</td>\n",
              "    </tr>\n",
              "    <tr>\n",
              "      <th>2013-10-10</th>\n",
              "      <td>125.96116</td>\n",
              "      <td>124.04900</td>\n",
              "      <td>123.03300</td>\n",
              "      <td>121.79500</td>\n",
              "      <td>120.65533</td>\n",
              "      <td>121.33866</td>\n",
              "      <td>118.67466</td>\n",
              "      <td>108.58483</td>\n",
              "    </tr>\n",
              "    <tr>\n",
              "      <th>2013-10-11</th>\n",
              "      <td>125.27966</td>\n",
              "      <td>125.96116</td>\n",
              "      <td>124.04900</td>\n",
              "      <td>123.03300</td>\n",
              "      <td>121.79500</td>\n",
              "      <td>120.65533</td>\n",
              "      <td>121.33866</td>\n",
              "      <td>118.67466</td>\n",
              "    </tr>\n",
              "    <tr>\n",
              "      <th>2013-10-12</th>\n",
              "      <td>125.92750</td>\n",
              "      <td>125.27966</td>\n",
              "      <td>125.96116</td>\n",
              "      <td>124.04900</td>\n",
              "      <td>123.03300</td>\n",
              "      <td>121.79500</td>\n",
              "      <td>120.65533</td>\n",
              "      <td>121.33866</td>\n",
              "    </tr>\n",
              "  </tbody>\n",
              "</table>\n",
              "</div>\n",
              "      <button class=\"colab-df-convert\" onclick=\"convertToInteractive('df-b82533fe-e48a-4c25-9a0e-e572386625b2')\"\n",
              "              title=\"Convert this dataframe to an interactive table.\"\n",
              "              style=\"display:none;\">\n",
              "        \n",
              "  <svg xmlns=\"http://www.w3.org/2000/svg\" height=\"24px\"viewBox=\"0 0 24 24\"\n",
              "       width=\"24px\">\n",
              "    <path d=\"M0 0h24v24H0V0z\" fill=\"none\"/>\n",
              "    <path d=\"M18.56 5.44l.94 2.06.94-2.06 2.06-.94-2.06-.94-.94-2.06-.94 2.06-2.06.94zm-11 1L8.5 8.5l.94-2.06 2.06-.94-2.06-.94L8.5 2.5l-.94 2.06-2.06.94zm10 10l.94 2.06.94-2.06 2.06-.94-2.06-.94-.94-2.06-.94 2.06-2.06.94z\"/><path d=\"M17.41 7.96l-1.37-1.37c-.4-.4-.92-.59-1.43-.59-.52 0-1.04.2-1.43.59L10.3 9.45l-7.72 7.72c-.78.78-.78 2.05 0 2.83L4 21.41c.39.39.9.59 1.41.59.51 0 1.02-.2 1.41-.59l7.78-7.78 2.81-2.81c.8-.78.8-2.07 0-2.86zM5.41 20L4 18.59l7.72-7.72 1.47 1.35L5.41 20z\"/>\n",
              "  </svg>\n",
              "      </button>\n",
              "      \n",
              "  <style>\n",
              "    .colab-df-container {\n",
              "      display:flex;\n",
              "      flex-wrap:wrap;\n",
              "      gap: 12px;\n",
              "    }\n",
              "\n",
              "    .colab-df-convert {\n",
              "      background-color: #E8F0FE;\n",
              "      border: none;\n",
              "      border-radius: 50%;\n",
              "      cursor: pointer;\n",
              "      display: none;\n",
              "      fill: #1967D2;\n",
              "      height: 32px;\n",
              "      padding: 0 0 0 0;\n",
              "      width: 32px;\n",
              "    }\n",
              "\n",
              "    .colab-df-convert:hover {\n",
              "      background-color: #E2EBFA;\n",
              "      box-shadow: 0px 1px 2px rgba(60, 64, 67, 0.3), 0px 1px 3px 1px rgba(60, 64, 67, 0.15);\n",
              "      fill: #174EA6;\n",
              "    }\n",
              "\n",
              "    [theme=dark] .colab-df-convert {\n",
              "      background-color: #3B4455;\n",
              "      fill: #D2E3FC;\n",
              "    }\n",
              "\n",
              "    [theme=dark] .colab-df-convert:hover {\n",
              "      background-color: #434B5C;\n",
              "      box-shadow: 0px 1px 3px 1px rgba(0, 0, 0, 0.15);\n",
              "      filter: drop-shadow(0px 1px 2px rgba(0, 0, 0, 0.3));\n",
              "      fill: #FFFFFF;\n",
              "    }\n",
              "  </style>\n",
              "\n",
              "      <script>\n",
              "        const buttonEl =\n",
              "          document.querySelector('#df-b82533fe-e48a-4c25-9a0e-e572386625b2 button.colab-df-convert');\n",
              "        buttonEl.style.display =\n",
              "          google.colab.kernel.accessAllowed ? 'block' : 'none';\n",
              "\n",
              "        async function convertToInteractive(key) {\n",
              "          const element = document.querySelector('#df-b82533fe-e48a-4c25-9a0e-e572386625b2');\n",
              "          const dataTable =\n",
              "            await google.colab.kernel.invokeFunction('convertToInteractive',\n",
              "                                                     [key], {});\n",
              "          if (!dataTable) return;\n",
              "\n",
              "          const docLinkHtml = 'Like what you see? Visit the ' +\n",
              "            '<a target=\"_blank\" href=https://colab.research.google.com/notebooks/data_table.ipynb>data table notebook</a>'\n",
              "            + ' to learn more about interactive tables.';\n",
              "          element.innerHTML = '';\n",
              "          dataTable['output_type'] = 'display_data';\n",
              "          await google.colab.output.renderOutput(dataTable, element);\n",
              "          const docLink = document.createElement('div');\n",
              "          docLink.innerHTML = docLinkHtml;\n",
              "          element.appendChild(docLink);\n",
              "        }\n",
              "      </script>\n",
              "    </div>\n",
              "  </div>\n",
              "  "
            ]
          },
          "metadata": {},
          "execution_count": 139
        }
      ]
    },
    {
      "cell_type": "code",
      "source": [
        "# Make features and labels\n",
        "X = bitcoin_prices_nbeats.dropna().drop(\"Price\", axis=1)\n",
        "y = bitcoin_prices_nbeats.dropna()[\"Price\"]\n",
        "\n",
        "# Make train and test sets\n",
        "split_size = int(len(X) * 0.8)\n",
        "X_train, y_train = X[:split_size], y[:split_size]\n",
        "X_test, y_test = X[split_size:], y[split_size:]\n",
        "len(X_train), len(y_train), len(X_test), len(y_test)"
      ],
      "metadata": {
        "colab": {
          "base_uri": "https://localhost:8080/"
        },
        "id": "UcZPpMlUcbrA",
        "outputId": "35273d09-f00d-44c3-9af4-672ed2e43303"
      },
      "execution_count": 140,
      "outputs": [
        {
          "output_type": "execute_result",
          "data": {
            "text/plain": [
              "(2224, 2224, 556, 556)"
            ]
          },
          "metadata": {},
          "execution_count": 140
        }
      ]
    },
    {
      "cell_type": "code",
      "source": [
        "# 1. Turn train and test arrays into tensor Datasets\n",
        "train_features_dataset = tf.data.Dataset.from_tensor_slices(X_train)\n",
        "train_labels_dataset = tf.data.Dataset.from_tensor_slices(y_train)\n",
        "\n",
        "test_features_dataset = tf.data.Dataset.from_tensor_slices(X_test)\n",
        "test_labels_dataset = tf.data.Dataset.from_tensor_slices(y_test)\n",
        "\n",
        "# 2. Combine features & labels\n",
        "train_dataset = tf.data.Dataset.zip((train_features_dataset, train_labels_dataset))\n",
        "test_dataset = tf.data.Dataset.zip((test_features_dataset, test_labels_dataset))\n",
        "\n",
        "# 3. Batch and prefetch for optimal performance\n",
        "BATCH_SIZE = 1024 # taken from Appendix D in N-BEATS paper\n",
        "train_dataset = train_dataset.batch(BATCH_SIZE).prefetch(tf.data.AUTOTUNE)\n",
        "test_dataset = test_dataset.batch(BATCH_SIZE).prefetch(tf.data.AUTOTUNE)\n",
        "\n",
        "train_dataset, test_dataset"
      ],
      "metadata": {
        "colab": {
          "base_uri": "https://localhost:8080/"
        },
        "id": "IXCMZoMacczn",
        "outputId": "9bb9561d-d773-4854-b65f-6d6b1bd7f90d"
      },
      "execution_count": 141,
      "outputs": [
        {
          "output_type": "execute_result",
          "data": {
            "text/plain": [
              "(<PrefetchDataset element_spec=(TensorSpec(shape=(None, 7), dtype=tf.float64, name=None), TensorSpec(shape=(None,), dtype=tf.float64, name=None))>,\n",
              " <PrefetchDataset element_spec=(TensorSpec(shape=(None, 7), dtype=tf.float64, name=None), TensorSpec(shape=(None,), dtype=tf.float64, name=None))>)"
            ]
          },
          "metadata": {},
          "execution_count": 141
        }
      ]
    },
    {
      "cell_type": "code",
      "source": [
        "# Values from N-BEATS paper Figure 1 and Table 18/Appendix D\n",
        "N_EPOCHS = 5000 # called \"Iterations\" in Table 18\n",
        "N_NEURONS = 512 # called \"Width\" in Table 18\n",
        "N_LAYERS = 4\n",
        "N_STACKS = 30\n",
        "\n",
        "INPUT_SIZE = WINDOW_SIZE * HORIZON # called \"Lookback\" in Table 18\n",
        "THETA_SIZE = INPUT_SIZE + HORIZON\n",
        "\n",
        "INPUT_SIZE, THETA_SIZE"
      ],
      "metadata": {
        "colab": {
          "base_uri": "https://localhost:8080/"
        },
        "id": "S3nJ3C4QceiV",
        "outputId": "221845d9-666a-433e-be4f-781693418a83"
      },
      "execution_count": 142,
      "outputs": [
        {
          "output_type": "execute_result",
          "data": {
            "text/plain": [
              "(7, 8)"
            ]
          },
          "metadata": {},
          "execution_count": 142
        }
      ]
    },
    {
      "cell_type": "code",
      "source": [
        "# Make tensors\n",
        "tensor_1 = tf.range(10) + 10\n",
        "tensor_2 = tf.range(10)\n",
        "\n",
        "# Subtract\n",
        "subtracted = layers.subtract([tensor_1, tensor_2])\n",
        "\n",
        "# Add\n",
        "added = layers.add([tensor_1, tensor_2])\n",
        "\n",
        "print(f\"Input tensors: {tensor_1.numpy()} & {tensor_2.numpy()}\")\n",
        "print(f\"Subtracted: {subtracted.numpy()}\")\n",
        "print(f\"Added: {added.numpy()}\")"
      ],
      "metadata": {
        "colab": {
          "base_uri": "https://localhost:8080/"
        },
        "id": "YKSDi4gAcg_5",
        "outputId": "75d788ff-3468-4da2-cae8-b183e30c709d"
      },
      "execution_count": 143,
      "outputs": [
        {
          "output_type": "stream",
          "name": "stdout",
          "text": [
            "Input tensors: [10 11 12 13 14 15 16 17 18 19] & [0 1 2 3 4 5 6 7 8 9]\n",
            "Subtracted: [10 10 10 10 10 10 10 10 10 10]\n",
            "Added: [10 12 14 16 18 20 22 24 26 28]\n"
          ]
        }
      ]
    },
    {
      "cell_type": "code",
      "source": [
        " %%time\n",
        "\n",
        "tf.random.set_seed(42)\n",
        "\n",
        "# 1. Setup N-BEATS Block layer\n",
        "nbeats_block_layer = NBeatsBlock(input_size=INPUT_SIZE,\n",
        "                                 theta_size=THETA_SIZE,\n",
        "                                 horizon=HORIZON,\n",
        "                                 n_neurons=N_NEURONS,\n",
        "                                 n_layers=N_LAYERS,\n",
        "                                 name=\"InitialBlock\")\n",
        "\n",
        "# 2. Create input to stacks\n",
        "stack_input = layers.Input(shape=(INPUT_SIZE), name=\"stack_input\")\n",
        "\n",
        "# 3. Create initial backcast and forecast input (backwards predictions are referred to as residuals in the paper)\n",
        "backcast, forecast = nbeats_block_layer(stack_input)\n",
        "# Add in subtraction residual link, thank you to: https://github.com/mrdbourke/tensorflow-deep-learning/discussions/174 \n",
        "residuals = layers.subtract([stack_input, backcast], name=f\"subtract_00\") \n",
        "\n",
        "# 4. Create stacks of blocks\n",
        "for i, _ in enumerate(range(N_STACKS-1)): # first stack is already creted in (3)\n",
        "\n",
        "  # 5. Use the NBeatsBlock to calculate the backcast as well as block forecast\n",
        "  backcast, block_forecast = NBeatsBlock(\n",
        "      input_size=INPUT_SIZE,\n",
        "      theta_size=THETA_SIZE,\n",
        "      horizon=HORIZON,\n",
        "      n_neurons=N_NEURONS,\n",
        "      n_layers=N_LAYERS,\n",
        "      name=f\"NBeatsBlock_{i}\"\n",
        "  )(residuals) # pass it in residuals (the backcast)\n",
        "\n",
        "  # 6. Create the double residual stacking\n",
        "  residuals = layers.subtract([residuals, backcast], name=f\"subtract_{i}\") \n",
        "  forecast = layers.add([forecast, block_forecast], name=f\"add_{i}\")\n",
        "\n",
        "# 7. Put the stack model together\n",
        "model_7 = tf.keras.Model(inputs=stack_input, \n",
        "                         outputs=forecast, \n",
        "                         name=\"model_7_N-BEATS\")\n",
        "\n",
        "# 8. Compile with MAE loss and Adam optimizer\n",
        "model_7.compile(loss=\"mae\",\n",
        "                optimizer=tf.keras.optimizers.Adam(0.001),\n",
        "                metrics=[\"mae\", \"mse\"])\n",
        "\n",
        "# 9. Fit the model with EarlyStopping and ReduceLROnPlateau callbacks\n",
        "model_7.fit(train_dataset,\n",
        "            epochs=N_EPOCHS,\n",
        "            validation_data=test_dataset,\n",
        "            verbose=0, # prevent large amounts of training outputs\n",
        "            # callbacks=[create_model_checkpoint(model_name=stack_model.name)] # saving model every epoch consumes far too much time\n",
        "            callbacks=[tf.keras.callbacks.EarlyStopping(monitor=\"val_loss\", patience=200, restore_best_weights=True),\n",
        "                      tf.keras.callbacks.ReduceLROnPlateau(monitor=\"val_loss\", patience=100, verbose=1)])"
      ],
      "metadata": {
        "id": "9iSWi32ZciTx"
      },
      "execution_count": null,
      "outputs": []
    },
    {
      "cell_type": "code",
      "source": [
        "# Evaluate N-BEATS model on the test dataset\n",
        "model_7.evaluate(test_dataset)"
      ],
      "metadata": {
        "id": "9SMYovmuclG6"
      },
      "execution_count": null,
      "outputs": []
    },
    {
      "cell_type": "code",
      "source": [
        "# Make predictions with N-BEATS model\n",
        "model_7_preds = make_preds(model_7, test_dataset)\n",
        "model_7_preds[:10]"
      ],
      "metadata": {
        "id": "WXofccdyco7q"
      },
      "execution_count": null,
      "outputs": []
    },
    {
      "cell_type": "code",
      "source": [
        "# Evaluate N-BEATS model predictions\n",
        "model_7_results = evaluate_preds(y_true=y_test,\n",
        "                                 y_pred=model_7_preds)\n",
        "model_7_results"
      ],
      "metadata": {
        "id": "4QLnMIyhcpko"
      },
      "execution_count": null,
      "outputs": []
    },
    {
      "cell_type": "code",
      "source": [
        "# Evaluate N-BEATS model predictions\n",
        "model_7_results = evaluate_preds(y_true=y_test,\n",
        "                                 y_pred=model_7_preds)\n",
        "model_7_results"
      ],
      "metadata": {
        "id": "svRSl5Accr2L"
      },
      "execution_count": null,
      "outputs": []
    },
    {
      "cell_type": "code",
      "source": [
        "#ARGGGGG"
      ],
      "metadata": {
        "id": "_--bRY5Pctn9"
      },
      "execution_count": null,
      "outputs": []
    },
    {
      "cell_type": "code",
      "source": [
        ""
      ],
      "metadata": {
        "id": "1wkNW8WscuiD"
      },
      "execution_count": null,
      "outputs": []
    }
  ]
}